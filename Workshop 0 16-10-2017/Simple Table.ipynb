{
 "cells": [
  {
   "cell_type": "code",
   "execution_count": null,
   "metadata": {},
   "outputs": [],
   "source": [
    "## Creazione di un semplice tavolo con 4 gambe e un piano. Le gambe e il piano vengono poi traslati tramite l'operatore T\n",
    "## Per T nel primo gruppo di parentesi va il numero della coordinata che vogliamo modificare, mentre nella seconda, di quanto \n",
    "## la vogliamo traslare ES: leg, T([1])([0.9]) traslo la prima coordinata di 0.9\n",
    "\n",
    "from pyplasm import*\n",
    "\n",
    "leg = CUBOID([0.1,0.1,0.7])    \n",
    "plane = CUBOID([1,1,0.2])\n",
    "table = STRUCT([leg, T([1])([0.9]), leg, T([2])([0.9]), leg, T([1])([-0.9]), leg, T([2,3])([-0.9,0.7]), plane ])\n",
    "VIEW(table)"
   ]
  },
  {
   "cell_type": "code",
   "execution_count": null,
   "metadata": {},
   "outputs": [],
   "source": []
  }
 ],
 "metadata": {
  "kernelspec": {
   "display_name": "Python 2",
   "language": "python",
   "name": "python2"
  },
  "language_info": {
   "codemirror_mode": {
    "name": "ipython",
    "version": 2
   },
   "file_extension": ".py",
   "mimetype": "text/x-python",
   "name": "python",
   "nbconvert_exporter": "python",
   "pygments_lexer": "ipython2",
   "version": "2.7.12"
  }
 },
 "nbformat": 4,
 "nbformat_minor": 2
}
