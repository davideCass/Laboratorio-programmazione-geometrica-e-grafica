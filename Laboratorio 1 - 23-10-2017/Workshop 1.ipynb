{
 "cells": [
  {
   "cell_type": "markdown",
   "metadata": {},
   "source": [
    "# Workshop 1"
   ]
  },
  {
   "cell_type": "markdown",
   "metadata": {},
   "source": [
    "## Cubi colorati: crea cubi colorati uno sopra l'altro"
   ]
  },
  {
   "cell_type": "markdown",
   "metadata": {},
   "source": [
    "(plasm \"  \n",
    "DEF cube = CUBOID:<1,1,1>;  \n",
    "DEF cube1 = cube COLOR CYAN;  \n",
    "DEF cube2 = cube COLOR MAGENTA;  \n",
    "DEF cube3 = cube COLOR YELLOW;  \n",
    "DEF basis = (EMBED:1 ∼ CUBOID):<3,3>;  \n",
    "DEF assembly = cube1 TOP cube2 TOP cube3;  \n",
    "DEF out = basis TOP assembly;  \n",
    "\")   "
   ]
  },
  {
   "cell_type": "code",
   "execution_count": 1,
   "metadata": {},
   "outputs": [
    {
     "name": "stdout",
     "output_type": "stream",
     "text": [
      "Evaluating fenvs.py..\n",
      "...fenvs.py imported in 0.0246567014922 seconds\n"
     ]
    },
    {
     "name": "stderr",
     "output_type": "stream",
     "text": [
      "c:\\program files\\python27\\lib\\site-packages\\larlib\\larstruct.py:233: FutureWarning: comparison to `None` will result in an elementwise object comparison in the future.\n",
      "  self.body = [item for item in data if item != None]\n"
     ]
    },
    {
     "data": {
      "text/plain": [
       "<pyplasm.xgepy.Hpc; proxy of <Swig Object of type 'std::shared_ptr< Hpc > *' at 0x000000000C152480> >"
      ]
     },
     "execution_count": 1,
     "metadata": {},
     "output_type": "execute_result"
    }
   ],
   "source": [
    "from larlib import*\n",
    "from pyplasm import*\n",
    "\n",
    "cube = CUBOID([1,1,1])\n",
    "cube1 = COLOR(CYAN)(cube)\n",
    "cube2 = COLOR(MAGENTA)(cube)\n",
    "cube3 = COLOR(YELLOW)(cube)\n",
    "basis = COMP([EMBED(1),(CUBOID)([3,3])])\n",
    "assembly = TOP([TOP([cube1,cube2]), cube3])\n",
    "VIEW(assembly)"
   ]
  },
  {
   "cell_type": "markdown",
   "metadata": {},
   "source": [
    "![3 cubi colorati uno sopra l'altro](3-cubi-colorati-uno-sopra-l'altro.jpg)"
   ]
  },
  {
   "cell_type": "markdown",
   "metadata": {},
   "source": [
    "# Table and chairs: tavolo con 4 sedie"
   ]
  },
  {
   "cell_type": "markdown",
   "metadata": {},
   "source": [
    "DEF legs = Q:< 0.1,-0.8,0.1 > * Q:< 0.1,-0.8,0.1 > * Q:0.7;  \n",
    "DEF plane = Q:1 * Q:1 * Q:0.2;  \n",
    "DEF table = Legs TOP Plane;  \n",
    "DEF chair = S:<1,2,3>:<0.4,0.4,0.5>:Table;  \n",
    "DEF assembly = chair RIGHT table RIGHT chair UP chair DOWN chair  \n",
    "VRML:assembly:'out.wrl'    "
   ]
  },
  {
   "cell_type": "code",
   "execution_count": 38,
   "metadata": {},
   "outputs": [
    {
     "data": {
      "text/plain": [
       "<pyplasm.xgepy.Hpc; proxy of <Swig Object of type 'std::shared_ptr< Hpc > *' at 0x000000000C2523F0> >"
      ]
     },
     "execution_count": 38,
     "metadata": {},
     "output_type": "execute_result"
    }
   ],
   "source": [
    "from larlib import*\n",
    "\n",
    "legs = INSR(PROD)([QUOTE([0.1,-0.8,0.1]), QUOTE([0.1,-0.8,0.1]), QUOTE([0.7])]) ##INSR estende PROD a 3 argomenti\n",
    "plane = INSR(PROD)([QUOTE([1]), QUOTE([1]), QUOTE([0.2])])\n",
    "table = TOP([legs,plane])\n",
    "chair = S([1,2,3])([0.4,0.4,0.5])(table)\n",
    "assembly = STRUCT([DOWN([UP([RIGHT([LEFT([table,chair]), chair]), chair]), chair])]) \n",
    "VIEW(assembly)"
   ]
  },
  {
   "cell_type": "markdown",
   "metadata": {},
   "source": [
    "![tavolo con 4 sedie](tavolo-con-4-sedie.jpg)"
   ]
  },
  {
   "cell_type": "markdown",
   "metadata": {},
   "source": [
    "## Cilindri di diverse dimensioni e traslati"
   ]
  },
  {
   "cell_type": "markdown",
   "metadata": {},
   "source": [
    "STRUCT:<\n",
    "CYLINDER:<1, 1>:4, T:1:2.5,\n",
    "CYLINDER:<1, 2>:8, T:1:3.5,\n",
    "CYLINDER:<1.5, 3>:16, T:1:4.5,\n",
    "CYLINDER:<1.5, 4>:24\n",
    ">;"
   ]
  },
  {
   "cell_type": "code",
   "execution_count": null,
   "metadata": {},
   "outputs": [],
   "source": [
    "from pyplasm import*\n",
    "assembly = CYLINDER([1,1])\n",
    "assembly = STRUCT([CYLINDER([1,1])(4), T(1)(2.5), CYLINDER([1,2])(8), T(1)(3.5), CYLINDER([1.5,3])(16), T(1)(4.5), CYLINDER([1.5,4])(24)])\n",
    "VIEW(assembly)"
   ]
  },
  {
   "cell_type": "markdown",
   "metadata": {},
   "source": [
    "![](Cilindri-diverse-dimensioni-e-traslati.PNG)"
   ]
  },
  {
   "cell_type": "code",
   "execution_count": null,
   "metadata": {},
   "outputs": [],
   "source": []
  }
 ],
 "metadata": {
  "kernelspec": {
   "display_name": "Python 2",
   "language": "python",
   "name": "python2"
  },
  "language_info": {
   "codemirror_mode": {
    "name": "ipython",
    "version": 2
   },
   "file_extension": ".py",
   "mimetype": "text/x-python",
   "name": "python",
   "nbconvert_exporter": "python",
   "pygments_lexer": "ipython2",
   "version": "2.7.12"
  }
 },
 "nbformat": 4,
 "nbformat_minor": 2
}
