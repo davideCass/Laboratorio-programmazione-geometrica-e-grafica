{
 "cells": [
  {
   "cell_type": "markdown",
   "metadata": {},
   "source": [
    "# Workshop 2"
   ]
  },
  {
   "cell_type": "code",
   "execution_count": 3,
   "metadata": {},
   "outputs": [
    {
     "name": "stdout",
     "output_type": "stream",
     "text": [
      "Evaluating fenvs.py..\n",
      "...fenvs.py imported in 0.0159626197752 seconds\n"
     ]
    },
    {
     "data": {
      "text/plain": [
       "<pyplasm.xgepy.Hpc; proxy of <Swig Object of type 'std::shared_ptr< Hpc > *' at 0x000000000BDACE70> >"
      ]
     },
     "execution_count": 3,
     "metadata": {},
     "output_type": "execute_result"
    }
   ],
   "source": [
    "from pyplasm import*\n",
    "\n",
    "## Creo uno scaffale usando DIFFERENCE tra 2 parallelepipedi e li metto uno sopra l'altro con RIGHT per creare una colonna di scaffali \n",
    "scaffale = CUBOID([0.8,0.8,0.8])\n",
    "rientranza_scaffale = CUBOID([0.7,0.7,0.7])\n",
    "scaffale_completo = COLOR([0.6,0.5,0.4])(DIFFERENCE([scaffale, T([1,2])([0.02,0.02])(rientranza_scaffale)]))\n",
    "colonna_scaffali_1 = STRUCT([RIGHT([RIGHT([scaffale_completo, scaffale_completo]), scaffale_completo]), scaffale_completo])\n",
    "colonna_scaffali_2 = T(2)(0.8)(STRUCT([RIGHT([RIGHT([scaffale_completo, scaffale_completo]), scaffale_completo]), scaffale_completo]))\n",
    "\n",
    "## Creo un'unica struttura libreria con STRUCT \n",
    "libreria = STRUCT([colonna_scaffali_1, colonna_scaffali_2])\n",
    "\n",
    "VIEW(libreria)"
   ]
  },
  {
   "cell_type": "markdown",
   "metadata": {},
   "source": [
    "![](Immagini/libreria.PNG)"
   ]
  },
  {
   "cell_type": "code",
   "execution_count": 7,
   "metadata": {},
   "outputs": [
    {
     "data": {
      "text/plain": [
       "<pyplasm.xgepy.Hpc; proxy of <Swig Object of type 'std::shared_ptr< Hpc > *' at 0x0000000004D5D780> >"
      ]
     },
     "execution_count": 7,
     "metadata": {},
     "output_type": "execute_result"
    }
   ],
   "source": [
    "from pyplasm import*\n",
    "\n",
    "## Creo uno scaffale usando DIFFERENCE tra 2 parallelepipedi e li metto uno sopra l'altro con RIGHT per creare una colonna di scaffali \n",
    "scaffale = CUBOID([0.8,0.8,0.8])\n",
    "rientranza_scaffale = CUBOID([0.7,0.7,0.7])\n",
    "scaffale_completo = COLOR([0.6,0.5,0.4])(DIFFERENCE([scaffale, T([1,2])([0.02,0.02])(rientranza_scaffale)]))\n",
    "colonna_scaffali_1 = STRUCT([RIGHT([RIGHT([scaffale_completo, scaffale_completo]), scaffale_completo]), scaffale_completo])\n",
    "colonna_scaffali_2 = T(2)(0.8)(STRUCT([RIGHT([RIGHT([scaffale_completo, scaffale_completo]), scaffale_completo]), scaffale_completo]))\n",
    "\n",
    "## Creo un'unica struttura libreria con STRUCT \n",
    "libreria = STRUCT([colonna_scaffali_1, colonna_scaffali_2])\n",
    "\n",
    "## CREO LO SCAFFALE SOTTO LA TV\n",
    "scaffale_sottoTV = COLOR(BROWN)(T(2)(1.6)(DIFFERENCE([CUBOID([0.8,2.5,0.8]), T([1,2])([0.05,0.05])(CUBOID([0.7,2.4,0.7]))]))) \n",
    "\n",
    "## CREO LA TV\n",
    "contorno_TV = (T([1,2,3])([0.95,1.85,0.4])(CUBOID([1.5,2,0.1])))\n",
    "base_TV = COLOR(BLACK)(T([1,2,3])([0.75,2.55,0.4])(CUBOID([0.3,0.6,0.3])))\n",
    "schermo = T([1,2,3])([1.1,2,0.4])(COLOR(BLACK)(CUBOID([1,1.8,0.08])))\n",
    "TV = STRUCT([base_TV, COLOR(BLACK)(DIFFERENCE([contorno_TV, schermo]))])\n",
    "\n",
    "VIEW(STRUCT([TV, scaffale_sottoTV]))"
   ]
  },
  {
   "cell_type": "markdown",
   "metadata": {},
   "source": [
    "![](Immagini/mobile-con-tv.PNG)"
   ]
  },
  {
   "cell_type": "code",
   "execution_count": 6,
   "metadata": {},
   "outputs": [
    {
     "data": {
      "text/plain": [
       "<pyplasm.xgepy.Hpc; proxy of <Swig Object of type 'std::shared_ptr< Hpc > *' at 0x000000000B7D9F60> >"
      ]
     },
     "execution_count": 6,
     "metadata": {},
     "output_type": "execute_result"
    }
   ],
   "source": [
    "from pyplasm import*\n",
    "\n",
    "## Creo uno scaffale usando DIFFERENCE tra 2 parallelepipedi e li metto uno sopra l'altro con RIGHT per creare una colonna di scaffali \n",
    "scaffale = CUBOID([0.8,0.8,0.8])\n",
    "rientranza_scaffale = CUBOID([0.7,0.7,0.7])\n",
    "scaffale_completo = COLOR([0.6,0.5,0.4])(DIFFERENCE([scaffale, T([1,2])([0.02,0.02])(rientranza_scaffale)]))\n",
    "colonna_scaffali_1 = STRUCT([RIGHT([RIGHT([scaffale_completo, scaffale_completo]), scaffale_completo]), scaffale_completo])\n",
    "colonna_scaffali_2 = T(2)(0.8)(STRUCT([RIGHT([RIGHT([scaffale_completo, scaffale_completo]), scaffale_completo]), scaffale_completo]))\n",
    "\n",
    "## Creo un'unica struttura libreria con STRUCT \n",
    "libreria = STRUCT([colonna_scaffali_1, colonna_scaffali_2])\n",
    "\n",
    "## CREO LO SCAFFALE SOTTO LA TV\n",
    "scaffale_sottoTV = COLOR(BROWN)(T(2)(1.6)(DIFFERENCE([CUBOID([0.8,2.5,0.8]), T([1,2])([0.05,0.05])(CUBOID([0.7,2.4,0.7]))]))) \n",
    "\n",
    "## CREO LA TV\n",
    "contorno_TV = (T([1,2,3])([0.95,1.85,0.4])(CUBOID([1.5,2,0.1])))\n",
    "base_TV = COLOR(BLACK)(T([1,2,3])([0.75,2.55,0.4])(CUBOID([0.3,0.6,0.3])))\n",
    "schermo = T([1,2,3])([1.1,2,0.4])(COLOR(BLACK)(CUBOID([1,1.8,0.08])))\n",
    "TV = STRUCT([base_TV, COLOR(BLACK)(DIFFERENCE([contorno_TV, schermo]))])\n",
    "\n",
    "## CREO MOBILIO, LA STRUTTURA DELLA SCENA COMPLETA\n",
    "mobilio = STRUCT([ libreria, UP([scaffale_sottoTV, libreria]), TV])\n",
    "VIEW(mobilio)"
   ]
  },
  {
   "cell_type": "markdown",
   "metadata": {},
   "source": [
    "![](Immagini/mobilio-completo.PNG)"
   ]
  },
  {
   "cell_type": "code",
   "execution_count": 74,
   "metadata": {},
   "outputs": [
    {
     "data": {
      "text/plain": [
       "<pyplasm.xgepy.Hpc; proxy of <Swig Object of type 'std::shared_ptr< Hpc > *' at 0x000000000BD9A990> >"
      ]
     },
     "execution_count": 74,
     "metadata": {},
     "output_type": "execute_result"
    }
   ],
   "source": [
    "## creo mobile con vetrina\n",
    "vetrata = T([1,2,3])([0.02,0.02,-0.02])(MATERIAL([0,0,0,0.3,  0,0,0,0.3,  0,0,0,0.5, 0,1,1,0.5, 75])(COLOR([.0,1,1])(CUBOID([1.5,.7,.02]))))\n",
    "manopola_dx = T([1,2,3])([.7,0.05,-0.05])(COLOR([.6,.5,.4])(CUBOID([.08,.08,.08])))\n",
    "manopola_sx = T([1,2,3])([.7,0.6,-0.05])(COLOR([.6,.5,.4])(CUBOID([.08,.08,.08])))\n",
    "\n",
    "vetrina_dx = STRUCT([manopola_dx, vetrata, RIGHT([scaffale_completo, scaffale_completo])])\n",
    "\n",
    "vetrina_sx = STRUCT([manopola_sx, vetrata, RIGHT([scaffale_completo, scaffale_completo])])\n",
    "VIEW(vetrina_dx)\n"
   ]
  },
  {
   "cell_type": "markdown",
   "metadata": {},
   "source": [
    "![](Immagini/vetrina.PNG)"
   ]
  },
  {
   "cell_type": "code",
   "execution_count": 76,
   "metadata": {},
   "outputs": [
    {
     "data": {
      "text/plain": [
       "<pyplasm.xgepy.Hpc; proxy of <Swig Object of type 'std::shared_ptr< Hpc > *' at 0x0000000004D5D0C0> >"
      ]
     },
     "execution_count": 76,
     "metadata": {},
     "output_type": "execute_result"
    }
   ],
   "source": [
    "## aggiungo le vetrine al mobilio \n",
    "mobilio = STRUCT([ DOWN([libreria,vetrina_sx]), UP([scaffale_sottoTV, UP([libreria, vetrina_dx])]), TV])\n",
    "\n",
    "VIEW(mobilio)"
   ]
  },
  {
   "cell_type": "markdown",
   "metadata": {},
   "source": [
    "![](Immagini/mobilio-con-vetrine.PNG)"
   ]
  },
  {
   "cell_type": "code",
   "execution_count": null,
   "metadata": {},
   "outputs": [],
   "source": []
  }
 ],
 "metadata": {
  "kernelspec": {
   "display_name": "Python 2",
   "language": "python",
   "name": "python2"
  },
  "language_info": {
   "codemirror_mode": {
    "name": "ipython",
    "version": 2
   },
   "file_extension": ".py",
   "mimetype": "text/x-python",
   "name": "python",
   "nbconvert_exporter": "python",
   "pygments_lexer": "ipython2",
   "version": "2.7.12"
  }
 },
 "nbformat": 4,
 "nbformat_minor": 2
}
