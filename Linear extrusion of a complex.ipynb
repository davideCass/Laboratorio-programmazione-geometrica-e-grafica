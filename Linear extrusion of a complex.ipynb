{
 "cells": [
  {
   "cell_type": "code",
   "execution_count": 3,
   "metadata": {},
   "outputs": [
    {
     "data": {
      "text/plain": [
       "<pyplasm.xgepy.Hpc; proxy of <Swig Object of type 'std::shared_ptr< Hpc > *' at 0x000000000B8F0150> >"
      ]
     },
     "execution_count": 3,
     "metadata": {},
     "output_type": "execute_result"
    }
   ],
   "source": [
    "## shape: dimensioni dell’array, ovvero una tupla di interi contenente il numero di elementi per ogni dimensione\n",
    "\n",
    "from pyplasm import*\n",
    "from larlib import*\n",
    "\n",
    "def larExtrude1(model,pattern):\n",
    "##Simplicial model extrusion in accord with a 1D pattern \n",
    "    V, FV = model\n",
    "    d, m = len(FV[0]), len(pattern)\n",
    "    coords = list(cumsum([0]+(AA(ABS)(pattern))))    ##AA: apply to all, ABS: valore assoluto\n",
    "    offset, outcells, rangelimit = len(V), [], d*m\n",
    "    for cell in FV:\n",
    "        tube = [v + k*offset for k in range(m+1) for v in cell]\n",
    "        cellTube = [tube[k:k+d+1] for k in range(rangelimit)]\n",
    "        outcells += [reshape(cellTube, newshape=(m,d,d+1)).tolist()]   ##reshape: cambia shape ad un array\n",
    "    outcells = AA(CAT)(TRANS(outcells))                                ##cat: appende sequenze in input, creando in output una singola sequenza\n",
    "    cellGroups = [group for k,group in enumerate(outcells) if pattern[k]>0]\n",
    "    outVertices = [v+[z] for z in coords for v in V]\n",
    "    outModel = outVertices, CAT(cellGroups)\n",
    "    return outModel\n",
    "\n",
    "\n",
    "model = [[0,0],[1,0],[0,1]], [[0,1,2]]\n",
    "pattern = [1]\n",
    "larExtrude1(model,pattern)\n",
    "VIEW(STRUCT(MKPOLS((larExtrude1(model,pattern)))))\n",
    "VIEW(EXPLODE(1.2,2,2)(MKPOLS((larExtrude1(model,pattern)))))\n",
    "pattern = [1]*10\n",
    "VIEW(STRUCT(MKPOLS((larExtrude1(model,pattern)))))"
   ]
  },
  {
   "cell_type": "code",
   "execution_count": 10,
   "metadata": {},
   "outputs": [
    {
     "data": {
      "text/plain": [
       "<pyplasm.xgepy.Hpc; proxy of <Swig Object of type 'std::shared_ptr< Hpc > *' at 0x000000000C714480> >"
      ]
     },
     "execution_count": 10,
     "metadata": {},
     "output_type": "execute_result"
    }
   ],
   "source": []
  },
  {
   "cell_type": "code",
   "execution_count": null,
   "metadata": {},
   "outputs": [],
   "source": []
  }
 ],
 "metadata": {
  "kernelspec": {
   "display_name": "Python 2",
   "language": "python",
   "name": "python2"
  },
  "language_info": {
   "codemirror_mode": {
    "name": "ipython",
    "version": 2
   },
   "file_extension": ".py",
   "mimetype": "text/x-python",
   "name": "python",
   "nbconvert_exporter": "python",
   "pygments_lexer": "ipython2",
   "version": "2.7.12"
  }
 },
 "nbformat": 4,
 "nbformat_minor": 2
}
