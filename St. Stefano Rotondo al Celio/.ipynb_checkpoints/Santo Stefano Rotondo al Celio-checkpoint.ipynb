{
 "cells": [
  {
   "cell_type": "markdown",
   "metadata": {},
   "source": [
    "# Santo Stefano Rotondo al Celio"
   ]
  },
  {
   "cell_type": "code",
   "execution_count": 1,
   "metadata": {},
   "outputs": [
    {
     "name": "stdout",
     "output_type": "stream",
     "text": [
      "Evaluating fenvs.py..\n",
      "...fenvs.py imported in 0.0064511283392 seconds\n"
     ]
    },
    {
     "name": "stderr",
     "output_type": "stream",
     "text": [
      "c:\\program files\\python27\\lib\\site-packages\\larlib\\larstruct.py:233: FutureWarning: comparison to `None` will result in an elementwise object comparison in the future.\n",
      "  self.body = [item for item in data if item != None]\n"
     ]
    }
   ],
   "source": [
    "from larlib import*\n",
    "## doppio ## == NN\n",
    "## Misure di riferimento--(cubito = 0.462 m)   \n",
    "## 1 cubito = 444 mm\n",
    "\n",
    "r0 = 24.0;                  ## ---cubiti; raggio interno del muro interno------\n",
    "r2 = 48.0;                  ##---cubiti; raggio esterno del muro medio--------\n",
    "r3 = 72.0;                  ##---cubiti; raggio esterno del muro esterno------\n",
    "r4 = 88.0;                  ##---cubiti; raggio esterno scale esterne---------\n",
    "\n",
    "wsteps = 10.0;              ##---cubiti; profondita' scale esterne-------\n",
    "nsteps = 10.0;              ##--numero alzate/pedate scale esterne------\n",
    "wstep = wsteps/nsteps;    ##---cubiti; larghezza pedata-------\n",
    "hstep = 1.0/3.0;              ##---cubiti; altezza alzata-------------------\n",
    "hw4 = 29.0;                 ##--cubiti; altezza all'imposta del muro esterno-\n",
    "hbasament = hstep*nsteps;\n",
    "\n",
    "## Mappa cilindrica\n",
    "\n",
    "##DEF cylMap = MAP:[S2 * sin ~ S1, S2 * cos ~ S1, S3];\n",
    "\n",
    "def cylMap():\n",
    "    fx = lambda u: u[1] * sin(u[0])\n",
    "    fy = lambda u: u[1] * cos(u[0])\n",
    "    fz = lambda u: u[2]\n",
    "    return MAP([fx, fy, fz])\n",
    "\n"
   ]
  },
  {
   "cell_type": "markdown",
   "metadata": {},
   "source": [
    "## Scala esterna"
   ]
  },
  {
   "cell_type": "markdown",
   "metadata": {},
   "source": [
    "\n",
    "DEF vdom (h::IsRealPos) = ((EMBED:1 ~ Intervals:(PI*3/24)):3) * QUOTE:<h>;\n",
    "DEF hdom (w::IsRealPos) = (S:2:-1 ~ EMBED:1):(Intervals:(PI*3/24):3 * QUOTE:<w>);\n",
    "\n",
    "DEF steps (w,h::IsRealPos) (n::IsIntPos) = (STRUCT ~ CAT ~ #:n):\n",
    "  < vdom:h, T:3:h, hdom:w, T:2:(-:w) >;\n",
    "\n",
    "DEF hbasament = hstep*nsteps;\n",
    "DEF stair = (MKPOL ~ UKPOL):(steps:<wstep,hstep>:nsteps  \n",
    "              RIGHT (S:2:-1 ~ @2 ~ CUBOID):<PI/24,wsteps,hbasament>);\n",
    "DEF ramp  = cylMap:(T:2:r4:stair);\n",
    "DEF stairs = (STRUCT ~ ##:12):<ramp, R:<1,2>:(PI/6)>;"
   ]
  },
  {
   "cell_type": "code",
   "execution_count": 2,
   "metadata": {},
   "outputs": [
    {
     "data": {
      "text/plain": [
       "<pyplasm.xgepy.Hpc; proxy of <Swig Object of type 'std::shared_ptr< Hpc > *' at 0x000000000DE09FC0> >"
      ]
     },
     "execution_count": 2,
     "metadata": {},
     "output_type": "execute_result"
    }
   ],
   "source": [
    "## Scala esterna\n",
    "\n",
    "def vdom(h):\n",
    "    return PROD([COMP([EMBED(1), INTERVALS(PI*3/24)])(3), QUOTE([h])])\n",
    "\n",
    "def hdom(w):\n",
    "    return COMP([S(2)(-1), EMBED(1)])(PROD([INTERVALS(PI*3/24)(3), QUOTE([w])]))\n",
    "    \n",
    "def steps(w,h):\n",
    "    def steps1(n):\n",
    "        return COMP([STRUCT, CAT, N(n)])([vdom(h), T(3)(h), hdom(w), T(2)(-w)])\n",
    "    return steps1\n",
    "\n",
    "hbasament = hstep * nsteps\n",
    "stair = RIGHT([COMP([MKPOL, UKPOL])(steps(wstep, hstep)(nsteps)), COMP([S(2)(-1), SKEL_2, CUBOID])([PI/24, wsteps, hbasament])])\n",
    "ramp = cylMap()(T(2)(r4)(stair))\n",
    "stairs = STRUCT(NN(12)([ramp, R([1,2])(PI/6)]))\n",
    "\n",
    "VIEW(stairs)"
   ]
  },
  {
   "cell_type": "markdown",
   "metadata": {},
   "source": [
    "## Basamento"
   ]
  },
  {
   "cell_type": "markdown",
   "metadata": {},
   "source": [
    "\n",
    "DEF basisSector = (cylMap ~ EMBED:1):\n",
    "    (Intervals:(2*PI/12):4 * Intervals:(r4 - (wstep*(nsteps - 1))):1);\n",
    "DEF basis = (STRUCT ~ ##:12):<basisSector, R:<1,2>:(2*PI/12)>;\n",
    "DEF basement = (R:<1,2>:(PI/-48) ~ STRUCT):< stairs, T:3:(hstep*nsteps), basis >;"
   ]
  },
  {
   "cell_type": "code",
   "execution_count": 3,
   "metadata": {},
   "outputs": [
    {
     "data": {
      "text/plain": [
       "<pyplasm.xgepy.Hpc; proxy of <Swig Object of type 'std::shared_ptr< Hpc > *' at 0x000000000DEF5EA0> >"
      ]
     },
     "execution_count": 3,
     "metadata": {},
     "output_type": "execute_result"
    }
   ],
   "source": [
    "basisSector = COMP([cylMap(), EMBED(1)])(PROD([INTERVALS(2.0*PI/12.0)(4), INTERVALS(r4 - (wstep*(nsteps - 1.0)))(1)]))\n",
    "basis = COMP([STRUCT, NN(12)])([basisSector, R([1,2])(2.0*PI/12.0)])\n",
    "basement = COMP([R([1,2])(PI/-48.0), STRUCT])([stairs, T(3)(hstep*nsteps), basis])\n",
    "\n",
    "VIEW(basement)"
   ]
  },
  {
   "cell_type": "markdown",
   "metadata": {},
   "source": [
    "## Muro Esterno"
   ]
  },
  {
   "cell_type": "markdown",
   "metadata": {},
   "source": [
    "DEF ExtWall2Da = MKPOL:<<<0,0>,<7,0>,<7,5>,<0,8>,<7,3>,<9,4>,\n",
    "<10.5,1.5>,<10.5,0>,<11,1.5>,<11,3>>,<1..4,<2,8,7,6,5>,<6,7,9,10>>,\n",
    "<<1>,<2>,<3>>> & ((Q ~ #:12):1 * Q:8);\n",
    "DEF ExtWall2Db = MKPOL:<<<0.5,0>,<4,0>,<5,0>,<6,0>,<6,3>,<5.5,3.5>,\n",
    "  <5,3>,<4.5,3.5>,<4,3>,<2,4>,<0,3>,<0,1.5>,<0.5,1.5>>,\n",
    "  <<10,11,12,13>,<1,2,9,10,13>,<2,3,7,8,9>,<3,4,5,6,7>>,<1..4>> \n",
    "&  ((Q ~ #:6):1 * Q:4);\n",
    "DEF ExtWall2D = STRUCT:<ExtWall2Da, T:1:11, ExtWall2Db>;\n",
    "DEF sizxExtWall = SIZE:1:ExtWall2D;\n",
    "\n",
    "DEF ExtWall = R:<2,3>:(PI/2):(ExtWall2D * QUOTE:<1.5>);\n",
    "DEF CurvedExtWall = (cylMap ~ T:2:r3 ~ S:<1,3>:<PI/(4*sizxExtWall),hw4/8>):   ExtWall;\n",
    "DEF DoubleExtWall = STRUCT:<CurvedExtWall, S:1:-1, CurvedExtWall>;\n",
    "DEF FullExtWall = (STRUCT ~ ##:4):<DoubleExtWall, R:<1,2>:(PI/2)>;\n",
    "\n",
    "%\n",
    "STRUCT:<basement, T:3:hbasament, FullExtWall>;\n",
    "%"
   ]
  },
  {
   "cell_type": "code",
   "execution_count": 4,
   "metadata": {},
   "outputs": [
    {
     "data": {
      "text/plain": [
       "<pyplasm.xgepy.Hpc; proxy of <Swig Object of type 'std::shared_ptr< Hpc > *' at 0x000000000DEF5F00> >"
      ]
     },
     "execution_count": 4,
     "metadata": {},
     "output_type": "execute_result"
    }
   ],
   "source": [
    "ExtWall2Da = INTERSECTION([MKPOL([[[0,0], [7,0], [7,5], [0,8], [7,3], [9,4], [10.5, 1.5], [10.5,0], [11, 1.5], [11,3]], \n",
    "                                  [range(1,5), [2,8,7,6,5], [6,7,9,10]], [[1],[2],[3]]]), \n",
    "                           PROD([COMP([QUOTE, N(12)])(1), Q(8)])])\n",
    "ExtWall2Db = INTERSECTION([MKPOL([[[0.5,0], [4,0], [5,0], [6,0], [6,3], [5.5, 3.5], [5,3], [4.5,3.5],[4,3], [2,4], [0,3], \n",
    "                                   [0,1.5], [0.5,1.5]],[[10,11,12,13],[1,2,9,10,13],[2,3,7,8,9],[3,4,5,6,7]], range(1,5)]), \n",
    "                           PROD([COMP([QUOTE, N(6)])(1), Q(4)])])\n",
    "\n",
    "ExtWall2D = STRUCT([ExtWall2Da, T(1)(11), ExtWall2Db])\n",
    "sizxExtWall = SIZE(1)(ExtWall2D)\n",
    "ExtWall = R([2,3])(PI/2)(PROD([ExtWall2D, QUOTE([1.5])]))\n",
    "CurvedExtWall = COMP([cylMap(), T(2)(r3), S([1,3])([PI/(4 * sizxExtWall), hw4/8])])(ExtWall)\n",
    "DoubleExtWall = STRUCT([CurvedExtWall, S(1)(-1), CurvedExtWall])\n",
    "FullExtWall = COMP([STRUCT, NN(4)])([DoubleExtWall, R([1,2])(PI/2)])\n",
    "\n",
    "StrutturaMuroEsterno = STRUCT([basement, T(3)(hbasament), FullExtWall])\n",
    "\n",
    "VIEW(StrutturaMuroEsterno)"
   ]
  },
  {
   "cell_type": "markdown",
   "metadata": {},
   "source": [
    "## Colonne Intermedie"
   ]
  },
  {
   "cell_type": "markdown",
   "metadata": {},
   "source": [
    "\n",
    "DEF Column (w,h::IsRealPos) = basis TOP trunk TOP capitel\n",
    "WHERE\n",
    "  basis = CUBOID:<w,w,2*w/3>,\n",
    "  trunk = CYLINDER:<w/2*0.85, h - w>:8,\n",
    "  capitel = CUBOID:<w,w,w/3>\n",
    "END;\n",
    "DEF arcAngle = 2*PI/50.4;\n",
    "DEF wallAngle = -3.2*arcAngle/4;\n",
    "DEF RotCross = 3.2*arcAngle/4 + 2.5*arcAngle;\n",
    "\n",
    "DEF MyColumn = (MKPOL ~ UKPOL ~ T:2:((r2 - 0.75)) ~ Column):<1.5,hCol>;\n",
    "DEF The4cols = (R:<1,2>:(arcAngle*0.4/3.2) ~ MKPOL ~ UKPOL ~ \n",
    "  STRUCT ~ ##:4):< R:<1,2>:(-:arcAngle), MyColumn >;\n",
    "DEF The5cols = (R:<1,2>:(arcAngle*0.4/3.2) ~ MKPOL ~ UKPOL ~ \n",
    "  STRUCT ~ ##:5):< R:<1,2>:(-:arcAngle), MyColumn >;\n",
    "DEF TheBotWal = (cylMap ~ MKPOL ~ UKPOL ~ T:2:(r2 - 0.75) ~ CUBOID):\n",
    "  < 3.2*arcAngle/4, 1.5, hCol >;\n",
    "DEF TheSecCols = STRUCT:< R:<1,2>:RotCross,\n",
    "  TheBotWal, R:<1,2>:wallAngle, \n",
    "  The4cols, R:<1,2>:(-5*arcAngle), \n",
    "  TheBotWal, R:<1,2>:wallAngle, \n",
    "  The5cols >;\n",
    "DEF TheMedColumns = (STRUCT ~ ##:4):<TheSecCols, R:<1,2>:(PI/-2)>;\n",
    "DEF hCol = 12 ;\n",
    "\n",
    "%\n",
    "STRUCT:<basement, T:3:hbasament, FullExtWall, TheMedColumns >;\n",
    "%"
   ]
  },
  {
   "cell_type": "code",
   "execution_count": 5,
   "metadata": {},
   "outputs": [
    {
     "data": {
      "text/plain": [
       "<pyplasm.xgepy.Hpc; proxy of <Swig Object of type 'std::shared_ptr< Hpc > *' at 0x000000000DEF5A80> >"
      ]
     },
     "execution_count": 5,
     "metadata": {},
     "output_type": "execute_result"
    }
   ],
   "source": [
    "def Column(args):\n",
    "    w,h = args\n",
    "    basis = CUBOID([w,w,2*w/3])\n",
    "    trunk = CYLINDER([w/2*0.85, h-w])(8)\n",
    "    capitel = CUBOID([w,w,w/3.0])\n",
    "    return TOP([TOP([basis, trunk]), capitel])\n",
    "\n",
    "arcAngle = 2.0*PI/50.4\n",
    "wallAngle = -3.2*arcAngle/4.0\n",
    "RotCross = 3.2*arcAngle/4 + 2.5*arcAngle\n",
    "hCol = 12\n",
    "\n",
    "MyColumn = COMP([MKPOL, UKPOL, T(2)(r2 - 0.75), Column])([1.5, hCol])\n",
    "The4Cols = COMP([R([1,2])(arcAngle*0.4/3.2), MKPOL, UKPOL, STRUCT, NN(4)])([R([1,2])(-arcAngle), MyColumn])\n",
    "The5Cols = COMP([R([1,2])(arcAngle*0.4/3.2), MKPOL, UKPOL, STRUCT, NN(5)])([R([1,2])(-arcAngle), MyColumn])\n",
    "TheBotWal = COMP([cylMap(), MKPOL, UKPOL, T(2)(r2 - 0.75), CUBOID])([3.2*arcAngle/4, 1.5, hCol])\n",
    "TheSecCols = STRUCT([R([1,2])(RotCross), TheBotWal, R([1,2])(wallAngle), The4Cols, R([1,2])(-5*arcAngle), \n",
    "                     TheBotWal, R([1,2])(wallAngle), The5Cols])\n",
    "TheMedColumns = COMP([STRUCT, NN(4)])([TheSecCols, R([1,2])(PI/-2)])     ## ripete 4 volte la struttura TheSecCols\n",
    "ColonneIntermedie = STRUCT([StrutturaMuroEsterno, TheMedColumns])\n",
    "\n",
    "VIEW(ColonneIntermedie)"
   ]
  },
  {
   "cell_type": "markdown",
   "metadata": {},
   "source": [
    "## Archi sulle colonne"
   ]
  },
  {
   "cell_type": "markdown",
   "metadata": {},
   "source": [
    "DEF bottomArc (d::IsRealPos) = Bezier:S1:<<0,0>,<0,2*d/3>,<d,2*d/3>,<d,0>>;\n",
    "DEF topArc (d::IsRealPos) = Bezier:S1:<<0,2*d/3>,<d,2*d/3>>;\n",
    "DEF arc2D  (d::IsRealPos) = Bezier:S2:<bottomArc:d,topArc:d>;\n",
    "DEF arc3D  (d::IsRealPos)(w::IsRealPos) = (T:2:w ~ R:<2,3>:(PI/2)):\n",
    "  ( MAP:(CONS:(arc2D:d)):(Intervals:1:8 * Intervals:1:1) * QUOTE:<w> );\n",
    "    \n",
    "DEF Interarc (d1,d2::IsReal)(w::IsRealPos)= CUBOID:<d1,w,2*d2/3>;\n",
    "DEF Xarc (d1,d2::IsRealPos) (w::IsRealPos) = \n",
    "  Interarc:<d1,d2>:w RIGHT arc3D:d2:w RIGHT Interarc:<d1,d2>:w;\n",
    "\n",
    "DEF SizeArc = SIZE:1:TheArc;\n",
    "DEF TheArc = Xarc:<0.4,3.2>:1.5;\n",
    "DEF HeigthArc = SIZE:3:CurvedArc;\n",
    "DEF CurvedArc = (cylMap ~ MKPOL ~ UKPOL ~ T:2:(r2 - 0.75) ~ S:<1,3>:<sx,sz>):TheArc\n",
    "WHERE\n",
    "  sx = (1/SizeArc)*arcAngle,\n",
    "  sz = sx * (r2 - 2)\n",
    "END;\n"
   ]
  },
  {
   "cell_type": "code",
   "execution_count": 6,
   "metadata": {},
   "outputs": [
    {
     "data": {
      "text/plain": [
       "<pyplasm.xgepy.Hpc; proxy of <Swig Object of type 'std::shared_ptr< Hpc > *' at 0x000000000DF8EE40> >"
      ]
     },
     "execution_count": 6,
     "metadata": {},
     "output_type": "execute_result"
    }
   ],
   "source": [
    "def bottomArc(d):\n",
    "    return BEZIER(S1)([[0,0],[0,2.0*d/3.0],[d,2.0*d/3.0],[d,0]])\n",
    "def topArc(d):\n",
    "    return BEZIER(S1)([[0,2*d/3.0], [d,2*d/3.0]])\n",
    "\n",
    "def arc2D(d):\n",
    "    return BEZIER(S2)([bottomArc(d), topArc(d)])\n",
    "\n",
    "def arc3D(d):\n",
    "    def arc3D1(w):\n",
    "        return COMP([T(2)(w), R([2,3])(PI/2)])(PROD([MAP(arc2D(d))(PROD([INTERVALS(1)(8), INTERVALS(1)(1)])), QUOTE([w])]))\n",
    "    return arc3D1\n",
    "\n",
    "def Interarc(d1, d2):\n",
    "    def Interarc1(w):\n",
    "        return CUBOID([d1, 2.0, 2.0*d2/3.0])\n",
    "    return Interarc1\n",
    "\n",
    "def Xarc(d1, d2):\n",
    "    def Xarc1(w):\n",
    "        return RIGHT([RIGHT([Interarc(d1,d2)(w), arc3D(d2)(w)]), Interarc(d1, d2)(w)])\n",
    "    return Xarc1\n",
    "\n",
    "TheArc = Xarc(0.4, 3.2)(1.5)\n",
    "SizeArc = SIZE(1)(TheArc)\n",
    "sx = (1.0/SizeArc)*arcAngle\n",
    "sz = sx * (r2 - 2.0)\n",
    "CurvedArc = COMP([cylMap(), MKPOL, UKPOL, T(2)(r2 - 0.75), S([1,3])([sx, sz])])(TheArc)\n",
    "HeightArc = SIZE(3)(CurvedArc)\n",
    "\n",
    "VIEW(CurvedArc)"
   ]
  },
  {
   "cell_type": "markdown",
   "metadata": {},
   "source": [
    "DEF The5arcs = (MKPOL ~ UKPOL ~ STRUCT ~ ##:5):< CurvedArc, R:<1,2>:(-:arcAngle) >;\n",
    "DEF The6arcs = (MKPOL ~ UKPOL ~ STRUCT ~ ##:6):< CurvedArc, R:<1,2>:(-:arcAngle) >;\n",
    "DEF TheMidWall = (cylMap ~ MKPOL ~ UKPOL ~ T:2:(r2 - 0.75) ~ CUBOID):\n",
    "  <3.2*arcAngle/4, 1.5, HeigthArc>;\n",
    "DEF TheSector = STRUCT:< R:<1,2>:RotCross,\n",
    "  TheMidWall, R:<1,2>:wallAngle, \n",
    "  The5arcs, R:<1,2>:(-5*arcAngle), \n",
    "  TheMidWall, R:<1,2>:wallAngle, \n",
    "  The6arcs >;\n",
    "DEF TheArcs = (STRUCT ~ ##:4):<TheSector, R:<1,2>:(PI/-2)>;\n",
    "DEF TheArcsCols = STRUCT:< TheMedColumns, T:3:hCol, TheArcs >;\n",
    "\n",
    "%\n",
    "STRUCT:<basement, T:3:hbasament, FullExtWall, TheArcsCols >;\n",
    "%"
   ]
  },
  {
   "cell_type": "code",
   "execution_count": 7,
   "metadata": {},
   "outputs": [
    {
     "data": {
      "text/plain": [
       "<pyplasm.xgepy.Hpc; proxy of <Swig Object of type 'std::shared_ptr< Hpc > *' at 0x000000000DF8D270> >"
      ]
     },
     "execution_count": 7,
     "metadata": {},
     "output_type": "execute_result"
    }
   ],
   "source": [
    "The5Arcs = COMP([MKPOL, UKPOL, STRUCT, NN(5)])([CurvedArc, R([1,2])(-arcAngle)])\n",
    "The6Arcs = COMP([MKPOL, UKPOL, STRUCT, NN(6)])([CurvedArc, R([1,2])(-arcAngle)])\n",
    "TheMidWall = COMP([cylMap(), MKPOL, UKPOL, T(2)(r2 - 0.75), CUBOID])([3.2*arcAngle/4.0, 1.5, HeightArc])\n",
    "TheSector = STRUCT([R([1,2])(RotCross), TheMidWall, R([1,2])(wallAngle), The5Arcs, R([1,2])(-5.0*arcAngle), \n",
    "                    TheMidWall, R([1,2])(wallAngle), The6Arcs])\n",
    "TheArcs = COMP([STRUCT, NN(4)])([TheSector, R([1,2])(PI/-2.0)])\n",
    "TheArcsCols = STRUCT([TheMedColumns, T(3)(hCol), TheArcs])\n",
    "\n",
    "VIEW(TheArcsCols)\n",
    "\n",
    "StrutturaArchiSulleColonne = STRUCT([StrutturaMuroEsterno, TheArcsCols])\n",
    "\n",
    "VIEW(StrutturaArchiSulleColonne)"
   ]
  },
  {
   "cell_type": "markdown",
   "metadata": {},
   "source": [
    "## Muro interno superiore"
   ]
  },
  {
   "cell_type": "markdown",
   "metadata": {},
   "source": [
    "DEF MedWall2D = MKPOL:<<<0,4>,<8,4>,<17,4>,<17,5>,<12.5,7.5>,<8,5>,<0,8>>,\n",
    "<<1,2,6,7>,<2,3,4,5,6>>,\n",
    "<<1>,<2>>> & (QUOTE:(#:17:1) * QUOTE:<8>);\n",
    "DEF sizxMedWall = SIZE:1:MedWall2D;\n",
    "\n",
    "DEF MedWall = R:<2,3>:(PI/2):(MedWall2D * QUOTE:<1.5>);\n",
    "DEF CurvedMedWall = (cylMap ~ MKPOL ~ UKPOL ~ \n",
    "    T:2:(r2+0.75) ~ S:<1,3>:<PI/(4*sizxMedWall),hw4/8>):MedWall;\n",
    "\n",
    "DEF DoubleMedWall = STRUCT:<CurvedMedWall, S:1:-1:CurvedMedWall>;\n",
    "DEF FullMedWall = (STRUCT ~ ##:4):<DoubleMedWall, R:<1,2>:(PI/2)>;\n",
    "DEF MedWallArcs = STRUCT:< FullMedWall, TheArcsCols >;\n",
    "\n",
    "%\n",
    "STRUCT:<basement, T:3:hbasament, FullExtWall, MedWallArcs >;\n",
    "%"
   ]
  },
  {
   "cell_type": "code",
   "execution_count": 8,
   "metadata": {},
   "outputs": [
    {
     "data": {
      "text/plain": [
       "<pyplasm.xgepy.Hpc; proxy of <Swig Object of type 'std::shared_ptr< Hpc > *' at 0x000000000DF8D330> >"
      ]
     },
     "execution_count": 8,
     "metadata": {},
     "output_type": "execute_result"
    }
   ],
   "source": [
    "MedWall2D = INTERSECTION([MKPOL([[[0,4],[8,4],[17,4],[17,5],[12.5,7.5],[8,5],[0,8]], [[1,2,6,7],[2,3,4,5,6]], \n",
    "                                 PROD([COMP([QUOTE, N(17)])(1), QUOTE([8])])])])\n",
    "sizxMedWall = SIZE(1)(MedWall2D)\n",
    "MedWall = R([2,3])(PI/2)(PROD([MedWall2D, QUOTE([1.5])]))\n",
    "CurvedMedWall = COMP([cylMap(), MKPOL, UKPOL, T(2)(r2+0.75), S([1,3])([PI/(4.0*sizxMedWall), hw4/8.0])])(MedWall)\n",
    "DoubleMedWall = STRUCT([CurvedMedWall, S(1)(-1)(CurvedMedWall)])\n",
    "FullMedWall = COMP([STRUCT, NN(4)])([DoubleMedWall, R([1,2])(PI/2)])\n",
    "MedWallArcs = STRUCT([FullMedWall, TheArcsCols])\n",
    "StrutturaMuroInternoSuperiore = STRUCT([StrutturaArchiSulleColonne, MedWallArcs])\n",
    "\n",
    "VIEW(StrutturaMuroInternoSuperiore)"
   ]
  },
  {
   "cell_type": "markdown",
   "metadata": {},
   "source": [
    "## Muri laterali della croce"
   ]
  },
  {
   "cell_type": "markdown",
   "metadata": {},
   "source": [
    "DEF CrossWall = (T:1:-1 ~ R:<1,2>:(0.2*arcAngle) ~ \n",
    "  S:3:(hw4/8) ~ CUBOID):<1.5,r3 - r2,5>;\n",
    "DEF SingleWall =  (R:<1,2>:(2.5*arcAngle) ~ T:2:r2):CrossWall;\n",
    "DEF DoubleWall =  STRUCT:< SingleWall, S:1:-1, SingleWall >;\n",
    "DEF CrossWalls = (STRUCT ~ ##:4):<DoubleWall, R:<1,2>:(PI/2)>;\n",
    "\n",
    "%\n",
    "STRUCT:<basement, T:3:hbasament, FullExtWall, MedWallArcs, CrossWalls >;\n",
    "%"
   ]
  },
  {
   "cell_type": "code",
   "execution_count": 9,
   "metadata": {},
   "outputs": [
    {
     "data": {
      "text/plain": [
       "<pyplasm.xgepy.Hpc; proxy of <Swig Object of type 'std::shared_ptr< Hpc > *' at 0x000000000DF8D810> >"
      ]
     },
     "execution_count": 9,
     "metadata": {},
     "output_type": "execute_result"
    }
   ],
   "source": [
    "CrossWall = COMP([T(1)(-1.0), R([1,2])(0.2*arcAngle), S(3)(hw4/8.0), CUBOID])([1.5, r3 - r2, 5.0])\n",
    "SingleWall = COMP([R([1,2])(2.5*arcAngle), T(2)(r2)])(CrossWall)\n",
    "DoubleWall = STRUCT([SingleWall, S(1)(-1), SingleWall])\n",
    "CrossWalls = COMP([STRUCT, NN(4)])([DoubleWall, R([1,2])(PI/2)])\n",
    "\n",
    "VIEW(CrossWalls)\n",
    "\n",
    "StrutturaMuriLateraliCroce = STRUCT([StrutturaMuroInternoSuperiore, CrossWalls])\n",
    "\n",
    "VIEW(StrutturaMuriLateraliCroce)"
   ]
  },
  {
   "cell_type": "markdown",
   "metadata": {},
   "source": [
    "## Tetto sulla croce"
   ]
  },
  {
   "cell_type": "markdown",
   "metadata": {},
   "source": [
    "\n",
    "DEF HalfTetto = MKPOL:<<<0,r2,8>,<8,r2,5>,<8,r3,5>,<0,r3,8>>,<1..4>,<<1>>>;\n",
    "DEF CurvedHalfTetto = (cylMap ~ S:<1,3>:<2.5*arcAngle/8,hw4/8>):HalfTetto;\n",
    "DEF DoubleHalfTetto = STRUCT:<CurvedHalfTetto, S:1:-1:CurvedHalfTetto>;\n",
    "DEF FullTetto = (STRUCT ~ ##:4):<DoubleHalfTetto, R:<1,2>:(PI/-2)>;\n",
    "\n",
    "%\n",
    "STRUCT:<basement, T:3:hbasament, FullExtWall, MedWallArcs, \n",
    "        CrossWalls, FullTetto >;\n",
    "%"
   ]
  },
  {
   "cell_type": "code",
   "execution_count": 10,
   "metadata": {},
   "outputs": [
    {
     "data": {
      "text/plain": [
       "<pyplasm.xgepy.Hpc; proxy of <Swig Object of type 'std::shared_ptr< Hpc > *' at 0x000000000DF8D630> >"
      ]
     },
     "execution_count": 10,
     "metadata": {},
     "output_type": "execute_result"
    }
   ],
   "source": [
    "HalfTetto = MKPOL([[[0,r2,8.0],[8.0,r2,5.0],[8.0,r3,5.0],[0,r3,8.0]], [range(1,5)],[[1]]])\n",
    "CurvedHalfTetto = COMP([cylMap(), S([1,3])([2.5*arcAngle/8.0, hw4/8.0])])(HalfTetto)\n",
    "DoubleHalfTetto = STRUCT([CurvedHalfTetto, S(1)(-1), CurvedHalfTetto])\n",
    "FullTetto = COMP([STRUCT, NN(4)])([DoubleHalfTetto, R([1,2])(PI/-2)])\n",
    "\n",
    "VIEW(FullTetto)\n",
    "VIEW(STRUCT([StrutturaMuriLateraliCroce, FullTetto]))"
   ]
  },
  {
   "cell_type": "markdown",
   "metadata": {},
   "source": [
    "## Muro con triplice apertura"
   ]
  },
  {
   "cell_type": "markdown",
   "metadata": {},
   "source": [
    "DEF CourtWall (d1,d2::IsRealPos) (n1,n2::IsIntPos) = \n",
    "  LeftWall OP TripleHole OP RightWall\n",
    "WHERE\n",
    "  op = ALIGN:<<1,MAX,MIN>,<2,MIN,MIN>>,\n",
    "  LeftWall = ((QUOTE ~ #:n1):(d1/n1)) * CUBOID:<1,h>,\n",
    "  RightWall = ((QUOTE ~ #:n2):(d2/n2)) * CUBOID:<1,h>,\n",
    "  h = SIZE:3:TripleHole,\n",
    "  TripleHole = STRUCT:<column:<w,2>, T:1:(2+w), column:<w,2>> \n",
    "    TOP Xarc:<2,2>:1,\n",
    "  w = 0.7\n",
    "END;\n",
    "%\n",
    "CourtWall:<6,6>:<3,3>\n",
    "%"
   ]
  },
  {
   "cell_type": "code",
   "execution_count": 11,
   "metadata": {},
   "outputs": [
    {
     "data": {
      "text/plain": [
       "<pyplasm.xgepy.Hpc; proxy of <Swig Object of type 'std::shared_ptr< Hpc > *' at 0x000000000DF8DC90> >"
      ]
     },
     "execution_count": 11,
     "metadata": {},
     "output_type": "execute_result"
    }
   ],
   "source": [
    "def CourtWall(d1, d2):\n",
    "    def CourtWall1(n1, n2):\n",
    "        w = 0.7\n",
    "        op = ALIGN([[1, MAX, MIN], [2, MIN, MIN]])\n",
    "        TripleHole = TOP([STRUCT([Column([w,2]), T(1)(2+w), Column([w,2])]), Xarc(2,2)(1)])\n",
    "        h = SIZE(3)(TripleHole)\n",
    "        LeftWall = PROD([COMP([QUOTE, N(n1)])(d1/n1), CUBOID([1,h])])\n",
    "        RightWall = PROD([COMP([QUOTE, N(n2)])(d2/n2), CUBOID([1,h])])\n",
    "        return op([op([LeftWall, TripleHole]), RightWall])\n",
    "    return CourtWall1\n",
    "\n",
    "VIEW(CourtWall(6,6)(3,3))"
   ]
  },
  {
   "cell_type": "markdown",
   "metadata": {},
   "source": [
    "## Muro inferiore cortile interno"
   ]
  },
  {
   "cell_type": "markdown",
   "metadata": {},
   "source": [
    "DEF MyCourtWall = CourtWall:<12,12>:<9,9>;\n",
    "DEF sizxCourtWall = SIZE:1:MyCourtWall;\n",
    "DEF CurvedCourtWall = (optimize ~ \n",
    "    R:<1,2>:(-2.5*arcAngle) ~ mapping ~ T:2:((r3+r2)/2)): MyCourtWall;\n",
    "DEF mapping = (cylMap ~ S:<1,3>:<(7.25*PI/24)*(1/sizxCourtWall),hw4/8>);\n",
    "DEF CrossCourtWall = (STRUCT ~ ##:4):<CurvedCourtWall, R:<1,2>:(PI/2)>;\n",
    "%\n",
    "STRUCT:<FullTetto, CrossWalls, CrossCourtWall >;\n",
    "STRUCT:<basement, T:3:hbasament, FullExtWall, FullTetto, CrossCourtWall,\n",
    "        CrossWalls, MedWallArcs, TheMedColumns>;\n",
    "%"
   ]
  },
  {
   "cell_type": "code",
   "execution_count": 12,
   "metadata": {},
   "outputs": [
    {
     "data": {
      "text/plain": [
       "<pyplasm.xgepy.Hpc; proxy of <Swig Object of type 'std::shared_ptr< Hpc > *' at 0x000000000DF8D8D0> >"
      ]
     },
     "execution_count": 12,
     "metadata": {},
     "output_type": "execute_result"
    }
   ],
   "source": [
    "MyCourtWall = CourtWall(12,12)(9,9)\n",
    "sizxCourtWall = SIZE(1)(MyCourtWall)\n",
    "mapping = COMP([cylMap(), S([1,3])([(7.25*PI/24)*(1.0/sizxCourtWall), hw4/8])])\n",
    "CurvedCourtWall = COMP([OPTIMIZE, R([1,2])(-2.5*arcAngle), mapping, T(2)((r3+r2)/2)])(MyCourtWall)\n",
    "CrossCourtWall = COMP([STRUCT, NN(4)])([CurvedCourtWall, R([1,2])(PI/2)])\n",
    "\n",
    "StructTettoCortile = STRUCT([FullTetto, CrossWalls, CrossCourtWall])\n",
    "\n",
    "VIEW(StructTettoCortile)\n",
    "VIEW(STRUCT([StrutturaMuroEsterno, StructTettoCortile, MedWallArcs, TheMedColumns]))"
   ]
  },
  {
   "cell_type": "markdown",
   "metadata": {},
   "source": [
    "## Coronamento muro cortile interno"
   ]
  },
  {
   "cell_type": "markdown",
   "metadata": {},
   "source": [
    "DEF TopCourtWall2D = MKPOL:<<<0,3.333>,<10,3.333>,<10,4.333>,<5,6.333>,<0,4.333>>,\n",
    "    <1..5>,<<1>>> & (QUOTE:(#:10:1) * QUOTE:<8>);\n",
    "DEF TopCourtWall = R:<2,3>:(PI/2):(TopCourtWall2D * QUOTE:<1>);\n",
    "DEF MyTopCourtWall = TopCourtWall RIGHT TopCourtWall RIGHT TopCourtWall; \n",
    "DEF CurvedTopCourtWall = (R:<1,2>:(-2.5*arcAngle) ~ mapping ~ T:2:((r3+r2+2)/2)): MyTopCourtWall;\n",
    "DEF FullTopCourtWall = (STRUCT ~ ##:4):<CurvedTopCourtWall, R:<1,2>:(PI/2)>;\n",
    "%\n",
    "STRUCT:<FullTetto, CrossWalls, CrossCourtWall, FullTopCourtWall >;\n",
    "\n",
    "STRUCT:<basement, T:3:hbasament, FullExtWall, FullTetto, CrossCourtWall,\n",
    "        CrossWalls, MedWallArcs, TheMedColumns, FullTopCourtWall>;\n",
    "%"
   ]
  },
  {
   "cell_type": "code",
   "execution_count": 13,
   "metadata": {},
   "outputs": [
    {
     "data": {
      "text/plain": [
       "<pyplasm.xgepy.Hpc; proxy of <Swig Object of type 'std::shared_ptr< Hpc > *' at 0x000000000DF8DDE0> >"
      ]
     },
     "execution_count": 13,
     "metadata": {},
     "output_type": "execute_result"
    }
   ],
   "source": [
    "TopCourtWall2D = INTERSECTION([MKPOL([[[0,3.333],[10,3.333],[10,4.333],[5,6.333],[0,4.333]], [range(1,6)],[[1]]]), \n",
    "                               PROD([COMP([QUOTE, N(10)])(1), Q(8)])])\n",
    "TopCourtWall = R([2,3])(PI/2)(PROD([TopCourtWall2D, QUOTE([1])]))\n",
    "MyTopCourtWall = RIGHT([RIGHT([TopCourtWall, TopCourtWall]), TopCourtWall])\n",
    "CurvedTopCourtWall = COMP([R([1,2])(-2.5*arcAngle), mapping, T(2)((r3+r2+2)/2)])(MyTopCourtWall)\n",
    "FullTopCourtWall = COMP([STRUCT, NN(4)])([CurvedTopCourtWall, R([1,2])(PI/2)])\n",
    "TettoCompleto = STRUCT([FullTetto, CrossWalls, CrossCourtWall, FullTopCourtWall])\n",
    "\n",
    "VIEW(TettoCompleto)\n",
    "VIEW(STRUCT([StrutturaMuroEsterno, TettoCompleto, MedWallArcs, TheMedColumns]))"
   ]
  },
  {
   "cell_type": "markdown",
   "metadata": {},
   "source": [
    "## Tetto cortile interno"
   ]
  },
  {
   "cell_type": "markdown",
   "metadata": {},
   "source": [
    "DEF RotWall = 2.5*arcAngle;\n",
    "DEF CourTetto = MKPOL:<<<0,(r3+r2+2)/2,3.333>,<10,(r3+r2+2)/2,3.333>,\n",
    "    <10,r2,4.333>,<0,r2,4.333>,\n",
    "    <0,(r3+r2+2)/2,3.433>,<10,(r3+r2+2)/2,3.433>,\n",
    "    <10,r2,4.433>,<0,r2,4.433> >, <1..8>,<<1>>> \n",
    "& \n",
    "   (QUOTE:(#:10:1) * QUOTE:<(r3+r2+2)/2> * QUOTE:<5>);\n",
    "\n",
    "DEF MyCourTetto = CourTetto RIGHT CourTetto RIGHT CourTetto; \n",
    "DEF CurvedCourTetto = (R:<1,2>:(-:RotWall) ~ mapping): MyCourTetto;\n",
    "DEF FullCourTetto = (STRUCT ~ ##:4):<CurvedCourTetto, R:<1,2>:(PI/2)>;\n",
    "\n",
    "%\n",
    "STRUCT:<FullTetto, CrossWalls, CrossCourtWall, FullTopCourtWall,\n",
    "        FullCourTetto >;\n",
    "STRUCT:<basement, T:3:hbasament, FullExtWall, FullTetto, CrossCourtWall,\n",
    "        CrossWalls, MedWallArcs, TheMedColumns, FullTopCourtWall, FullCourTetto>;\n",
    "%\n"
   ]
  },
  {
   "cell_type": "code",
   "execution_count": 14,
   "metadata": {},
   "outputs": [
    {
     "data": {
      "text/plain": [
       "<pyplasm.xgepy.Hpc; proxy of <Swig Object of type 'std::shared_ptr< Hpc > *' at 0x000000000DF22060> >"
      ]
     },
     "execution_count": 14,
     "metadata": {},
     "output_type": "execute_result"
    }
   ],
   "source": [
    "RotWall = 2.5*arcAngle\n",
    "CourTetto = INTERSECTION([MKPOL([[[0, (r3+r2+2)/2, 3.333],[10,(r3+r2+2)/2,3.333],[10,r2,4.333],[0,r2,4.333],\n",
    "                                  [0,(r3+r2+2)/2,3.433],[10,(r3+r2+2)/2,3.433],[10,r2,4.433],[0,r2,4.433]],\n",
    "                                 [range(1,9)],[[1]]]), INSR(PROD)([COMP([QUOTE, N(10)])(1), QUOTE([(r3+r2+2)/2]), QUOTE([5])])])\n",
    "MyCourTetto = RIGHT([RIGHT([CourTetto, CourTetto]), CourTetto])\n",
    "CurvedCourTetto = COMP([R([1,2])(-RotWall), mapping])(MyCourTetto)\n",
    "FullCourTetto = COMP([STRUCT, NN(4)])([CurvedCourTetto, R([1,2])(PI/2)])\n",
    "\n",
    "VIEW(FullCourTetto)\n",
    "StrutturaTettoCortileInterno = STRUCT([StrutturaMuroEsterno, FullTetto, CrossCourtWall, CrossWalls, MedWallArcs, \n",
    "                                       TheMedColumns, FullTopCourtWall, FullCourTetto])\n",
    "\n",
    "VIEW(StrutturaTettoCortileInterno)"
   ]
  },
  {
   "cell_type": "markdown",
   "metadata": {},
   "source": [
    "## Colonne muro interno"
   ]
  },
  {
   "cell_type": "markdown",
   "metadata": {},
   "source": [
    "DEF Radial22Obj (Obj::IsPol) = \n",
    "  STRUCT:< The20Obj, R:<1,2>:((20*PI)/11), The2Obj >\n",
    "WHERE\n",
    "  The4Obj = (STRUCT ~ ##:4):< Obj, R:<1,2>:(PI/11) >,\n",
    "  The2Obj  = (STRUCT ~ ##:2):< Obj, R:<1,2>:(PI/11) >,\n",
    "  The20Obj = (STRUCT ~ ##:5):< The4Obj, R:<1,2>:((4*PI)/11) >\n",
    "END;\n",
    "\n",
    "DEF InternalCol = (MKPOL ~ UKPOL ~ T:2:((r0 - 2)) ~ Column):<1.5,hCol>;\n",
    "DEF The22Columns = Radial22Obj:InternalCol;"
   ]
  },
  {
   "cell_type": "code",
   "execution_count": 15,
   "metadata": {},
   "outputs": [
    {
     "data": {
      "text/plain": [
       "<pyplasm.xgepy.Hpc; proxy of <Swig Object of type 'std::shared_ptr< Hpc > *' at 0x000000000DF228A0> >"
      ]
     },
     "execution_count": 15,
     "metadata": {},
     "output_type": "execute_result"
    }
   ],
   "source": [
    "def Radial22Obj(obj):\n",
    "    The40Obj = COMP([STRUCT, NN(4)])([obj, R([1,2])(PI/11)])\n",
    "    The20Obj = COMP([STRUCT, NN(2)])([obj, R([1,2])(PI/11)])\n",
    "    The200Obj = COMP([STRUCT, NN(5)])([The40Obj, R([1,2])((4*PI)/11)])\n",
    "    return STRUCT([The200Obj, R([1,2])((20*PI)/11), The20Obj])\n",
    "\n",
    "InternalCol = COMP([MKPOL, UKPOL, T(2)(r0-2), Column])([1.5, hCol])\n",
    "The22Columns = Radial22Obj(InternalCol)\n",
    "\n",
    "VIEW(The22Columns)"
   ]
  },
  {
   "cell_type": "markdown",
   "metadata": {},
   "source": [
    "## Travi muro interno"
   ]
  },
  {
   "cell_type": "markdown",
   "metadata": {},
   "source": [
    "DEF Beam = Q:<-0.5,1.5,2,1.5> * Q:<2.2> * Q:1.5;\n",
    "DEF CurvedBeam = (cylMap ~ T:<2,3>:<(r0 - 2),hcol> ~ S:1:(PI/(11*5)) ):Beam;\n",
    "DEF The22Beams = Radial22Obj:CurvedBeam;\n",
    "\n",
    "%\n",
    "STRUCT:< The22Columns, The22Beams >;\n",
    "\n",
    "STRUCT:<basement, T:3:hbasament, FullExtWall, FullTetto, CrossCourtWall,\n",
    "        CrossWalls, MedWallArcs, TheMedColumns, FullTopCourtWall, \n",
    "        FullCourTetto, The22Columns, The22Beams >;\n",
    "%"
   ]
  },
  {
   "cell_type": "code",
   "execution_count": 16,
   "metadata": {},
   "outputs": [
    {
     "data": {
      "text/plain": [
       "<pyplasm.xgepy.Hpc; proxy of <Swig Object of type 'std::shared_ptr< Hpc > *' at 0x000000000DF22CC0> >"
      ]
     },
     "execution_count": 16,
     "metadata": {},
     "output_type": "execute_result"
    }
   ],
   "source": [
    "Beam = INSR(PROD)([QUOTE([-0.5, 1.5,2,1.5]), QUOTE([2.2]), QUOTE([1.5])])\n",
    "CurvedBeam = COMP([cylMap(), T([2,3])([r0-2, hCol]), S(1)(PI/(11*5))])(Beam)\n",
    "The22Beams = Radial22Obj(CurvedBeam)\n",
    "StructThe22Col = STRUCT([The22Columns, The22Beams])\n",
    "\n",
    "VIEW(StructThe22Col)\n",
    "VIEW(STRUCT([StrutturaTettoCortileInterno, StructThe22Col]))"
   ]
  },
  {
   "cell_type": "markdown",
   "metadata": {},
   "source": [
    "## Muro interno superiore"
   ]
  },
  {
   "cell_type": "markdown",
   "metadata": {},
   "source": [
    "DEF Hwall = STRUCT:<\n",
    "%  QUOTE:<-0.5,1.5,-2,1.5> * QUOTE:<-0.3,1.4> * QUOTE:<2.5*hCol>,\n",
    "  QUOTE:<-2.0,2> * QUOTE:<-0.3,1.4> * QUOTE:<1.5*hCol, -0.5*hcol, 0.5*hcol>\n",
    "%  QUOTE:<-0.5,1.75,-1.5,1.75> * QUOTE:<-0.3,1.4> * QUOTE:<2.5*hCol>,\n",
    "  QUOTE:<-2.25,1.5> * QUOTE:<-0.3,1.4> * QUOTE:<1.5*hCol, -0.5*hcol, 0.5*hcol>\n",
    ">;\n",
    "DEF CurvedHwall = (cylMap ~ T:<2,3>:<(r0 - 2),hcol> ~ S:1:(PI/(11*5)) ):Hwall;\n",
    "DEF The22Hwall = Radial22Obj:CurvedHwall;\n",
    "%\n",
    "STRUCT:< The22Columns, The22Beams, The22Hwall >;\n",
    "\n",
    "STRUCT:<basement, T:3:hbasament, FullExtWall, FullTetto, CrossCourtWall,\n",
    "        CrossWalls, MedWallArcs, TheMedColumns, FullTopCourtWall, \n",
    "        FullCourTetto, The22Columns, The22Beams, The22Hwall >;\n",
    "%"
   ]
  },
  {
   "cell_type": "code",
   "execution_count": 17,
   "metadata": {},
   "outputs": [
    {
     "data": {
      "text/plain": [
       "<pyplasm.xgepy.Hpc; proxy of <Swig Object of type 'std::shared_ptr< Hpc > *' at 0x000000000DEF50C0> >"
      ]
     },
     "execution_count": 17,
     "metadata": {},
     "output_type": "execute_result"
    }
   ],
   "source": [
    "Hwall = STRUCT([INSR(PROD)([QUOTE([-0.5,1.5,-2,1.5]), QUOTE([-0.3,1.4]), QUOTE([2.5*hCol]), QUOTE([-2.0,2]), QUOTE([-0.3,1.4]), \n",
    "                            QUOTE([1.5*hCol,-0.5*hCol,0.5*hCol]), QUOTE([-0.5,1.75,-1.5,1.75]), QUOTE([-0.3,1.4]), \n",
    "                            QUOTE([2.5*hCol]), QUOTE([-2.25,1.5]), QUOTE([-0.3,1.4]), QUOTE([1.5*hCol,-0.5*hCol,0.5*hCol])])])\n",
    "CurvedHwall = COMP([cylMap(), T([2,3])([r0-2,hCol]), S(1)(PI/(11*5))])(Hwall)\n",
    "The22Hwall = Radial22Obj(CurvedHwall)\n",
    "MuroInternoSuperiore = STRUCT([StructThe22Col, The22Hwall])\n",
    "\n",
    "VIEW(STRUCT([StrutturaTettoCortileInterno, MuroInternoSuperiore]))"
   ]
  },
  {
   "cell_type": "markdown",
   "metadata": {},
   "source": [
    "## Coronamento superiore muro interno"
   ]
  },
  {
   "cell_type": "markdown",
   "metadata": {},
   "source": [
    "DEF myArc = MAP:[SIN ~ S1, COS ~ S1]:(QUOTE:(#:5:(PI/10)));\n",
    "DEF Vertex = MKPOL:<<<0,0>>,<<1>>,<<1>>>;\n",
    "DEF Sector = JOIN:<myArc, Vertex>;\n",
    "DEF Triangle = S:1:-1:(SIMPLEX:2);\n",
    "DEF SectorTriangle2D = STRUCT:<T:1:0.05, Sector, T:1:2, Triangle>;\n",
    "DEF DoubleSect = STRUCT:< SectorTriangle2D, S:1:-1:SectorTriangle2D>;\n",
    "DEF Sect2D = S:1:(2/2.05):DoubleSect;\n",
    "DEF Sect3D = R:<2,3>:(PI/2):(Sect2D * QUOTE:<0.8>);\n",
    "DEF CurvedSect = (cylMap ~ T:2:(r0 %- 2%) ~ S:<1,3>:<(2*PI)/(11*4),3> ):Sect3D;\n",
    "DEF Frieze = T:3:(3.5*hcol):CurvedSect;\n",
    "DEF Radial11Obj (Obj::IsPol) = \n",
    "  STRUCT:< The10Obj, R:<1,2>:((20*PI)/11), Obj >\n",
    "WHERE\n",
    "  The2Obj = (STRUCT ~ ##:2):< Obj, R:<1,2>:((2*PI)/11) >,\n",
    "  The10Obj = (STRUCT ~ ##:5):< The2Obj, R:<1,2>:((4*PI)/11) >\n",
    "END;\n",
    "DEF The11Frieze = Radial11Obj:Frieze;\n",
    "\n",
    "%\n",
    "The11Frieze;\n",
    "STRUCT:<basement, T:3:hbasament, FullExtWall, FullTetto, CrossCourtWall,\n",
    "        CrossWalls, MedWallArcs, TheMedColumns, FullTopCourtWall, \n",
    "        FullCourTetto, The22Columns, The22Beams, The22Hwall, The11Frieze >;\n",
    "%"
   ]
  },
  {
   "cell_type": "code",
   "execution_count": 40,
   "metadata": {},
   "outputs": [
    {
     "data": {
      "text/plain": [
       "<pyplasm.xgepy.Hpc; proxy of <Swig Object of type 'std::shared_ptr< Hpc > *' at 0x000000000E05C960> >"
      ]
     },
     "execution_count": 40,
     "metadata": {},
     "output_type": "execute_result"
    }
   ],
   "source": [
    "fx = lambda u: sin(u[0])\n",
    "fy = lambda u: cos(u[0])\n",
    "myArc = MAP([fx, fy])(COMP([QUOTE, N(5)])(PI/10))\n",
    "Vertex = MKPOL([[[0,0]],[[1]],[[1]]])\n",
    "Sector = JOIN([myArc, Vertex])\n",
    "Triangle = S(1)(-1)(SIMPLEX(2))\n",
    "SectorTriangle2D = STRUCT([T(1)(0.05), Sector, T(1)(2), Triangle])\n",
    "DoubleSect = STRUCT([SectorTriangle2D, S(1)(-1)(SectorTriangle2D)])\n",
    "Sect2D = S(1)(2/2.05)(DoubleSect)\n",
    "Sect3D = R([2,3])(PI/2)(PROD([Sect2D, QUOTE([0.8])]))\n",
    "CurvedSect = COMP([cylMap(), T(2)(r0-2), S([1,3])([(2*PI)/(11*4),3])])(Sect3D)\n",
    "Frieze = T(3)(3.5*hCol)(CurvedSect)\n",
    "\n",
    "def Radial11Obj(obj):\n",
    "    The20Obj = COMP([STRUCT, NN(2)])([obj, R([1,2])((2*PI)/11)])\n",
    "    The10Obj = COMP([STRUCT, NN(5)])([The20Obj, R([1,2])((4*PI)/11)])\n",
    "    return STRUCT([The10Obj, R([1,2])((20*PI)/11), obj])\n",
    "\n",
    "The11Frieze = Radial11Obj(Frieze)\n",
    "StrutturaCortileInterno = STRUCT([StrutturaTettoCortileInterno, MuroInternoSuperiore, The11Frieze])\n",
    "\n",
    "VIEW(The11Frieze)\n",
    "VIEW(StrutturaCortileInterno)"
   ]
  },
  {
   "cell_type": "markdown",
   "metadata": {},
   "source": [
    "## Traliccio tetto interno"
   ]
  },
  {
   "cell_type": "markdown",
   "metadata": {},
   "source": [
    "DEF Trellis (H,L::IsRealPos) = (R:<2,3>:(PI/2) ~ EMBED:1 ~ MKPOL):\n",
    "  <<<0,0>,<L/3,0>,<2*L/3,0>,<L,0>,<2*L/3,H/3>,<L/3,2*H/3>,<0,H>>,\n",
    "   <<1,2>,<2,3>,<3,4>,<4,5>,<5,6>,<6,7>,<7,1>,<1,6>,<6,2>,<2,5>,<5,3>>,\n",
    "   <1..11> > ;\n",
    "DEF Radial (n::IsIntPos)(obj::IsPol) = (STRUCT ~ ##:3):\n",
    "   <(STRUCT ~ ##:(n/3)):< obj, R:<1,2>:(2*PI/n) >, R:<1,2>:(2*PI/3)>;\n",
    "\n",
    "DEF TrellisTop3D = (T:2:-0.25 ~ S:2:0.5 ~ OffSet:<1,1,1> ~ Trellis):<hcol,r0 - 1>;\n",
    "DEF TheTopTrellis = T:3:(3.5*hcol):TrellisTop3D;\n",
    "DEF TopTrellis = Radial:12:TheTopTrellis;\n",
    "%\n",
    "STRUCT:< The11Frieze, TopTrellis >;\n",
    "\n",
    "STRUCT:<basement, T:3:hbasament, FullExtWall, FullTetto, CrossCourtWall,\n",
    "        CrossWalls, MedWallArcs, TheMedColumns, FullTopCourtWall, \n",
    "        FullCourTetto, The22Columns, The22Beams, The22Hwall, \n",
    "        The11Frieze, TopTrellis >;\n",
    "%"
   ]
  },
  {
   "cell_type": "code",
   "execution_count": 58,
   "metadata": {},
   "outputs": [
    {
     "data": {
      "text/plain": [
       "<pyplasm.xgepy.Hpc; proxy of <Swig Object of type 'std::shared_ptr< Hpc > *' at 0x000000002C6D99C0> >"
      ]
     },
     "execution_count": 58,
     "metadata": {},
     "output_type": "execute_result"
    }
   ],
   "source": [
    "def Trellis(args):\n",
    "    H,L = args\n",
    "    return COMP([R([2,3])(PI/2), EMBED(1), MKPOL])([[[0,0], [L/3.0,0],[2*L/3.0,0], [L,0], [2*L/3.0,H/3.0], [L/3.0,2*H/3.0], [0,H]], \n",
    "                 [[1,2], [2,3], [3,4], [4,5], [5,6], [6,7], [7,1], [1,6], [6,2], [2,5], [5,3]], [range(1,12)]])\n",
    "\n",
    "def Radial(n):\n",
    "    def Radial1(obj):\n",
    "        return COMP([STRUCT, NN(3)])([COMP([STRUCT, NN(n/3)])([obj, R([1,2])(2*PI/n)]), R([1,2])(2*PI/3)])\n",
    "    return Radial1\n",
    "\n",
    "TrellisTop3D = COMP([T(2)(-0.25), S(2)(0.5), OFFSET([1,1,1]), Trellis])([hCol, r0-1])\n",
    "TheTopTrellis = T(3)(3.5*hCol)(TrellisTop3D)\n",
    "TopTrellis = Radial(12)(TheTopTrellis)\n",
    "TraliccioTettoInterno = STRUCT([The11Frieze, TopTrellis])\n",
    "StrutturaTraliccioTettoInterno = STRUCT([StrutturaTettoCortileInterno, MuroInternoSuperiore, TraliccioTettoInterno])\n",
    "\n",
    "VIEW(TraliccioTettoInterno)\n",
    "VIEW(StrutturaTraliccioTettoInterno)"
   ]
  },
  {
   "cell_type": "markdown",
   "metadata": {},
   "source": [
    "## Traliccio tetto intermedio"
   ]
  },
  {
   "cell_type": "markdown",
   "metadata": {},
   "source": [
    "DEF TrellisMed3D = (T:2:-0.25 ~ S:2:0.5 ~ OffSet:<1,1,1> ~ Trellis):<hcol,r2 - r0>;\n",
    "DEF TheMedTrellis = T:3:(hcol+3):TrellisMed3D;\n",
    "DEF MedTrellis = Radial:24:(T:1:r0:TheMedTrellis);\n",
    "DEF DoubleMedTrellis = STRUCT:<MedTrellis, R:<1,2>:(PI/24), MedTrellis>;\n",
    "\n",
    "\n",
    "%---------------------------------------------------------------------\n",
    "DEF out = (CenteredCameras ~ STRUCT):\n",
    "  <basement, T:3:hbasament, FullExtWall, FullTetto, CrossCourtWall,\n",
    "        CrossWalls, MedWallArcs, TheMedColumns, FullTopCourtWall, \n",
    "        FullCourTetto, The22Columns, The22Beams, The22Hwall, \n",
    "        The11Frieze, TopTrellis , DoubleMedTrellis >;\n",
    "---------------------------------------------------------------------%\n",
    "\n",
    "DEF out = STRUCT:\n",
    "  <basement, T:3:hbasament, FullExtWall, FullTetto, CrossCourtWall,\n",
    "        CrossWalls, MedWallArcs, TheMedColumns, FullTopCourtWall, \n",
    "        FullCourTetto, The22Columns, The22Beams, The22Hwall, \n",
    "        The11Frieze, TopTrellis , DoubleMedTrellis >;"
   ]
  },
  {
   "cell_type": "code",
   "execution_count": null,
   "metadata": {},
   "outputs": [],
   "source": [
    "TrellisMed3D = COMP([T(2)(-0.25), S(2)(0.5), OFFSET([1,1,1]), Trellis])([hCol, r2-r0])\n",
    "TheMedTrellis = T(3)(hCol+3)(TrellisMed3D)\n",
    "MedTrellis = Radial(24)(T(1)(r0)(TheMedTrellis))\n",
    "DoubleMedTrellis = STRUCT([MedTrellis, R([1,2])(PI/24), MedTrellis])\n",
    "StrutturaCompleta = STRUCT([StrutturaTraliccioTettoInterno, DoubleMedTrellis])\n",
    "\n",
    "VIEW(DoubleMedTrellis)\n",
    "VIEW(StrutturaCompleta)"
   ]
  },
  {
   "cell_type": "markdown",
   "metadata": {},
   "source": [
    "![](Immagini/StrutturaCompleta.PNG)"
   ]
  },
  {
   "cell_type": "code",
   "execution_count": null,
   "metadata": {},
   "outputs": [],
   "source": []
  }
 ],
 "metadata": {
  "kernelspec": {
   "display_name": "Python 2",
   "language": "python",
   "name": "python2"
  },
  "language_info": {
   "codemirror_mode": {
    "name": "ipython",
    "version": 2
   },
   "file_extension": ".py",
   "mimetype": "text/x-python",
   "name": "python",
   "nbconvert_exporter": "python",
   "pygments_lexer": "ipython2",
   "version": "2.7.12"
  }
 },
 "nbformat": 4,
 "nbformat_minor": 2
}
