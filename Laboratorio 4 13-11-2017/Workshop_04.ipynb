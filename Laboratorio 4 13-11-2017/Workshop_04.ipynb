{
 "cells": [
  {
   "cell_type": "markdown",
   "metadata": {},
   "source": [
    "# WORKSHOP_04"
   ]
  },
  {
   "cell_type": "markdown",
   "metadata": {},
   "source": [
    "## Colonna"
   ]
  },
  {
   "cell_type": "markdown",
   "metadata": {},
   "source": [
    "DEF columna (dm, h, h_base::isReal ) = base TOP  \n",
    "torus_bot TOP cylndr TOP torus_top TOP capital  \n",
    "TOP base_top  \n",
    "WHERE  \n",
    "cylndr = (JOIN∼TRUNCONE:<dm/2, 0.8*dm/2, h>):24,  \n",
    "torus_bot = (JOIN∼TORUS:<dm/12,dm/2>):<8,24>,  \n",
    "torus_top = (JOIN∼TORUS:<0.8*(dm/12), 0.8 * (dm/2)>):<8,24> ,  \n",
    "base = (T:<1,2>:<7*dm/-12, 7*dm/-12> ∼ CUBOID ):<7*dm/6, 7*dm/6, h_base>,  \n",
    "base_top = (T:<1,2>:<7*dm/-12, 7*dm/-12> ∼CUBOID):<7*dm/6, 7*dm/6, dm/6>,  \n",
    "capital = (JOIN ∼ TRUNCONE:< 0.8*dm/2, 1.2*dm/2, h/8>):4 + (R:<1,2>:(PI/4) ∼ JOIN ∼TRUNCONE:<0.8*dm/2,1.2*dm/2,h/8>):4  \n",
    "END ;  "
   ]
  },
  {
   "cell_type": "code",
   "execution_count": 1,
   "metadata": {},
   "outputs": [
    {
     "name": "stdout",
     "output_type": "stream",
     "text": [
      "Evaluating fenvs.py..\n",
      "...fenvs.py imported in 0.0160874461995 seconds\n"
     ]
    },
    {
     "name": "stderr",
     "output_type": "stream",
     "text": [
      "c:\\program files\\python27\\lib\\site-packages\\larlib\\larstruct.py:233: FutureWarning: comparison to `None` will result in an elementwise object comparison in the future.\n",
      "  self.body = [item for item in data if item != None]\n"
     ]
    },
    {
     "name": "stdout",
     "output_type": "stream",
     "text": [
      "Child 3\n",
      "Child 3\n"
     ]
    },
    {
     "data": {
      "text/plain": [
       "<pyplasm.xgepy.Hpc; proxy of <Swig Object of type 'std::shared_ptr< Hpc > *' at 0x000000000E04D930> >"
      ]
     },
     "execution_count": 1,
     "metadata": {},
     "output_type": "execute_result"
    }
   ],
   "source": [
    "from larlib import*\n",
    "\n",
    "def columna(dm, h, h_base):\n",
    "    cylindr = JOIN(TRUNCONE([dm/2, 0.8*dm/2, h])(24))\n",
    "    torus_bot = JOIN(TORUS([dm/12, dm/2])([8,24]))\n",
    "    torus_top = JOIN(TORUS([0.8*(dm/12),0.8*(dm/2)])([8,24]))\n",
    "    base = T([1,2])([7*dm/-12, 7*dm/-12])(CUBOID([7*dm/6, 7*dm/6, h_base]))\n",
    "    base_top = T([1,2])([7*dm/-12, 7*dm/-12])(CUBOID([7*dm/6, 7*dm/6, dm/6]))\n",
    "    capital = STRUCT([JOIN(TRUNCONE([0.8*dm/2, 1.2*dm/2, h/8])(4)), R([1,2])(PI/4)(JOIN(TRUNCONE([0.8*dm/2, 1.2*dm/2, h/8])(4)))])\n",
    "    return TOP([TOP([TOP([TOP([TOP([base, torus_bot]), cylindr]), torus_top]), capital]), base_top])\n",
    "\n",
    "VIEW(columna(1.5,5,0.2))"
   ]
  },
  {
   "cell_type": "markdown",
   "metadata": {},
   "source": [
    "![](Immagini/colonna.PNG)"
   ]
  },
  {
   "cell_type": "code",
   "execution_count": null,
   "metadata": {},
   "outputs": [],
   "source": []
  }
 ],
 "metadata": {
  "kernelspec": {
   "display_name": "Python 2",
   "language": "python",
   "name": "python2"
  },
  "language_info": {
   "codemirror_mode": {
    "name": "ipython",
    "version": 2
   },
   "file_extension": ".py",
   "mimetype": "text/x-python",
   "name": "python",
   "nbconvert_exporter": "python",
   "pygments_lexer": "ipython2",
   "version": "2.7.12"
  }
 },
 "nbformat": 4,
 "nbformat_minor": 2
}
