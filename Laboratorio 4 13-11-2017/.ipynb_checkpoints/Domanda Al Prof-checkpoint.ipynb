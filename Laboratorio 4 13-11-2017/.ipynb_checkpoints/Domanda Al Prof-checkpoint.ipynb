{
 "cells": [
  {
   "cell_type": "markdown",
   "metadata": {},
   "source": [
    "# Arco"
   ]
  },
  {
   "cell_type": "markdown",
   "metadata": {},
   "source": [
    "DEF ArchSurface(rr, w::isreal) =   \n",
    "Bezier:S2:<Circle0, Circle1>  \n",
    "WHERE  \n",
    "Circle0 = <K:rr * cos ∼ S1, K:rr * sin ∼ S1>,                                     ## S1 e S2 ?????????\n",
    "Circle1 = <K:(rr - w) * cos ∼ S1, K:(rr - w) * sin ∼ S1>  \n",
    "END;  \n",
    "\n",
    "DEF Arch(length, w, depth::isreal)(angle::isreal) =  \n",
    "(T:3:(-:ceiling) ∼ MAP : SolidMap ) : domain3D  \n",
    "WHERE  \n",
    "radius = (length/2) / cos:(angle/2),  \n",
    "ceiling = MIN : 2 : ( MAP : ArchSurf2D : domain2D ),  \n",
    "domain2D = (T : 1 : ( angle /2) ∼ intervals : ( PI - angle)) : 16 * q : 1,  \n",
    "domain3D = domain2D * q : 1,                                                        ## q ???????\n",
    "SolidMap = Bezier : S3:<Surf3D0 , Surf3D1 >,  \n",
    "ArchSurf2D = ArchSurface :<radius, w>,  \n",
    "Surf3D 0 = K : 0 AL ArchSurf2D,  \n",
    "Surf3D 1 = K : depth AL ArchSurf2D  \n",
    "END;  "
   ]
  },
  {
   "cell_type": "code",
   "execution_count": null,
   "metadata": {},
   "outputs": [
    {
     "name": "stdout",
     "output_type": "stream",
     "text": [
      "Evaluating fenvs.py..\n",
      "...fenvs.py imported in 0.00671946515088 seconds\n"
     ]
    },
    {
     "name": "stderr",
     "output_type": "stream",
     "text": [
      "c:\\program files\\python27\\lib\\site-packages\\larlib\\larstruct.py:233: FutureWarning: comparison to `None` will result in an elementwise object comparison in the future.\n",
      "  self.body = [item for item in data if item != None]\n"
     ]
    }
   ],
   "source": [
    "from larlib import*\n",
    "\n",
    "def ArchSurface(rr, w):\n",
    "    Circle0 = lambda (S1, S2): [K(rr * cos(S1)), K(rr * sin(S1))]\n",
    "    Circle1 = lambda (S1, S2): [K((rr - w) * cos)(S1), K((rr - w) * sin)(S1)]\n",
    "    return BEZIER(S2)([Circle0, Circle1])\n",
    "\n",
    "def Arch(length, w, depth, angle):\n",
    "    radius = (length/2) / cos(angle/2)\n",
    "    domain2D = T(1)(angle/2)(PROD([INTERVALS(PI - angle)(16), Q(1)]))\n",
    "    domain3D = PROD([domain2D, Q(1)])\n",
    "    ArchSurf2D = ArchSurface(radius, w)\n",
    "    Surf3D_0 = AL([K(0), ArchSurf2D])\n",
    "    Surf3D_1 = AL([K(depth), ArchSurf2D])\n",
    "    SolidMap = BEZIER(S3)([Surf3D_0, Surf3D_1])\n",
    "    ##ceiling = MIN(2)(MAP(ArchSurf2D)(domain2D))\n",
    "    return T(3)(2)(MAP(SolidMap)(domain3D))\n",
    "\n",
    "VIEW(Arch(3,1,1,45))"
   ]
  },
  {
   "cell_type": "code",
   "execution_count": 3,
   "metadata": {},
   "outputs": [
    {
     "ename": "TypeError",
     "evalue": "in method 'Plasm_view', argument 1 of type 'std::shared_ptr< Hpc >'",
     "output_type": "error",
     "traceback": [
      "\u001b[1;31m---------------------------------------------------------------------------\u001b[0m",
      "\u001b[1;31mTypeError\u001b[0m                                 Traceback (most recent call last)",
      "\u001b[1;32m<ipython-input-3-dbf12805512c>\u001b[0m in \u001b[0;36m<module>\u001b[1;34m()\u001b[0m\n\u001b[0;32m      6\u001b[0m     \u001b[1;32mreturn\u001b[0m \u001b[0mBEZIER\u001b[0m\u001b[1;33m(\u001b[0m\u001b[0mS2\u001b[0m\u001b[1;33m)\u001b[0m\u001b[1;33m(\u001b[0m\u001b[1;33m[\u001b[0m\u001b[0mCircle0\u001b[0m\u001b[1;33m,\u001b[0m \u001b[0mCircle1\u001b[0m\u001b[1;33m]\u001b[0m\u001b[1;33m)\u001b[0m\u001b[1;33m\u001b[0m\u001b[0m\n\u001b[0;32m      7\u001b[0m \u001b[1;33m\u001b[0m\u001b[0m\n\u001b[1;32m----> 8\u001b[1;33m \u001b[0mVIEW\u001b[0m\u001b[1;33m(\u001b[0m\u001b[0mArchSurface\u001b[0m\u001b[1;33m(\u001b[0m\u001b[1;36m1\u001b[0m\u001b[1;33m,\u001b[0m\u001b[1;36m1\u001b[0m\u001b[1;33m)\u001b[0m\u001b[1;33m)\u001b[0m\u001b[1;33m\u001b[0m\u001b[0m\n\u001b[0m",
      "\u001b[1;32mc:\\program files\\python27\\lib\\site-packages\\pyplasm\\fenvs.py\u001b[0m in \u001b[0;36mVIEW\u001b[1;34m(obj, Background)\u001b[0m\n\u001b[0;32m    923\u001b[0m \u001b[1;33m\u001b[0m\u001b[0m\n\u001b[0;32m    924\u001b[0m \u001b[1;32mdef\u001b[0m \u001b[0mVIEW\u001b[0m \u001b[1;33m(\u001b[0m\u001b[0mobj\u001b[0m\u001b[1;33m,\u001b[0m\u001b[0mBackground\u001b[0m\u001b[1;33m=\u001b[0m\u001b[0mTrue\u001b[0m\u001b[1;33m)\u001b[0m\u001b[1;33m:\u001b[0m\u001b[1;33m\u001b[0m\u001b[0m\n\u001b[1;32m--> 925\u001b[1;33m         \u001b[0mPlasm\u001b[0m\u001b[1;33m.\u001b[0m\u001b[0mview\u001b[0m\u001b[1;33m(\u001b[0m\u001b[0mobj\u001b[0m\u001b[1;33m)\u001b[0m\u001b[1;33m\u001b[0m\u001b[0m\n\u001b[0m\u001b[0;32m    926\u001b[0m         \u001b[1;31m#QtVIEW(obj)\u001b[0m\u001b[1;33m\u001b[0m\u001b[1;33m\u001b[0m\u001b[0m\n\u001b[0;32m    927\u001b[0m \u001b[1;33m\u001b[0m\u001b[0m\n",
      "\u001b[1;31mTypeError\u001b[0m: in method 'Plasm_view', argument 1 of type 'std::shared_ptr< Hpc >'"
     ]
    }
   ],
   "source": [
    "\n",
    "from larlib import*\n",
    "\n",
    "def ArchSurface(rr, w):\n",
    "    Circle0 = ([K(rr * cos(S1)), K(rr * sin(S1))])\n",
    "    Circle1 = ([K((rr - w) * cos)(S1), K((rr - w) * sin)(S1)])\n",
    "    return BEZIER(S2)([Circle0, Circle1])\n",
    "\n",
    "VIEW(ArchSurface(1,1))"
   ]
  },
  {
   "cell_type": "markdown",
   "metadata": {},
   "source": [
    "## Cupola\n"
   ]
  },
  {
   "cell_type": "markdown",
   "metadata": {},
   "source": [
    "DEF HalfSphere(r : : IsRealPos ) =  \n",
    "<fx , fy , fz>  \n",
    "WHERE  \n",
    "fx = K : r * - ∼ SIN ∼ S2 * COS ∼ S1 ,  \n",
    "fy = K : r * COS ∼ S1 * COS ∼ S2 ,  \n",
    "fz = K : r * SIN ∼ S1  \n",
    "END ;  \n",
    "\n",
    "DEF Dome(n::isnat)(length, w, angle::isreal) =  \n",
    "(T:3:(-:ceiling) ∼ MAP : SolidMap ) : domain3D  \n",
    "WHERE  \n",
    "radius = length/(2 * cos : angle) ,  \n",
    "ceiling = MIN : 3 : dome1 ,                                        ## dome1 ??????????\n",
    "SolidMap = Bezier : S3:<Surf3D_0 , Surf3D_1 >,  \n",
    "Surf3D_0 = HalfSphere : radius,   \n",
    "Surf3D_1 = HalfSphere : (radius - w) ,  \n",
    "domain2D = (T : 1 : ( angle ) ∼ Intervals : ( PI - angle)): 12 * Intervals : ( 2 *PI) : n ,  \n",
    "domain3D = domain2D * q : 1                                      ## q ????????????\n",
    "END ;  "
   ]
  },
  {
   "cell_type": "code",
   "execution_count": null,
   "metadata": {},
   "outputs": [],
   "source": [
    "from larlib import*\n",
    "\n",
    "def HalfSphere(r):\n",
    "    fx = lambda K: r * (-sin(K[1])) * cos(K[0])\n",
    "    fy = lambda K: r * cos(K[0]) * cos(K[1])\n",
    "    fz = lambda K: r * sin(K[0])\n",
    "    return CONS([fx, fy, fz])\n",
    "\n",
    "\n",
    "def Dome(n, length, w, angle):\n",
    "    radius = length/(2 * cos(angle))\n",
    "    ##ceiling = lambda dome1: MIN(3)(dome1[0])\n",
    "    Surf3D0 = HalfSphere(radius)\n",
    "    Surf3D1 = HalfSphere(radius - w)\n",
    "    SolidMap = BEZIER(S3)([Surf3D0, Surf3D1])\n",
    "    domain2D = PROD([T(1)(angle)(INTERVALS(PI - angle)(12)), INTERVALS(2 * PI)(n)])  ##T(1)(angle)\n",
    "    domain3D = PROD([domain2D, Q(1)])\n",
    "    mapping = MAP(SolidMap)(domain3D)\n",
    "    return T(3)(-3)(mapping)\n",
    "\n",
    "VIEW(Dome(32, 2, 45, PI))"
   ]
  }
 ],
 "metadata": {
  "kernelspec": {
   "display_name": "Python 2",
   "language": "python",
   "name": "python2"
  },
  "language_info": {
   "codemirror_mode": {
    "name": "ipython",
    "version": 2
   },
   "file_extension": ".py",
   "mimetype": "text/x-python",
   "name": "python",
   "nbconvert_exporter": "python",
   "pygments_lexer": "ipython2",
   "version": "2.7.12"
  }
 },
 "nbformat": 4,
 "nbformat_minor": 2
}
