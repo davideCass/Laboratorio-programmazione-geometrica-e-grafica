{
 "cells": [
  {
   "cell_type": "markdown",
   "metadata": {},
   "source": [
    "## Definizione circonferenza"
   ]
  },
  {
   "cell_type": "code",
   "execution_count": 1,
   "metadata": {},
   "outputs": [],
   "source": [
    "## la funzione MAP(funzione)(dominio) applica una funzione vettoriale ai vertici di un intervallo, o dominio, rappresentato da\n",
    "## vettori: x = lambda p: r*cos(p[0]) dove p è un punto della circonferenza"
   ]
  },
  {
   "cell_type": "code",
   "execution_count": 3,
   "metadata": {},
   "outputs": [
    {
     "data": {
      "text/plain": [
       "<function __main__.<lambda>>"
      ]
     },
     "execution_count": 3,
     "metadata": {},
     "output_type": "execute_result"
    }
   ],
   "source": [
    "x = lambda p: cos(p[0])            ## funzioni lambda: funzioni anonime\n",
    "x"
   ]
  },
  {
   "cell_type": "code",
   "execution_count": 7,
   "metadata": {},
   "outputs": [
    {
     "data": {
      "text/plain": [
       "<function __main__.<lambda>>"
      ]
     },
     "execution_count": 7,
     "metadata": {},
     "output_type": "execute_result"
    }
   ],
   "source": [
    "y = lambda p: sin(p[0])\n",
    "y"
   ]
  },
  {
   "cell_type": "code",
   "execution_count": 9,
   "metadata": {},
   "outputs": [
    {
     "data": {
      "text/plain": [
       "<pyplasm.xgepy.Hpc; proxy of <Swig Object of type 'std::shared_ptr< Hpc > *' at 0x000000000C67A060> >"
      ]
     },
     "execution_count": 9,
     "metadata": {},
     "output_type": "execute_result"
    }
   ],
   "source": [
    "from larlib import*\n",
    "dom = INTERVALS(2*PI)(32)\n",
    "VIEW(MAP([x,y])(dom))        ## applico le funzioni delle coordinate x e y al dominio dom"
   ]
  },
  {
   "cell_type": "code",
   "execution_count": 10,
   "metadata": {},
   "outputs": [
    {
     "data": {
      "text/plain": [
       "<pyplasm.xgepy.Hpc; proxy of <Swig Object of type 'std::shared_ptr< Hpc > *' at 0x000000000C67A630> >"
      ]
     },
     "execution_count": 10,
     "metadata": {},
     "output_type": "execute_result"
    }
   ],
   "source": [
    "## SE VOGLIO MEZZA CIRCONFERENZA\n",
    "dom = INTERVALS(PI)(32)\n",
    "VIEW(MAP([x,y])(dom))"
   ]
  },
  {
   "cell_type": "code",
   "execution_count": 12,
   "metadata": {},
   "outputs": [
    {
     "data": {
      "text/plain": [
       "<pyplasm.xgepy.Hpc; proxy of <Swig Object of type 'std::shared_ptr< Hpc > *' at 0x000000000C67A6F0> >"
      ]
     },
     "execution_count": 12,
     "metadata": {},
     "output_type": "execute_result"
    }
   ],
   "source": [
    "dom = T(1)(PI/4)(INTERVALS(PI)(32))\n",
    "VIEW(MAP([x,y])(dom))"
   ]
  },
  {
   "cell_type": "markdown",
   "metadata": {},
   "source": [
    "## Corona circolare\n",
    "\n"
   ]
  },
  {
   "cell_type": "code",
   "execution_count": 23,
   "metadata": {},
   "outputs": [
    {
     "data": {
      "text/plain": [
       "<pyplasm.xgepy.Hpc; proxy of <Swig Object of type 'std::shared_ptr< Hpc > *' at 0x000000000C4A59C0> >"
      ]
     },
     "execution_count": 23,
     "metadata": {},
     "output_type": "execute_result"
    }
   ],
   "source": [
    "x = lambda (u,v): v*cos(u)\n",
    "y = lambda (u,v): v*sin(u)\n",
    "dom = T(2)(0.5)(PROD([INTERVALS(2*PI)(32), INTERVALS(.5)(32)]))  \n",
    "VIEW(MAP([x,y])(dom))"
   ]
  },
  {
   "cell_type": "markdown",
   "metadata": {},
   "source": [
    "## Definizione funzione anello"
   ]
  },
  {
   "cell_type": "code",
   "execution_count": 94,
   "metadata": {},
   "outputs": [],
   "source": [
    "def ring(r,R):\n",
    "    x = lambda (u,v): v*cos(u)       ## v è il raggio\n",
    "    y = lambda (u,v): v*sin(u) \n",
    "    dom = T(2)(r)(PROD([INTERVALS(2*PI)(32), INTERVALS(R-r)(32)]))  \n",
    "    return MAP([x,y])(dom)"
   ]
  },
  {
   "cell_type": "code",
   "execution_count": 95,
   "metadata": {},
   "outputs": [
    {
     "data": {
      "text/plain": [
       "<pyplasm.xgepy.Hpc; proxy of <Swig Object of type 'std::shared_ptr< Hpc > *' at 0x00000000452C8930> >"
      ]
     },
     "execution_count": 95,
     "metadata": {},
     "output_type": "execute_result"
    }
   ],
   "source": [
    "VIEW(ring(1,2))"
   ]
  },
  {
   "cell_type": "code",
   "execution_count": 96,
   "metadata": {},
   "outputs": [
    {
     "data": {
      "text/plain": [
       "<function pyplasm.fenvs.BEZIER>"
      ]
     },
     "execution_count": 96,
     "metadata": {},
     "output_type": "execute_result"
    }
   ],
   "source": [
    "BEZIER  ## crea una curva"
   ]
  },
  {
   "cell_type": "code",
   "execution_count": 97,
   "metadata": {},
   "outputs": [],
   "source": [
    "b = BEZIER(S1)([[0,0], [1,0], [0,1], [0,0]])"
   ]
  },
  {
   "cell_type": "code",
   "execution_count": 98,
   "metadata": {},
   "outputs": [
    {
     "data": {
      "text/plain": [
       "<pyplasm.xgepy.Hpc; proxy of <Swig Object of type 'std::shared_ptr< Hpc > *' at 0x00000000452C8390> >"
      ]
     },
     "execution_count": 98,
     "metadata": {},
     "output_type": "execute_result"
    }
   ],
   "source": [
    "VIEW(MAP(b)(INTERVALS(1)(32)))"
   ]
  },
  {
   "cell_type": "code",
   "execution_count": 33,
   "metadata": {},
   "outputs": [
    {
     "data": {
      "text/plain": [
       "<pyplasm.xgepy.Hpc; proxy of <Swig Object of type 'std::shared_ptr< Hpc > *' at 0x000000000C644BA0> >"
      ]
     },
     "execution_count": 33,
     "metadata": {},
     "output_type": "execute_result"
    }
   ],
   "source": [
    "b = BEZIER(S1)([[0,0], [1,0], [0,0], [0,1], [0,0]])\n",
    "VIEW(MAP(b)(INTERVALS(1)(32)))"
   ]
  },
  {
   "cell_type": "code",
   "execution_count": 40,
   "metadata": {},
   "outputs": [
    {
     "data": {
      "text/plain": [
       "<pyplasm.xgepy.Hpc; proxy of <Swig Object of type 'std::shared_ptr< Hpc > *' at 0x0000000004E7DDB0> >"
      ]
     },
     "execution_count": 40,
     "metadata": {},
     "output_type": "execute_result"
    }
   ],
   "source": [
    "b1 = BEZIER(S1)([[0,0], [1,0], [-1,-1], [0,1], [0,0]])\n",
    "VIEW(MAP(b1)(INTERVALS(1)(32)))"
   ]
  },
  {
   "cell_type": "code",
   "execution_count": 46,
   "metadata": {},
   "outputs": [
    {
     "data": {
      "text/plain": [
       "<pyplasm.xgepy.Hpc; proxy of <Swig Object of type 'std::shared_ptr< Hpc > *' at 0x000000000C740270> >"
      ]
     },
     "execution_count": 46,
     "metadata": {},
     "output_type": "execute_result"
    }
   ],
   "source": [
    "b2 = BEZIER(S1)([[0,0], [1,0], [-2,-2], [0,1], [0,0]])\n",
    "B = BEZIER(S2)([b1,b2])\n",
    "dom = PROD([INTERVALS(1)(32), INTERVALS(1)(1)])\n",
    "VIEW(SKEL_1(MAP(B)(dom)))"
   ]
  },
  {
   "cell_type": "code",
   "execution_count": 47,
   "metadata": {},
   "outputs": [
    {
     "data": {
      "text/plain": [
       "<pyplasm.xgepy.Hpc; proxy of <Swig Object of type 'std::shared_ptr< Hpc > *' at 0x000000000C7234B0> >"
      ]
     },
     "execution_count": 47,
     "metadata": {},
     "output_type": "execute_result"
    }
   ],
   "source": [
    "dom = PROD([INTERVALS(1)(32), INTERVALS(1)(4)])\n",
    "VIEW(SKEL_1(MAP(B)(dom)))"
   ]
  },
  {
   "cell_type": "code",
   "execution_count": 54,
   "metadata": {},
   "outputs": [
    {
     "data": {
      "text/plain": [
       "<pyplasm.xgepy.Hpc; proxy of <Swig Object of type 'std::shared_ptr< Hpc > *' at 0x000000000C66E600> >"
      ]
     },
     "execution_count": 54,
     "metadata": {},
     "output_type": "execute_result"
    }
   ],
   "source": [
    "## COMBINAZIONE TRA ARCO DI CIRCONFERENZA E CURVA DI BEZIER TRIDIMENSIONALE: INTERPOLAZIONE TRANSFINITA\n",
    "\n",
    "x = lambda (u,v): 1.5 * cos(u)\n",
    "y = lambda (u,v): 1.5 * sin(u)\n",
    "z = lambda (u,v): 1\n",
    "b = BEZIER(S1)([[1,.5,1], [1,1,2], [.5, 1,3]])\n",
    "bb = BEZIER(S2)([b, CONS([x,y,z])])\n",
    "VIEW(SKEL_1(MAP(bb)(dom)))"
   ]
  },
  {
   "cell_type": "markdown",
   "metadata": {},
   "source": [
    "## Spirale"
   ]
  },
  {
   "cell_type": "code",
   "execution_count": 99,
   "metadata": {},
   "outputs": [
    {
     "data": {
      "text/plain": [
       "<pyplasm.xgepy.Hpc; proxy of <Swig Object of type 'std::shared_ptr< Hpc > *' at 0x00000000452C85D0> >"
      ]
     },
     "execution_count": 99,
     "metadata": {},
     "output_type": "execute_result"
    }
   ],
   "source": [
    "def spiral(r,h,n):\n",
    "    x = lambda (u,): r * cos(u)\n",
    "    y = lambda (u,): r * sin(u)\n",
    "    z = lambda (u,): h* u / (2 * PI)       ## uso u che varia come quota per creare la spirale\n",
    "    dom = INTERVALS(2*n*PI)(36*n)\n",
    "    return MAP(CONS([x,y,z]))(dom)\n",
    "\n",
    "VIEW(spiral(.5,.1,20))"
   ]
  },
  {
   "cell_type": "code",
   "execution_count": 100,
   "metadata": {},
   "outputs": [
    {
     "data": {
      "text/plain": [
       "<pyplasm.xgepy.Hpc; proxy of <Swig Object of type 'std::shared_ptr< Hpc > *' at 0x00000000452C83C0> >"
      ]
     },
     "execution_count": 100,
     "metadata": {},
     "output_type": "execute_result"
    }
   ],
   "source": [
    "def spiral(r,h):\n",
    "    x = lambda (u,v): r * cos(u)\n",
    "    y = lambda (u,v): r * sin(u)\n",
    "    z = lambda (u,v): h* u / (2 * PI)       ## uso u che varia come quota per creare la spirale\n",
    "    return CONS([x,y,z])\n",
    "\n",
    "s1 = spiral(.5, .2)\n",
    "s2 = spiral(1, .2)\n",
    "sup = BEZIER(S2)([s1,s2])\n",
    "dom = lambda n: PROD([INTERVALS(2*n*PI)(36*n), INTERVALS(1)(1)])       ## dominio fatto di rettangoli\n",
    "rampa = MAP(sup)(dom(10))\n",
    "VIEW(rampa)"
   ]
  },
  {
   "cell_type": "code",
   "execution_count": 101,
   "metadata": {},
   "outputs": [
    {
     "data": {
      "text/plain": [
       "<pyplasm.xgepy.Hpc; proxy of <Swig Object of type 'std::shared_ptr< Hpc > *' at 0x000000000C72E9F0> >"
      ]
     },
     "execution_count": 101,
     "metadata": {},
     "output_type": "execute_result"
    }
   ],
   "source": [
    "dom = larExtrude1( VOID, 200*[PI/10])\n",
    "dom = larExtrude1( dom, 5*[1./5])             ## dominio fatto di triangoli\n",
    "##rampa = MAP(sup)(dom)\n",
    "VIEW(EXPLODE(1.5,1.5,1.5)(MKPOLS(dom)))"
   ]
  },
  {
   "cell_type": "code",
   "execution_count": 102,
   "metadata": {},
   "outputs": [
    {
     "data": {
      "text/plain": [
       "<pyplasm.xgepy.Hpc; proxy of <Swig Object of type 'std::shared_ptr< Hpc > *' at 0x000000000C65C120> >"
      ]
     },
     "execution_count": 102,
     "metadata": {},
     "output_type": "execute_result"
    }
   ],
   "source": [
    "hpc = MKPOL([dom[0], [[v1+1, v2+1, v3+1] for v1,v2,v3 in dom[1]], None])\n",
    "rampa = MAP(sup)(hpc)\n",
    "VIEW(SKEL_1(rampa))"
   ]
  },
  {
   "cell_type": "code",
   "execution_count": null,
   "metadata": {},
   "outputs": [],
   "source": [
    "## Faccio diventare solido lo scheletro della spirale\n",
    "\n",
    "VIEW(OFFSET([.01,.01,.01])(SKEL_1(rampa)))"
   ]
  },
  {
   "cell_type": "code",
   "execution_count": null,
   "metadata": {},
   "outputs": [],
   "source": []
  }
 ],
 "metadata": {
  "kernelspec": {
   "display_name": "Python 2",
   "language": "python",
   "name": "python2"
  }
 },
 "nbformat": 4,
 "nbformat_minor": 2
}
