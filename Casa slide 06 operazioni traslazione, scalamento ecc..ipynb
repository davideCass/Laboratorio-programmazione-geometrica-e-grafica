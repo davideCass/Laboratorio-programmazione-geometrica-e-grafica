{
 "cells": [
  {
   "cell_type": "code",
   "execution_count": 3,
   "metadata": {},
   "outputs": [
    {
     "name": "stdout",
     "output_type": "stream",
     "text": [
      "Evaluating fenvs.py..\n",
      "...fenvs.py imported in 0.0295252760722 seconds\n"
     ]
    },
    {
     "name": "stderr",
     "output_type": "stream",
     "text": [
      "c:\\program files\\python27\\lib\\site-packages\\larlib\\larstruct.py:233: FutureWarning: comparison to `None` will result in an elementwise object comparison in the future.\n",
      "  self.body = [item for item in data if item != None]\n"
     ]
    }
   ],
   "source": [
    "## MKPOL\n",
    "\n",
    "from larlib import*\n",
    "from pyplasm import*\n",
    "\n",
    "verts = [[0,0], [10,0], [10,10], [5,13], [0,10]]     ## array vertici\n",
    "\n",
    "## cells: facciata della figura, indicata sempre con i vertici; in questo caso ho una sola cella perchè in 2D. Deve partire da 1\n",
    "cells = [[1,2,3,4,5]]  \n",
    "\n",
    "pols = None\n",
    "\n",
    "## MKPOL: crea poligono, prende 3 input in un array diventando un solo argomento\n",
    "wall = MKPOL([verts, cells, pols])  "
   ]
  },
  {
   "cell_type": "code",
   "execution_count": 8,
   "metadata": {},
   "outputs": [
    {
     "data": {
      "text/plain": [
       "<pyplasm.xgepy.Hpc; proxy of <Swig Object of type 'std::shared_ptr< Hpc > *' at 0x000000000C429120> >"
      ]
     },
     "execution_count": 8,
     "metadata": {},
     "output_type": "execute_result"
    }
   ],
   "source": [
    "wall"
   ]
  },
  {
   "cell_type": "code",
   "execution_count": 17,
   "metadata": {},
   "outputs": [
    {
     "data": {
      "text/plain": [
       "<pyplasm.xgepy.Hpc; proxy of <Swig Object of type 'std::shared_ptr< Hpc > *' at 0x000000000C444C00> >"
      ]
     },
     "execution_count": 17,
     "metadata": {},
     "output_type": "execute_result"
    }
   ],
   "source": [
    "VIEW(wall)"
   ]
  },
  {
   "cell_type": "code",
   "execution_count": 4,
   "metadata": {},
   "outputs": [
    {
     "data": {
      "text/plain": [
       "<pyplasm.xgepy.Hpc; proxy of <Swig Object of type 'std::shared_ptr< Hpc > *' at 0x000000000C768CC0> >"
      ]
     },
     "execution_count": 4,
     "metadata": {},
     "output_type": "execute_result"
    }
   ],
   "source": [
    "## CUBOID genera parallelepipedi\n",
    "door = CUBOID([2,5])          ##vengono creati con il vertice nell'origine\n",
    "window = CUBOID([2,3])\n",
    "## STRUCT crea una struttura unica con più oggetti\n",
    "house = STRUCT([wall, door, window])\n",
    "## SKEL_1 mostra lo scheletro della struttura\n",
    "VIEW(SKEL_1(house))"
   ]
  },
  {
   "cell_type": "code",
   "execution_count": 21,
   "metadata": {},
   "outputs": [],
   "source": [
    "## con T traslo la porta e la finestra, nella prima parentesi indico la variabile che voglio modificare nella seconda di quanto \n",
    "\n",
    "house = STRUCT([wall, T(1)(4)(door), T([1,2])([7,2])(window)])"
   ]
  },
  {
   "cell_type": "code",
   "execution_count": 23,
   "metadata": {},
   "outputs": [
    {
     "data": {
      "text/plain": [
       "<pyplasm.xgepy.Hpc; proxy of <Swig Object of type 'std::shared_ptr< Hpc > *' at 0x000000000C44A240> >"
      ]
     },
     "execution_count": 23,
     "metadata": {},
     "output_type": "execute_result"
    }
   ],
   "source": [
    "## SKEL_1 visualizza lo scheletro della figura\n",
    "VIEW(SKEL_1(house))"
   ]
  },
  {
   "cell_type": "code",
   "execution_count": 5,
   "metadata": {},
   "outputs": [
    {
     "data": {
      "text/plain": [
       "<pyplasm.xgepy.Hpc; proxy of <Swig Object of type 'std::shared_ptr< Hpc > *' at 0x000000000C768C00> >"
      ]
     },
     "execution_count": 5,
     "metadata": {},
     "output_type": "execute_result"
    }
   ],
   "source": [
    "## DIFFERENCE sottrae al primo valore gli altri che lo seguono\n",
    "house = DIFFERENCE([wall, T(1)(4)(door), T([1,2])([7,2])(window)])\n",
    "VIEW(house)"
   ]
  },
  {
   "cell_type": "code",
   "execution_count": 25,
   "metadata": {},
   "outputs": [
    {
     "data": {
      "text/plain": [
       "<pyplasm.xgepy.Hpc; proxy of <Swig Object of type 'std::shared_ptr< Hpc > *' at 0x000000000C44AB40> >"
      ]
     },
     "execution_count": 25,
     "metadata": {},
     "output_type": "execute_result"
    }
   ],
   "source": [
    "## se vedo lo scheletro della DIFFERENCE ottengo il merge di due alberi binari in memoria\n",
    "VIEW(SKEL_1(house))"
   ]
  },
  {
   "cell_type": "code",
   "execution_count": 6,
   "metadata": {},
   "outputs": [
    {
     "data": {
      "text/plain": [
       "<pyplasm.xgepy.Hpc; proxy of <Swig Object of type 'std::shared_ptr< Hpc > *' at 0x000000000C7745A0> >"
      ]
     },
     "execution_count": 6,
     "metadata": {},
     "output_type": "execute_result"
    }
   ],
   "source": [
    "## SCALAMENTO: con S come con T\n",
    "\n",
    "house = T([1,2])([10,10])(house)\n",
    "VIEW(STRUCT([house, S([1,2])([0.5,0.5])(house)]))\n"
   ]
  },
  {
   "cell_type": "code",
   "execution_count": 28,
   "metadata": {},
   "outputs": [
    {
     "data": {
      "text/plain": [
       "<pyplasm.xgepy.Hpc; proxy of <Swig Object of type 'std::shared_ptr< Hpc > *' at 0x000000000C450600> >"
      ]
     },
     "execution_count": 28,
     "metadata": {},
     "output_type": "execute_result"
    }
   ],
   "source": [
    "## REFLECTION: sempre con S\n",
    "\n",
    "house = T([1,2])([10,10])(house)\n",
    "VIEW(STRUCT([house, S([1,2])([1,-1])(house)]))    ## riflessione sull'asse y"
   ]
  },
  {
   "cell_type": "code",
   "execution_count": 29,
   "metadata": {},
   "outputs": [
    {
     "data": {
      "text/plain": [
       "<pyplasm.xgepy.Hpc; proxy of <Swig Object of type 'std::shared_ptr< Hpc > *' at 0x000000000C4506F0> >"
      ]
     },
     "execution_count": 29,
     "metadata": {},
     "output_type": "execute_result"
    }
   ],
   "source": [
    "VIEW(STRUCT([house, S([1,2])([-1,1])(house)]))    ## riflessione sull'asse x"
   ]
  },
  {
   "cell_type": "code",
   "execution_count": 30,
   "metadata": {},
   "outputs": [
    {
     "data": {
      "text/plain": [
       "<pyplasm.xgepy.Hpc; proxy of <Swig Object of type 'std::shared_ptr< Hpc > *' at 0x000000000C4507B0> >"
      ]
     },
     "execution_count": 30,
     "metadata": {},
     "output_type": "execute_result"
    }
   ],
   "source": [
    "VIEW(STRUCT([house, S([1,2])([-1,-1])(house)]))  ## riflessione sia su x che su y"
   ]
  },
  {
   "cell_type": "code",
   "execution_count": 7,
   "metadata": {},
   "outputs": [
    {
     "data": {
      "text/plain": [
       "<pyplasm.xgepy.Hpc; proxy of <Swig Object of type 'std::shared_ptr< Hpc > *' at 0x000000000C774690> >"
      ]
     },
     "execution_count": 7,
     "metadata": {},
     "output_type": "execute_result"
    }
   ],
   "source": [
    "## ROTAZIONE R\n",
    "\n",
    "VIEW(STRUCT([house, R([1,2])(PI /6)( house )]))"
   ]
  },
  {
   "cell_type": "code",
   "execution_count": null,
   "metadata": {},
   "outputs": [],
   "source": []
  }
 ],
 "metadata": {
  "kernelspec": {
   "display_name": "Python 2",
   "language": "python",
   "name": "python2"
  },
  "language_info": {
   "codemirror_mode": {
    "name": "ipython",
    "version": 2
   },
   "file_extension": ".py",
   "mimetype": "text/x-python",
   "name": "python",
   "nbconvert_exporter": "python",
   "pygments_lexer": "ipython2",
   "version": "2.7.12"
  }
 },
 "nbformat": 4,
 "nbformat_minor": 2
}
