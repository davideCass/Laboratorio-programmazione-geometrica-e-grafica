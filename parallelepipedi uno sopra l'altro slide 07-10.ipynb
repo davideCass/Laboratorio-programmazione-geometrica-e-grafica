{
 "cells": [
  {
   "cell_type": "code",
   "execution_count": 1,
   "metadata": {},
   "outputs": [
    {
     "name": "stdout",
     "output_type": "stream",
     "text": [
      "Evaluating fenvs.py..\n",
      "...fenvs.py imported in 0.0281659398655 seconds\n"
     ]
    },
    {
     "name": "stderr",
     "output_type": "stream",
     "text": [
      "c:\\program files\\python27\\lib\\site-packages\\larlib\\larstruct.py:233: FutureWarning: comparison to `None` will result in an elementwise object comparison in the future.\n",
      "  self.body = [item for item in data if item != None]\n"
     ]
    },
    {
     "data": {
      "text/plain": [
       "<pyplasm.xgepy.Hpc; proxy of <Swig Object of type 'std::shared_ptr< Hpc > *' at 0x000000000BA7D180> >"
      ]
     },
     "execution_count": 1,
     "metadata": {},
     "output_type": "execute_result"
    }
   ],
   "source": [
    "from larlib import*\n",
    "element = COMP ([T ([1 ,2]) ([ -5 , -5]) , CUBOID ]) ([10 ,10 ,2])\n",
    "element = T ([1 ,2]) ([ -5 , -5])( CUBOID ([10 ,10 ,2]) )\n",
    "column = STRUCT ( NN (17) ([ element , T(3) (2) , R ([1 ,2]) (PI /8) ]) )\n",
    "column = STRUCT ( CAT (N (17) ([ element , T (3) (2) , R ([1 ,2]) (PI /8) ])) )\n",
    "VIEW ( column )"
   ]
  },
  {
   "cell_type": "code",
   "execution_count": null,
   "metadata": {},
   "outputs": [],
   "source": []
  }
 ],
 "metadata": {
  "kernelspec": {
   "display_name": "Python 2",
   "language": "python",
   "name": "python2"
  },
  "language_info": {
   "codemirror_mode": {
    "name": "ipython",
    "version": 2
   },
   "file_extension": ".py",
   "mimetype": "text/x-python",
   "name": "python",
   "nbconvert_exporter": "python",
   "pygments_lexer": "ipython2",
   "version": "2.7.12"
  }
 },
 "nbformat": 4,
 "nbformat_minor": 2
}
