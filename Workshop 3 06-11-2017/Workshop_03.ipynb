{
 "cells": [
  {
   "cell_type": "markdown",
   "metadata": {},
   "source": [
    "# Workshop 3: Temple 2"
   ]
  },
  {
   "cell_type": "markdown",
   "metadata": {},
   "source": [
    "![](Immagini/temple2.png)"
   ]
  },
  {
   "cell_type": "code",
   "execution_count": 47,
   "metadata": {},
   "outputs": [
    {
     "name": "stdout",
     "output_type": "stream",
     "text": [
      "Child 3\n"
     ]
    },
    {
     "data": {
      "text/plain": [
       "<pyplasm.xgepy.Hpc; proxy of <Swig Object of type 'std::shared_ptr< Hpc > *' at 0x0000000005483900> >"
      ]
     },
     "execution_count": 47,
     "metadata": {},
     "output_type": "execute_result"
    }
   ],
   "source": [
    "from pyplasm import*\n",
    "\n",
    "## MODIFICO LA FUNZIONE SPHERE PER CREARE MEZZA SFERA CHE RAPPRESENTA LA CAPPELLA DELLA STRUTTURA\n",
    "## E LA RUOTO CON R\n",
    "\n",
    "def SPHERE (radius):\n",
    "    def GSPHERE0 (subds):\n",
    "        N , M = subds\n",
    "        domain = Hpc(Grid([N*[PI/N],M*[PI/M]]))\n",
    "        domain = MAT([[1,0,0,0],[-PI/2,1,0,0],[-PI,0,1,0],[0,0,0,1]])(domain)\n",
    "        fx  = lambda p: radius * math.cos(p[0]) * math.sin  (p[1])\n",
    "        fy  = lambda p: radius * math.cos(p[0]) * math.cos (p[1])\n",
    "        fz  = lambda p: radius * math.sin(p[0])\n",
    "        ret=  GMAP([fx, fy, fz])(domain)\n",
    "        ret= R([1,3])(-PI/2)(ret)\n",
    "        return ret\n",
    "    return GSPHERE0\n",
    "\n",
    "## CREAZIONE CAPPELLA CENTRALE\n",
    "\n",
    "sezione_sopra_cappella = TOP([CYLINDER([0.4,0.2])(8), CONE([0.1,1])(16)])\n",
    "cappella = TOP([T(3)(1.7)(JOIN(SPHERE(1.5)([6,24]))), sezione_sopra_cappella])\n",
    "struttura_cappella = STRUCT([CYLINDER([1.5,1.7])(8), cappella])\n",
    "\n",
    "VIEW(struttura_cappella)"
   ]
  },
  {
   "cell_type": "markdown",
   "metadata": {},
   "source": [
    "![](Immagini/cappella.PNG)"
   ]
  },
  {
   "cell_type": "code",
   "execution_count": 48,
   "metadata": {},
   "outputs": [
    {
     "name": "stdout",
     "output_type": "stream",
     "text": [
      "Child 3\n"
     ]
    },
    {
     "data": {
      "text/plain": [
       "<pyplasm.xgepy.Hpc; proxy of <Swig Object of type 'std::shared_ptr< Hpc > *' at 0x000000000C166F00> >"
      ]
     },
     "execution_count": 48,
     "metadata": {},
     "output_type": "execute_result"
    }
   ],
   "source": [
    "## CREAZIONE PARALLELEPIPEDO CENTRALE CON CAPPELLA CENTRALE\n",
    "struttura_centrale_bassa = CUBOID([6,6,4])\n",
    "struttura_centrale = STRUCT([TOP([struttura_centrale_bassa, struttura_cappella])])\n",
    "struttura_centrale_bassa_interna = T([1,2,3])([0.1,0.1,0])(CUBOID([5.8,5.8,3.8]))\n",
    "\n",
    "## CREAZIONE STRUTTURA PARALLELEPIPEDO CON CAPPELLA CENTRALE E LE 4 CAPPELLE SUPERIORI PIU' PICCOLE\n",
    "\n",
    "sezione_sopra_cappella_laterale = TOP([CYLINDER([0.2,0.1])(8), CONE([0.05,0.5])(16)])\n",
    "cappella_laterale = TOP([T(3)(0.8)(JOIN(SPHERE(0.8)([6,24]))), sezione_sopra_cappella_laterale])\n",
    "cappella_laterale = STRUCT([CYLINDER([0.8,0.8])(24), cappella_laterale])\n",
    "cappella_laterale_1 = T([1,2,3])([5,5,4])(cappella_laterale)\n",
    "cappella_laterale_2 = T([1,2,3])([1,1,4])(cappella_laterale)\n",
    "cappella_laterale_3 = T([1,2,3])([1,5,4])(cappella_laterale)\n",
    "cappella_laterale_4 = T([1,2,3])([5,1,4])(cappella_laterale)\n",
    "struttura_completa = DIFFERENCE([STRUCT([struttura_centrale, cappella_laterale_1, cappella_laterale_2, cappella_laterale_3,cappella_laterale_4]), struttura_centrale_bassa_interna]) \n",
    "\n",
    "VIEW(struttura_completa)"
   ]
  },
  {
   "cell_type": "markdown",
   "metadata": {},
   "source": [
    "![](Immagini/struttura_con_cappelle.PNG)"
   ]
  },
  {
   "cell_type": "code",
   "execution_count": 49,
   "metadata": {},
   "outputs": [
    {
     "data": {
      "text/plain": [
       "<pyplasm.xgepy.Hpc; proxy of <Swig Object of type 'std::shared_ptr< Hpc > *' at 0x00000000087CE9C0> >"
      ]
     },
     "execution_count": 49,
     "metadata": {},
     "output_type": "execute_result"
    }
   ],
   "source": [
    "## CREAZIONE FINESTRE\n",
    "rettangolo = CUBOID([0.2,0.8,1.5])\n",
    "rientranza = T([1,2,3])([-0.03,0.08,0.1])(CUBOID([0.24,0.6,1.3]))\n",
    "colonna_finestra = T([1,2,3])([0, 0.2, 0.1])(CUBOID([0.015,0.1,1.3]))\n",
    "struttura_finestra = []\n",
    "struttura_finestra = DIFFERENCE([rettangolo, rientranza])\n",
    "struttura_finestra = T(3)(1.8)(STRUCT([struttura_finestra, colonna_finestra, T(2)(0.25)(colonna_finestra)]))\n",
    "\n",
    "VIEW(struttura_finestra)"
   ]
  },
  {
   "cell_type": "code",
   "execution_count": 50,
   "metadata": {},
   "outputs": [],
   "source": [
    "## CREO I BUCHI NELLA PARETE IN CUI ANDRANNO LE FINESTRE: differenza_finestra_i rappresenta il buco \n",
    "## nella parete della struttura relativo alla finestra i\n",
    " \n",
    "differenza_finestra = T(3)(1.8)(CUBOID([0.2,0.8,1.5]))\n",
    "differenza_finestra_1 = T([1,2])([-0.05,0.6])(differenza_finestra)\n",
    "differenza_finestra_2 = T([1,2])([-0.05,4.6])(differenza_finestra)\n",
    "differenza_finestra_3 = T([1,2])([5.8,0.6])(differenza_finestra)\n",
    "differenza_finestra_4 = T([1,2])([5.8,4.6])(differenza_finestra)\n",
    "differenza_finestra_5 = R([1,2])(PI/2)(T([1,2])([0,-1.4])(differenza_finestra))\n",
    "differenza_finestra_6 = R([1,2])(PI/2)(T([1,2])([0,-5.4])(differenza_finestra))\n",
    "differenza_finestra_7 = R([1,2])(PI/2)(T([1,2])([5.8,-1.4])(differenza_finestra))\n",
    "differenza_finestra_8 = R([1,2])(PI/2)(T([1,2])([5.8,-5.4])(differenza_finestra))\n",
    "\n",
    "struttura_completa_bucata = DIFFERENCE([struttura_completa, differenza_finestra_1, differenza_finestra_2, differenza_finestra_3, differenza_finestra_4, differenza_finestra_5, differenza_finestra_6, differenza_finestra_7, differenza_finestra_8])\n"
   ]
  },
  {
   "cell_type": "code",
   "execution_count": 51,
   "metadata": {},
   "outputs": [
    {
     "data": {
      "text/plain": [
       "<pyplasm.xgepy.Hpc; proxy of <Swig Object of type 'std::shared_ptr< Hpc > *' at 0x000000000C151780> >"
      ]
     },
     "execution_count": 51,
     "metadata": {},
     "output_type": "execute_result"
    }
   ],
   "source": [
    "## AGGIUNTA FINESTRE ALLA STRUTTURA\n",
    "\n",
    "finestra_1 = T([1,2])([-0.07,0.6])(struttura_finestra)     \n",
    "finestra_2 = T([1,2])([-0.07,4.6])(struttura_finestra)\n",
    "finestra_3 = T([1,2])([6.05,1.4])(R([1,2])(PI)(struttura_finestra))  \n",
    "finestra_4 = T([1,2])([6.05,5.4])(R([1,2])(PI)(struttura_finestra))\n",
    "\n",
    "finestra_5 = T([1,2])([1.4,-0.07])(R([1,2])(PI/2)(struttura_finestra))\n",
    "finestra_6 = T([1,2])([5.4,-0.07])(R([1,2])(PI/2)(struttura_finestra))\n",
    "finestra_7 = T([1,2])([0.6,6.07])(R([1,2])(-PI/2)(struttura_finestra))\n",
    "finestra_8 = T([1,2])([4.6,6.07])(R([1,2])(-PI/2)(struttura_finestra))\n",
    "\n",
    "struttura_completa_con_finestre = STRUCT([struttura_completa_bucata, finestra_1, finestra_2, finestra_3, finestra_4, finestra_5, finestra_6, finestra_7, finestra_8])\n",
    "\n",
    "VIEW(struttura_completa_con_finestre)"
   ]
  },
  {
   "cell_type": "markdown",
   "metadata": {},
   "source": [
    "![](Immagini/struttura_con_finestre.PNG)"
   ]
  },
  {
   "cell_type": "code",
   "execution_count": 52,
   "metadata": {
    "scrolled": false
   },
   "outputs": [
    {
     "name": "stdout",
     "output_type": "stream",
     "text": [
      "Child 3\n",
      "Child 3\n"
     ]
    },
    {
     "data": {
      "text/plain": [
       "<pyplasm.xgepy.Hpc; proxy of <Swig Object of type 'std::shared_ptr< Hpc > *' at 0x00000000087CE720> >"
      ]
     },
     "execution_count": 52,
     "metadata": {},
     "output_type": "execute_result"
    }
   ],
   "source": [
    "## CREAZIONE CAPPELLE LATERALI, AL LIVELLO DEL TERRENO, CON LE ARCATE.\n",
    "## PER POTER USARE LA DIFFERENCE CON LE SFERE DEVO TRASFORMARE TUTTE LE STRUTTURE CHE SONO COINVOLTE NELLA DIFFERENCE CON IL JOIN\n",
    "\n",
    "## ATTENDERE FINE COMPUTAZIONE CHE RICHIEDE CIRCA 30 SECONDI\n",
    "\n",
    "cilindro = JOIN(CYLINDER([0.8,2.7])(24))\n",
    "mezza_sfera = T(3)(2.7)(JOIN(SPHERE(0.8)([6,24])))\n",
    "cilindro_differenza = JOIN(CYLINDER([0.6,2.5])(24))\n",
    "struttura_cappella_laterale = DIFFERENCE([UNION([cilindro, mezza_sfera]), cilindro_differenza])\n",
    "arcata_1 = UNION([JOIN(CYLINDER([0.3,2])(24)), T(3)(2)(JOIN(SPHERE(0.3)([6,24])))])\n",
    "arcata_2 = T([1,2])([-0.33,0.6])(arcata_1)\n",
    "arcata_3 = T([1,2])([-0.33,-0.6])(arcata_1)\n",
    "arcata_4 = T(1)(-1.4)(arcata_1)\n",
    "arcata_5 = T([1,2])([-1,-0.6])(arcata_1)\n",
    "arcata_6 = T([1,2])([-1, 0.6])(arcata_1)\n",
    "cilindro_base = JOIN(CYLINDER([0.8,0.2])(24))\n",
    "complesso_arcate = UNION([arcata_1, arcata_2, arcata_3, arcata_4, arcata_5,arcata_6])\n",
    "struttura_laterale_con_arcate = DIFFERENCE([struttura_cappella_laterale, T(1)(0.7)(complesso_arcate)])\n",
    "struttura_laterale_con_arcate = STRUCT([struttura_laterale_con_arcate, cilindro_base])\n",
    "\n",
    "VIEW(struttura_laterale_con_arcate)"
   ]
  },
  {
   "cell_type": "markdown",
   "metadata": {},
   "source": [
    "![](Immagini/cappella_con_arcate.PNG)"
   ]
  },
  {
   "cell_type": "code",
   "execution_count": 53,
   "metadata": {},
   "outputs": [
    {
     "data": {
      "text/plain": [
       "<pyplasm.xgepy.Hpc; proxy of <Swig Object of type 'std::shared_ptr< Hpc > *' at 0x000000000C151A50> >"
      ]
     },
     "execution_count": 53,
     "metadata": {},
     "output_type": "execute_result"
    }
   ],
   "source": [
    "## CREAZIONE STRUTTURA CON LE CAPPELLE LATERALI\n",
    "\n",
    "struttura_laterale_con_arcate_1 = T([1,2])([-0.2,3])(struttura_laterale_con_arcate)\n",
    "struttura_laterale_con_arcate_2 = T([1,2])([6.2,3])(struttura_laterale_con_arcate)\n",
    "struttura_laterale_con_arcate_3 = T([1,2])([3,-0.2])(struttura_laterale_con_arcate)\n",
    "struttura_laterale_con_arcate_4 = T([1,2])([3,6.2])(struttura_laterale_con_arcate)\n",
    "\n",
    "struttura_completa_finita = STRUCT([struttura_completa_con_finestre, struttura_laterale_con_arcate_1, struttura_laterale_con_arcate_2, struttura_laterale_con_arcate_3, struttura_laterale_con_arcate_4])\n",
    "\n",
    "VIEW(struttura_completa_finita)"
   ]
  },
  {
   "cell_type": "markdown",
   "metadata": {},
   "source": [
    "![](Immagini/struttura_completa.PNG)"
   ]
  },
  {
   "cell_type": "code",
   "execution_count": 5,
   "metadata": {},
   "outputs": [
    {
     "data": {
      "text/plain": [
       "<pyplasm.xgepy.Hpc; proxy of <Swig Object of type 'std::shared_ptr< Hpc > *' at 0x000000000B3C19F0> >"
      ]
     },
     "execution_count": 5,
     "metadata": {},
     "output_type": "execute_result"
    }
   ],
   "source": []
  }
 ],
 "metadata": {
  "kernelspec": {
   "display_name": "Python 2",
   "language": "python",
   "name": "python2"
  },
  "language_info": {
   "codemirror_mode": {
    "name": "ipython",
    "version": 2
   },
   "file_extension": ".py",
   "mimetype": "text/x-python",
   "name": "python",
   "nbconvert_exporter": "python",
   "pygments_lexer": "ipython2",
   "version": "2.7.12"
  }
 },
 "nbformat": 4,
 "nbformat_minor": 2
}
