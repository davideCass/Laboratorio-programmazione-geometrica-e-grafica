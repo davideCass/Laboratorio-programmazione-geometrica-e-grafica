{
 "cells": [
  {
   "cell_type": "code",
   "execution_count": 1,
   "metadata": {},
   "outputs": [
    {
     "name": "stdout",
     "output_type": "stream",
     "text": [
      "Evaluating fenvs.py..\n",
      "...fenvs.py imported in 0.00657172104195 seconds\n"
     ]
    },
    {
     "name": "stderr",
     "output_type": "stream",
     "text": [
      "c:\\program files\\python27\\lib\\site-packages\\larlib\\larstruct.py:233: FutureWarning: comparison to `None` will result in an elementwise object comparison in the future.\n",
      "  self.body = [item for item in data if item != None]\n"
     ]
    },
    {
     "data": {
      "text/plain": [
       "<pyplasm.xgepy.Hpc; proxy of <Swig Object of type 'std::shared_ptr< Hpc > *' at 0x000000000E182720> >"
      ]
     },
     "execution_count": 1,
     "metadata": {},
     "output_type": "execute_result"
    }
   ],
   "source": [
    "from larlib import*\n",
    "\n",
    "V = [[0, 0], [1, 0], [2, 0], [0, 1], [1, 1], [2, 1]]\n",
    "FV = [[0, 1, 3], [1, 2, 4], [1, 3, 4], [2, 4, 5]]\n",
    "EV = [[0,1],[0,3],[1,2],[1,3],[1,4],[2,4],[2,5],[3,4],[4,5]]\n",
    "\n",
    "VIEW(STRUCT(MKPOLS((V,FV))));                 ## crea struct di triangoli tutti attaccati\n",
    "VIEW(EXPLODE(1.2,1.2,1)(MKPOLS((V,FV))))      ## devo applicare MKPOLS per generare una lista di valori Hpc      \n",
    "VIEW(STRUCT(MKPOLS((V,EV)))); \n",
    "VIEW(EXPLODE(1.2,1.2,1)(MKPOLS((V,EV))))"
   ]
  },
  {
   "cell_type": "code",
   "execution_count": 9,
   "metadata": {},
   "outputs": [
    {
     "data": {
      "text/plain": [
       "<pyplasm.xgepy.Hpc; proxy of <Swig Object of type 'std::shared_ptr< Hpc > *' at 0x000000000BD4A510> >"
      ]
     },
     "execution_count": 9,
     "metadata": {},
     "output_type": "execute_result"
    }
   ],
   "source": [
    "VV = AA(list)([range(len(V))])\n",
    "VIEW(EXPLODE(1.2,1.2,1)(MKPOLS((V,FV+EV+VV))))"
   ]
  },
  {
   "cell_type": "code",
   "execution_count": 10,
   "metadata": {},
   "outputs": [
    {
     "name": "stdout",
     "output_type": "stream",
     "text": [
      "\n",
      "csrCreate(FV) =\n",
      "  (0, 0)\t1\n",
      "  (0, 1)\t1\n",
      "  (0, 3)\t1\n",
      "  (1, 1)\t1\n",
      "  (1, 2)\t1\n",
      "  (1, 4)\t1\n",
      "  (2, 1)\t1\n",
      "  (2, 3)\t1\n",
      "  (2, 4)\t1\n",
      "  (3, 2)\t1\n",
      "  (3, 4)\t1\n",
      "  (3, 5)\t1\n"
     ]
    }
   ],
   "source": [
    "csrFV = csrCreate(FV)\n",
    "print \"\\ncsrCreate(FV) =\\n\", csrFV"
   ]
  },
  {
   "cell_type": "code",
   "execution_count": 11,
   "metadata": {},
   "outputs": [],
   "source": [
    "FV = [[0,1,3],[1,2,4],[1,3,4],[2,4,5]]"
   ]
  },
  {
   "cell_type": "code",
   "execution_count": 12,
   "metadata": {},
   "outputs": [
    {
     "data": {
      "text/plain": [
       "<function larlib.mapper.larCircle>"
      ]
     },
     "execution_count": 12,
     "metadata": {},
     "output_type": "execute_result"
    }
   ],
   "source": [
    "larCircle"
   ]
  },
  {
   "cell_type": "code",
   "execution_count": null,
   "metadata": {},
   "outputs": [],
   "source": []
  },
  {
   "cell_type": "code",
   "execution_count": null,
   "metadata": {},
   "outputs": [],
   "source": []
  }
 ],
 "metadata": {
  "kernelspec": {
   "display_name": "Python 2",
   "language": "python",
   "name": "python2"
  },
  "language_info": {
   "codemirror_mode": {
    "name": "ipython",
    "version": 2
   },
   "file_extension": ".py",
   "mimetype": "text/x-python",
   "name": "python",
   "nbconvert_exporter": "python",
   "pygments_lexer": "ipython2",
   "version": "2.7.12"
  }
 },
 "nbformat": 4,
 "nbformat_minor": 2
}
