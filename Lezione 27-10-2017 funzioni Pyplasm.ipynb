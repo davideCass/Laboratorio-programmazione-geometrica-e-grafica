{
 "cells": [
  {
   "cell_type": "code",
   "execution_count": 1,
   "metadata": {},
   "outputs": [
    {
     "name": "stdout",
     "output_type": "stream",
     "text": [
      "Evaluating fenvs.py..\n",
      "...fenvs.py imported in 0.00910598186561 seconds\n"
     ]
    },
    {
     "data": {
      "text/plain": [
       "[[1, 3], [2, 3], [3, 3], [4, 3]]"
      ]
     },
     "execution_count": 1,
     "metadata": {},
     "output_type": "execute_result"
    }
   ],
   "source": [
    "from pyplasm import*\n",
    "DISTR([[1,2,3,4], 3])"
   ]
  },
  {
   "cell_type": "code",
   "execution_count": 2,
   "metadata": {},
   "outputs": [
    {
     "data": {
      "text/plain": [
       "array([[1, 2, 3],\n",
       "       [3, 4, 5],\n",
       "       [6, 7, 8]])"
      ]
     },
     "execution_count": 2,
     "metadata": {},
     "output_type": "execute_result"
    }
   ],
   "source": [
    "import numpy as np\n",
    "a = ([1,2,3], [3,4,5], [6,7,8])\n",
    "np.array(a)"
   ]
  },
  {
   "cell_type": "code",
   "execution_count": 3,
   "metadata": {},
   "outputs": [
    {
     "data": {
      "text/plain": [
       "array([[1, 3, 6],\n",
       "       [2, 4, 7],\n",
       "       [3, 5, 8]])"
      ]
     },
     "execution_count": 3,
     "metadata": {},
     "output_type": "execute_result"
    }
   ],
   "source": [
    "np.transpose(np.array(a))   ## come TRANS delle slide Pyplasm"
   ]
  },
  {
   "cell_type": "code",
   "execution_count": 4,
   "metadata": {},
   "outputs": [
    {
     "data": {
      "text/plain": [
       "[[1, 3, 6], [2, 4, 7], [3, 5, 8]]"
      ]
     },
     "execution_count": 4,
     "metadata": {},
     "output_type": "execute_result"
    }
   ],
   "source": [
    "(np.transpose(np.array(a))).tolist()"
   ]
  },
  {
   "cell_type": "code",
   "execution_count": 5,
   "metadata": {},
   "outputs": [
    {
     "data": {
      "text/plain": [
       "array([3, 6, 9])"
      ]
     },
     "execution_count": 5,
     "metadata": {},
     "output_type": "execute_result"
    }
   ],
   "source": [
    "3*np.array([1,2,3])"
   ]
  },
  {
   "cell_type": "code",
   "execution_count": 6,
   "metadata": {},
   "outputs": [],
   "source": [
    "A = [ [1,2,3], [4,5,6], [7,8,9] ]\n",
    "B = [ [10,20,30], [40,50,60], [70,80,90] ]\n"
   ]
  },
  {
   "cell_type": "code",
   "execution_count": 7,
   "metadata": {},
   "outputs": [
    {
     "data": {
      "text/plain": [
       "[[[1, 2, 3], [10, 20, 30]],\n",
       " [[4, 5, 6], [40, 50, 60]],\n",
       " [[7, 8, 9], [70, 80, 90]]]"
      ]
     },
     "execution_count": 7,
     "metadata": {},
     "output_type": "execute_result"
    }
   ],
   "source": [
    "TRANS([A,B])"
   ]
  },
  {
   "cell_type": "code",
   "execution_count": 9,
   "metadata": {},
   "outputs": [
    {
     "data": {
      "text/plain": [
       "[[[1, 10], [2, 20], [3, 30]],\n",
       " [[4, 40], [5, 50], [6, 60]],\n",
       " [[7, 70], [8, 80], [9, 90]]]"
      ]
     },
     "execution_count": 9,
     "metadata": {},
     "output_type": "execute_result"
    }
   ],
   "source": [
    "AA(TRANS)(TRANS([A,B]))"
   ]
  },
  {
   "cell_type": "code",
   "execution_count": 10,
   "metadata": {},
   "outputs": [
    {
     "data": {
      "text/plain": [
       "[[11, 22, 33], [44, 55, 66], [77, 88, 99]]"
      ]
     },
     "execution_count": 10,
     "metadata": {},
     "output_type": "execute_result"
    }
   ],
   "source": [
    "AA(AA(SUM))(AA(TRANS)(TRANS([A,B])))     ## MATSUM"
   ]
  },
  {
   "cell_type": "code",
   "execution_count": 11,
   "metadata": {},
   "outputs": [],
   "source": [
    "def MATSUM(args):\n",
    "     return AA(AA(SUM)) (AA(TRANS)(TRANS(args)))"
   ]
  },
  {
   "cell_type": "code",
   "execution_count": 14,
   "metadata": {},
   "outputs": [
    {
     "data": {
      "text/plain": [
       "[[11, 22, 33], [44, 55, 66], [77, 88, 99]]"
      ]
     },
     "execution_count": 14,
     "metadata": {},
     "output_type": "execute_result"
    }
   ],
   "source": [
    "MATSUM([A,B])"
   ]
  },
  {
   "cell_type": "code",
   "execution_count": 15,
   "metadata": {},
   "outputs": [
    {
     "data": {
      "text/plain": [
       "[[[1, 2, 3], [4, 5, 6], [7, 8, 9]], [[10, 40, 70], [20, 50, 80], [30, 60, 90]]]"
      ]
     },
     "execution_count": 15,
     "metadata": {},
     "output_type": "execute_result"
    }
   ],
   "source": [
    "from pyplasm import*\n",
    "A = [ [1,2,3], [4,5,6], [7,8,9] ]\n",
    "B = [ [10,20,30], [40,50,60], [70,80,90] ]\n",
    "[A,TRANS(B)]"
   ]
  },
  {
   "cell_type": "code",
   "execution_count": 17,
   "metadata": {},
   "outputs": [
    {
     "data": {
      "text/plain": [
       "[[[1, 2, 3], [[10, 40, 70], [20, 50, 80], [30, 60, 90]]],\n",
       " [[4, 5, 6], [[10, 40, 70], [20, 50, 80], [30, 60, 90]]],\n",
       " [[7, 8, 9], [[10, 40, 70], [20, 50, 80], [30, 60, 90]]]]"
      ]
     },
     "execution_count": 17,
     "metadata": {},
     "output_type": "execute_result"
    }
   ],
   "source": [
    "DISTR([A,TRANS(B)])     ## righe della prima accoppiate alle colonne della seconda"
   ]
  },
  {
   "cell_type": "code",
   "execution_count": 18,
   "metadata": {},
   "outputs": [
    {
     "data": {
      "text/plain": [
       "[[[[1, 2, 3], [10, 40, 70]],\n",
       "  [[1, 2, 3], [20, 50, 80]],\n",
       "  [[1, 2, 3], [30, 60, 90]]],\n",
       " [[[4, 5, 6], [10, 40, 70]],\n",
       "  [[4, 5, 6], [20, 50, 80]],\n",
       "  [[4, 5, 6], [30, 60, 90]]],\n",
       " [[[7, 8, 9], [10, 40, 70]],\n",
       "  [[7, 8, 9], [20, 50, 80]],\n",
       "  [[7, 8, 9], [30, 60, 90]]]]"
      ]
     },
     "execution_count": 18,
     "metadata": {},
     "output_type": "execute_result"
    }
   ],
   "source": [
    "(AA(DISTL)(DISTR([A,TRANS(B)])))   ## prima riga prima colonna, prima riga seconda colonna..."
   ]
  },
  {
   "cell_type": "code",
   "execution_count": 19,
   "metadata": {},
   "outputs": [
    {
     "data": {
      "text/plain": [
       "[[300, 360, 420], [660, 810, 960], [1020, 1260, 1500]]"
      ]
     },
     "execution_count": 19,
     "metadata": {},
     "output_type": "execute_result"
    }
   ],
   "source": [
    "AA(AA(INNERPROD))(AA(DISTL)(DISTR ([A, TRANS (B)])))  ## due volte AA perchè devo penetrare 2 parentesi quadre"
   ]
  },
  {
   "cell_type": "code",
   "execution_count": 21,
   "metadata": {},
   "outputs": [
    {
     "data": {
      "text/plain": [
       "array([[ 10,  40,  90],\n",
       "       [160, 250, 360],\n",
       "       [490, 640, 810]])"
      ]
     },
     "execution_count": 21,
     "metadata": {},
     "output_type": "execute_result"
    }
   ],
   "source": [
    "## PRODOTTO TRA MATRICI CON NUMPY\n",
    "from numpy import*\n",
    "array(A)*array(B)"
   ]
  },
  {
   "cell_type": "code",
   "execution_count": 23,
   "metadata": {},
   "outputs": [
    {
     "data": {
      "text/plain": [
       "<pyplasm.xgepy.Hpc; proxy of <Swig Object of type 'std::shared_ptr< Hpc > *' at 0x000000000C091900> >"
      ]
     },
     "execution_count": 23,
     "metadata": {},
     "output_type": "execute_result"
    }
   ],
   "source": [
    "## Generazione punti random nel piano\n",
    "\n",
    "from random import random\n",
    "def randomPoints(m, sx=1, sy=1):\n",
    "    def point():\n",
    "        return [random() * sx, random() * sy]\n",
    "    return [point() for k in range(m)]\n",
    "verts = randomPoints(200, 2*PI, 2)\n",
    "obj = MKPOL([verts, AA(LIST)(range(200)), None])\n",
    "VIEW(obj)"
   ]
  },
  {
   "cell_type": "code",
   "execution_count": null,
   "metadata": {},
   "outputs": [],
   "source": [
    "def x (p):\n",
    "    u,v = p\n",
    "    return v * COS(u)\n",
    "def y (p):\n",
    "    u,v = p\n",
    "    return v * SIN(u)\n",
    "obj = MAP([ x,y ])(obj)    ## obj era l'insieme di punti di prima, MAP prende una lista di coordinate e un dominio \n",
    "VIEW(obj)                  ## e applica ai vertici di questo dominio le funzioni nell'argomento"
   ]
  },
  {
   "cell_type": "code",
   "execution_count": null,
   "metadata": {},
   "outputs": [],
   "source": []
  }
 ],
 "metadata": {
  "kernelspec": {
   "display_name": "Python 2",
   "language": "python",
   "name": "python2"
  },
  "language_info": {
   "codemirror_mode": {
    "name": "ipython",
    "version": 2
   },
   "file_extension": ".py",
   "mimetype": "text/x-python",
   "name": "python",
   "nbconvert_exporter": "python",
   "pygments_lexer": "ipython2",
   "version": "2.7.12"
  }
 },
 "nbformat": 4,
 "nbformat_minor": 2
}
