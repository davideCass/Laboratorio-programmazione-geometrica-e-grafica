{
 "cells": [
  {
   "cell_type": "markdown",
   "metadata": {},
   "source": [
    "# Villa Cornaro"
   ]
  },
  {
   "cell_type": "code",
   "execution_count": 9,
   "metadata": {
    "scrolled": true
   },
   "outputs": [],
   "source": [
    "from larlib import*\n",
    "\n",
    "r2 = 48.0;                  ##---cubiti; raggio esterno del muro medio--------\n",
    "r3 = 72.0;                  ##---cubiti; raggio esterno del muro esterno------\n",
    "wsteps = 60.0;              ##---cubiti; profondita' scale esterne-------\n",
    "nsteps = 10.0;              ##--numero alzate/pedate scale esterne------\n",
    "wstep = wsteps/nsteps;    ##---cubiti; larghezza pedata-------\n",
    "hstep = 1.0/3.0;              ##---cubiti; altezza alzata-------------------\n",
    "hw4 = 29.0;                 ##--cubiti; altezza all'imposta del muro esterno-\n",
    "hbasament = hstep*nsteps;\n",
    "\n",
    "## leggo i vertici dal file .lines e li trascrivo in un dizionario chiave = vertice, valore = indice così vengono eliminati i\n",
    "## duplicati\n",
    "\n",
    "with open(\"Materiale/pianta_villa_cornaro.lines\") as f:\n",
    "    i = 0\n",
    "    V = {}\n",
    "    for line in f:\n",
    "        x1 = round(float(line.split(\",\")[0]),3)/2     ## scrivo la coordinata e la tronco alle prima 7 cifre dopo la virgola\n",
    "        y1 = round(float(line.split(\",\")[1]),3)/2 \n",
    "        x2 = round(float(line.split(\",\")[2]),3)/2\n",
    "        y2 = round(float(line.split(\",\")[3]),3)/2\n",
    "        V[(x1,y1)] = i       \n",
    "        V[(x2,y2)] = i+1\n",
    "        i = i+2\n",
    "\n",
    "## creo un dizionario di segmenti dagli indici dei vertici in V \n",
    "\n",
    "with open(\"Materiale/pianta_villa_cornaro.lines\") as f:\n",
    "    EV = []\n",
    "    for line in f:\n",
    "        x1 = round(float(line.split(\",\")[0]),3)/2\n",
    "        y1 = round(float(line.split(\",\")[1]),3)/2 \n",
    "        x2 = round(float(line.split(\",\")[2]),3)/2\n",
    "        y2 = round(float(line.split(\",\")[3]),3)/2\n",
    "        EV.append([V[(x1,y1)], V[(x2,y2)]])\n",
    "\n",
    "V1 = []        \n",
    "for i in V:\n",
    "    V1.append([i[0], i[1]])  \n",
    "\n",
    "with open(\"Materiale/pianta_villa_cornaro.lines\") as f:\n",
    "    V1 = []\n",
    "    for line in f:\n",
    "        x1 = round(float(line.split(\",\")[0]),3)/2\n",
    "        y1 = round(float(line.split(\",\")[1]),3)/2 \n",
    "        x2 = round(float(line.split(\",\")[2]),3)/2\n",
    "        y2 = round(float(line.split(\",\")[3]),3)/2\n",
    "        for i in EV:\n",
    "            if(i[0] == V[(x1,y1)] and i[1] == V[(x2,y2)]):\n",
    "                V1.append([x1,y1])\n",
    "                V1.append([x2,y2])"
   ]
  },
  {
   "cell_type": "markdown",
   "metadata": {},
   "source": [
    "## Scalinata"
   ]
  },
  {
   "cell_type": "code",
   "execution_count": 10,
   "metadata": {},
   "outputs": [],
   "source": [
    "\n",
    "def vdom(h):\n",
    "    return PROD([COMP([EMBED(1), INTERVALS(PI)])(3), QUOTE([h])])\n",
    "\n",
    "def hdom(w):\n",
    "    return COMP([S(2)(-1), EMBED(1)])(PROD([INTERVALS(PI)(3), QUOTE([w])]))\n",
    "    \n",
    "def steps(w,h):\n",
    "    def steps1(n):\n",
    "        return COMP([STRUCT, CAT, N(n)])([vdom(h+1), T(3)(h+1), hdom(w+2), T(2)(-w-2)])\n",
    "    return steps1\n",
    "\n",
    "hbasament = hstep * nsteps +10\n",
    "stairs_12 = COMP([MKPOL, UKPOL])(steps(wstep, hstep)(nsteps-2))  \n",
    "stairs = T(3)(12)(S(3)(-1)(STRUCT(NN((24))([stairs_12, T([1,2])([3.1])])))) \n",
    "StructStairs = STRUCT([S(2)(-1)(CUBOID([PI/24, wsteps+4, hbasament])), stairs, \n",
    "                       COMP([S(2)(-1), T(1)((V1[60][0]-V1[61][0])), CUBOID])([PI/24, wsteps+4, hbasament])])\n",
    "\n",
    "stairs_Posteriori = T(3)(12)(S(3)(-1)(STRUCT(NN((22))([stairs_12, T([1,2])([3.1])]))))\n",
    "StructStairsPosteriori = STRUCT([S(2)(-1)(CUBOID([PI/24, wsteps+4, hbasament])), stairs_Posteriori, \n",
    "                                 COMP([S(2)(-1), T(1)((V1[60][0]-V1[61][0]-6)), CUBOID])([PI/24, wsteps+4, hbasament])])\n",
    "\n",
    "##VIEW(StructStairs)"
   ]
  },
  {
   "cell_type": "markdown",
   "metadata": {},
   "source": [
    "## Pianta"
   ]
  },
  {
   "cell_type": "code",
   "execution_count": 11,
   "metadata": {
    "scrolled": true
   },
   "outputs": [
    {
     "name": "stdout",
     "output_type": "stream",
     "text": [
      "47\n",
      "[[0, 1], [7, 8], [8, 9], [10, 11], [15, 16], [16, 17], [18, 19], [22, 23], [24, 25], [28, 29], [30, 31], [32, 33], [38, 39], [44, 45], [46, 47], [48, 49], [50, 51], [52, 53], [54, 55], [56, 57], [58, 59], [60, 61], [62, 63], [68, 69], [70, 71], [71, 72], [72, 73], [74, 75], [76, 77], [82, 83], [86, 87], [90, 91], [92, 93], [94, 95], [96, 97], [98, 99], [100, 101], [104, 105], [106, 107], [108, 109], [110, 111], [114, 115], [116, 117], [119, 120], [120, 121], [122, 123], [126, 127]]\n"
     ]
    },
    {
     "data": {
      "text/plain": [
       "<pyplasm.xgepy.Hpc; proxy of <Swig Object of type 'std::shared_ptr< Hpc > *' at 0x000000000DD4F960> >"
      ]
     },
     "execution_count": 11,
     "metadata": {},
     "output_type": "execute_result"
    }
   ],
   "source": [
    "EV1 = []\n",
    "j = 0\n",
    "while(j < len(V1) -1):\n",
    "    EV1.append([j,j+1])\n",
    "    j = j+1\n",
    "    \n",
    "## Rimuovo segmenti non utili \n",
    "del EV1[1:7]       ## da [1,2] a [6,7]\n",
    "EV1.remove([9,10])   \n",
    "del EV1[4:8]       ## da [11,12] a [14,15] \n",
    "EV1.remove([17,18])\n",
    "del EV1[7:10]      ## da [19,20] a [21,22]\n",
    "EV1.remove([23,24])\n",
    "del EV1[9:12]      ## da [25,26] a [27,28]\n",
    "EV1.remove([29,30])\n",
    "EV1.remove([31,32])\n",
    "del EV1[12:17]     ## da [33,34] a [37,38]\n",
    "del EV1[13:18]     ## da [39,40] a [43,44]\n",
    "EV1.remove([45,46])\n",
    "EV1.remove([47,48])\n",
    "EV1.remove([49,50])\n",
    "EV1.remove([51,52])\n",
    "EV1.remove([53,54])\n",
    "EV1.remove([55,56])\n",
    "EV1.remove([57,58])\n",
    "EV1.remove([59,60])\n",
    "EV1.remove([61,62])\n",
    "del EV1[23:28]     ## da [63,64] a [67,68]\n",
    "EV1.remove([69,70])\n",
    "EV1.remove([73,74])\n",
    "EV1.remove([75,76])\n",
    "del EV1[29:34]     ## da [77,78] a [81,82]\n",
    "del EV1[30:33]     ## da [83,84] a [85,86]\n",
    "del EV1[31:34]     ## da [87,88] a [89,90]\n",
    "EV1.remove([91,92])\n",
    "EV1.remove([93,94])\n",
    "EV1.remove([95,96])\n",
    "EV1.remove([97,98])\n",
    "EV1.remove([99,100])\n",
    "del EV1[37:40]     ## da [101,102] a [103,104]\n",
    "EV1.remove([105,106])\n",
    "EV1.remove([107,108])\n",
    "EV1.remove([109,110])\n",
    "del EV1[41:44]     ## da [111,112] a [113,114]\n",
    "EV1.remove([115,116])\n",
    "EV1.remove([117,118])\n",
    "EV1.remove([118,119])\n",
    "EV1.remove([121,122])\n",
    "del EV1[46:49]     ## da [123,124] a [125,126]\n",
    "\n",
    "Pianta = STRUCT(MKPOLS((V1,EV1)))\n",
    "print(len(EV1))\n",
    "print(EV1)\n",
    "\n",
    "VIEW(Pianta)"
   ]
  },
  {
   "cell_type": "markdown",
   "metadata": {},
   "source": [
    "![](Immagini/Pianta.PNG)"
   ]
  },
  {
   "cell_type": "markdown",
   "metadata": {},
   "source": [
    "## Parte Inferiore"
   ]
  },
  {
   "cell_type": "markdown",
   "metadata": {},
   "source": [
    "## Base Stanze"
   ]
  },
  {
   "cell_type": "code",
   "execution_count": 12,
   "metadata": {},
   "outputs": [
    {
     "data": {
      "text/plain": [
       "<pyplasm.xgepy.Hpc; proxy of <Swig Object of type 'std::shared_ptr< Hpc > *' at 0x000000000DD40EA0> >"
      ]
     },
     "execution_count": 12,
     "metadata": {},
     "output_type": "execute_result"
    }
   ],
   "source": [
    "## Creo base stanze\n",
    "\n",
    "def basement(args):\n",
    "    px1, px2, py1, py2 = args \n",
    "    ##BaseStanza1 = T([1,2])([V1[0][0], V1[7][1]])(CUBOID([V1[1][0]-V1[0][0], V1[8][1]-V1[7][1], 1.5]))\n",
    "    return T([1,2])([V1[px2][0], V1[py2][1]])(CUBOID([V1[px1][0]-V1[px2][0], V1[py1][1]-V1[py2][1], hbasament]))\n",
    "    \n",
    "BaseStanza1 = basement([1,0,7,8])\n",
    "BaseStanza2 = basement([9,8,16,15])\n",
    "BaseStanza = basement([68,0,96,68])\n",
    "BaseStanza3 = basement([25,24,30,31])\n",
    "BaseStanza4 = basement([72,73,74,75])\n",
    "BaseCortile = basement([56,57,62,63])\n",
    "\n",
    "BaseStanze = STRUCT([Pianta, BaseStanza, BaseStanza3, BaseStanza4, BaseCortile, \n",
    "                     T([1,2])([V1[60][0]-75, V1[60][1]])(S(2)(-1)(StructStairs)), T([1,2])([V1[104][0],45]), StructStairsPosteriori])\n",
    "\n",
    "VIEW(BaseStanze)"
   ]
  },
  {
   "cell_type": "markdown",
   "metadata": {},
   "source": [
    "![](Immagini/Base.PNG)"
   ]
  },
  {
   "cell_type": "markdown",
   "metadata": {},
   "source": [
    "## Finestre ad arco"
   ]
  },
  {
   "cell_type": "code",
   "execution_count": 13,
   "metadata": {},
   "outputs": [],
   "source": [
    "## Vedere archi su colonne Santo Stefano\n",
    "\n",
    "def bottomArc(d):\n",
    "    return BEZIER(S1)([[0,0],[0,2.0*d/3.0],[d,2.0*d/3.0],[d,0]])\n",
    "\n",
    "def topArc(d):\n",
    "    return BEZIER(S1)([[0,2*d/3.0], [d,2*d/3.0]])\n",
    "\n",
    "def arc2D(d):\n",
    "    return BEZIER(S2)([bottomArc(d), topArc(d)])\n",
    "\n",
    "def arc3D(d):\n",
    "    def arc3D1(w):\n",
    "        return COMP([T(2)(w), R([2,3])(PI/2)])(PROD([MAP(arc2D(d))(PROD([INTERVALS(1)(8), INTERVALS(1)(1)])), QUOTE([w])]))\n",
    "    return arc3D1\n",
    "\n",
    "def Interarc(d1, d2):\n",
    "    def Interarc1(w):\n",
    "        return CUBOID([d1, 1.5, 2.0*d2/3.0])\n",
    "    return Interarc1\n",
    "\n",
    "def Xarc(d1, d2):\n",
    "    def Xarc1(w):\n",
    "        return RIGHT([RIGHT([Interarc(d1,d2)(w), arc3D(d2)(w)]), Interarc(d1, d2)(w)])\n",
    "    return Xarc1\n",
    "\n",
    "hArco = 15\n",
    "TheArc = Xarc(0.4, 5.5)(1.5)\n",
    "FinestraAdArco = STRUCT([TheArc, T([1,3])([5.9,-hArco])(CUBOID([0.4,1.5,hArco])), T([3])([-hArco])(CUBOID([0.4,1.5,hArco])), \n",
    "                         T([1,3])([6,-hArco]), R([1,3])(PI/2), CUBOID([0.4,1.5,6])])\n",
    "\n",
    "##VIEW(FinestraAdArco)"
   ]
  },
  {
   "cell_type": "markdown",
   "metadata": {},
   "source": [
    "## Stanze laterali"
   ]
  },
  {
   "cell_type": "code",
   "execution_count": 14,
   "metadata": {},
   "outputs": [],
   "source": [
    "lungMuro = 20 \n",
    "hMuro = 30  \n",
    "\n",
    "ExtWall2Da2Finestre = INTERSECTION([MKPOL([[[0,0], [lungMuro-14,0], [lungMuro-14,hMuro], [0,hMuro], [lungMuro-14,hMuro], \n",
    "                                            [lungMuro-11,hMuro], [lungMuro-11, hMuro-24], [lungMuro,0], [lungMuro, hMuro-24], [lungMuro,hMuro], \n",
    "                                            [lungMuro-11,hMuro-6],[lungMuro,hMuro-6]], \n",
    "                                  [range(1,6), [2,8,9,7], [6,10,12,11], [5,6,11,7,2]], [[1],[2],[3]]]), \n",
    "                           PROD([COMP([QUOTE, N(12)])(1), Q(hMuro)])])\n",
    "\n",
    "ExtWall2Db2Finestre = R([1,2])(PI)(ExtWall2Da2Finestre)\n",
    "\n",
    "\n",
    "## Muro con buco rettangolare per inserire finestra\n",
    "MuroCon2Finestre2D = STRUCT([ExtWall2Da2Finestre, T([1])([lungMuro*2-16]), T(2)(hMuro)(ExtWall2Db2Finestre), \n",
    "                             ExtWall2Da2Finestre, T([1,2])([lungMuro*2-16,hMuro]), ExtWall2Db2Finestre])\n",
    "\n",
    "## Muro con 2 finestre 3D\n",
    "MuroCon2Finestre3D = STRUCT([PROD([MuroCon2Finestre2D, QUOTE([1.5])]), T(1)(-lungMuro+8), CUBOID([lungMuro-6,hMuro,1.5])])\n",
    "\n",
    "## Aggiunta finestre\n",
    "\n",
    "finestra = R([2,3])(PI/2+PI)(FinestraAdArco)\n",
    "\n",
    "MuroConFinestre = STRUCT([MuroCon2Finestre3D, T([1,2,3])([9,hArco+6,1.5]), finestra, T(1)(24)(finestra)])\n",
    "\n",
    "\n",
    "## Creo stanza\n",
    "MuroSenzaPorte = T(1)(48)(R([1,3])(PI/2)(CUBOID([lungMuro+14,hMuro,1.5])))\n",
    "Stanza1 = STRUCT([MuroConFinestre, MuroSenzaPorte, T([3])([lungMuro+14])(MuroConFinestre), T(1)(-lungMuro-38.5)(MuroSenzaPorte)])\n",
    "               \n",
    "##VIEW(ExtWall2Da2Finestre)\n",
    "               "
   ]
  },
  {
   "cell_type": "code",
   "execution_count": 15,
   "metadata": {},
   "outputs": [],
   "source": [
    "\n",
    "MuroConPortaCentrale1 = INTERSECTION([MKPOL([[[lungMuro-15,0], [lungMuro-8,0], [lungMuro-6,0], [lungMuro,0], [lungMuro,hMuro], \n",
    "                                   [lungMuro-6, hMuro], [lungMuro-6,hMuro], [lungMuro-8,hMuro],[lungMuro-8,hMuro], \n",
    "                                   [lungMuro-10,hMuro],[0,hMuro], [0,hMuro-12], [lungMuro-15,hMuro-12]],\n",
    "                                  [[10,11,12,13],[1,2,9,10,13],[2,3,7,8,9],[3,4,5,6,7]], range(1,5)]), \n",
    "                           PROD([COMP([QUOTE, N(12)])(1), Q(hMuro)])])\n",
    "\n",
    "MuroConPortaCentrale2 = S(1)(-1)(MuroConPortaCentrale1)\n",
    "MuroConPortaCentrale2D = STRUCT([T(1)(11)(MuroConPortaCentrale2), T(1)(11), MuroConPortaCentrale1])\n",
    "MuroConPortaCentrale3DRistretto = PROD([MuroConPortaCentrale2D, QUOTE([1.5])])\n",
    "MuroConPortaCentrale3D = T(1)(48)(R([1,3])(PI/2)(STRUCT([T(1)(6.8)(MuroConPortaCentrale3DRistretto), CUBOID([6,hMuro,1.5]), \n",
    "                                                         T(1)(5.6+24)(CUBOID([6,hMuro,1.5]))])))\n",
    "\n",
    "Stanza1 = STRUCT([MuroConFinestre, MuroSenzaPorte, T([3])([lungMuro+14])(MuroConFinestre), T(1)(-lungMuro-38.5)(MuroConPortaCentrale3D)])\n",
    "\n",
    "##VIEW(MuroConPortaCentrale3DRistretto)"
   ]
  },
  {
   "cell_type": "code",
   "execution_count": 16,
   "metadata": {},
   "outputs": [
    {
     "data": {
      "text/plain": [
       "<pyplasm.xgepy.Hpc; proxy of <Swig Object of type 'std::shared_ptr< Hpc > *' at 0x000000000DD40990> >"
      ]
     },
     "execution_count": 16,
     "metadata": {},
     "output_type": "execute_result"
    }
   ],
   "source": [
    "VillaCornaroStanzeLaterali = STRUCT([BaseStanze, T([1,2,3])([V1[76][0]-48,V1[76][1],hbasament])(R([2,3])(PI/2)(Stanza1)), \n",
    "                                     T([1,2,3])([V1[28][0]-11,V1[28][1]-35.5,hbasament])(R([2,3])(PI/2)(R([1,3])(PI)(Stanza1))),\n",
    "                                    T(3)(hbasament+.5)(Pianta)])\n",
    "\n",
    "VIEW(VillaCornaroStanzeLaterali)"
   ]
  },
  {
   "cell_type": "markdown",
   "metadata": {},
   "source": [
    "## Stanze accanto a stanze laterali"
   ]
  },
  {
   "cell_type": "code",
   "execution_count": 17,
   "metadata": {},
   "outputs": [],
   "source": [
    "MuroConFinestra2D = STRUCT([ExtWall2Da2Finestre, T([1])([lungMuro*2-16]), T(2)(hMuro)(ExtWall2Db2Finestre)])\n",
    "MuroConFinestra3D = PROD([MuroConFinestra2D, QUOTE([1.5])]) \n",
    "\n",
    "## Aggiunta finestre\n",
    "\n",
    "finestra = R([2,3])(PI/2+PI)(FinestraAdArco)\n",
    "MuroConFinestra = STRUCT([MuroConFinestra3D, T([1,2,3])([9,hArco+6,1.5]), finestra])\n",
    "\n",
    "Stanza2Porte = STRUCT([T([1,3])([23.5,-48])(R([1,3])(PI/2)(MuroConPortaCentrale3D)),T([1,3])([23,-1.5])(CUBOID([25,hMuro,1.5])), \n",
    "                       MuroConPortaCentrale3D, T([3])([lungMuro+14])(MuroConFinestre), \n",
    "                       T(1)(-lungMuro-38.5)(MuroConPortaCentrale3D)])\n",
    "\n",
    "Stanza2PorteOpposta = S(3)(-1)(Stanza2Porte)\n",
    "\n",
    "##VIEW(Stanza2Porte)"
   ]
  },
  {
   "cell_type": "code",
   "execution_count": 18,
   "metadata": {},
   "outputs": [
    {
     "data": {
      "text/plain": [
       "<pyplasm.xgepy.Hpc; proxy of <Swig Object of type 'std::shared_ptr< Hpc > *' at 0x000000000DD4FC30> >"
      ]
     },
     "execution_count": 18,
     "metadata": {},
     "output_type": "execute_result"
    }
   ],
   "source": [
    "VillaCornaroStanzeFrontali = STRUCT([VillaCornaroStanzeLaterali, R([2,3])(PI/2),T([1,2,3])([V1[69][0]+11,hbasament, -V1[76][1]]), \n",
    "                       T([1,3])([36,35.5])(R([1,3])(PI)(Stanza2Porte)), T([1,3])([-82,35.5]), Stanza2PorteOpposta])\n",
    "\n",
    "VIEW(VillaCornaroStanzeFrontali)"
   ]
  },
  {
   "cell_type": "markdown",
   "metadata": {},
   "source": [
    "## Stanze secondarie"
   ]
  },
  {
   "cell_type": "code",
   "execution_count": 19,
   "metadata": {},
   "outputs": [],
   "source": [
    "MuroAllungatoConFinestra1 = STRUCT([MuroConFinestra3D, T(1)(-5), CUBOID([5,hMuro,1.5]), T(1)(28), CUBOID([5,hMuro,1.5])])\n",
    "\n",
    "## Aggiunta finestre\n",
    "\n",
    "finestra = R([2,3])(PI/2+PI)(FinestraAdArco)\n",
    "MuroAllungatoConFinestra = STRUCT([MuroAllungatoConFinestra1, T([1,2,3])([9,hArco+6,1.5]), finestra])\n",
    "\n",
    "StanzaSecondaria1 = STRUCT([MuroConPortaCentrale3D, T([1,3])([20,34])(MuroAllungatoConFinestra), \n",
    "                           T([1,3])([-31.5,0])(MuroConPortaCentrale3D), T(1)(16), MuroConPortaCentrale3DRistretto, \n",
    "                            T(1)(23), CUBOID([8,hMuro, 1.5])])\n",
    "\n",
    "StanzaSecondaria1Opposta = STRUCT([MuroConPortaCentrale3D, T([1,3])([20,34])(MuroAllungatoConFinestra), \n",
    "                           T([1,3])([-31.5,0])(MuroConPortaCentrale3D), T(1)(24), MuroConPortaCentrale3DRistretto, \n",
    "                            T(1)(-8), CUBOID([8,hMuro, 1.5])])\n",
    "\n",
    "##VIEW(StanzaSecondaria1Opposta)"
   ]
  },
  {
   "cell_type": "code",
   "execution_count": 20,
   "metadata": {},
   "outputs": [
    {
     "data": {
      "text/plain": [
       "<pyplasm.xgepy.Hpc; proxy of <Swig Object of type 'std::shared_ptr< Hpc > *' at 0x000000000DD5AE10> >"
      ]
     },
     "execution_count": 20,
     "metadata": {},
     "output_type": "execute_result"
    }
   ],
   "source": [
    "VillaCornaroStanzeSecondarie = STRUCT([VillaCornaroStanzeFrontali, R([2,3])(PI/2), \n",
    "                                       T([1,2,3])([V1[82][0]-35.3, hbasament, -V1[82][1]+15])(R([1,3])(-PI/2)(StanzaSecondaria1)),\n",
    "                                      R([1,3])(PI/2),T([1,2,3])([-V1[22][0]-42.5, hbasament, -V1[22][1]-6.7]), StanzaSecondaria1Opposta])\n",
    "\n",
    "VIEW(VillaCornaroStanzeSecondarie)"
   ]
  },
  {
   "cell_type": "code",
   "execution_count": 21,
   "metadata": {},
   "outputs": [],
   "source": [
    "StanzaSecondaria2 = STRUCT([MuroConPortaCentrale3D, T([1,3])([23,34.1])(MuroConFinestra), T(1)(23)(CUBOID([24, hMuro, 1.5])),\n",
    "                            T([1,3])([24.5,11.5])(R([1,3])(PI/2)(MuroConPortaCentrale3DRistretto)), \n",
    "                            T([1,3])([24.5,1]), R([1,3])(PI/2),CUBOID([10,hMuro,1.5])])\n",
    "\n",
    "StanzaSecondaria2Opposta = STRUCT([MuroConPortaCentrale3D, T([1,3])([23,34.1])(CUBOID([24, hMuro, 1.5])), T(1)(23)(MuroConFinestra),\n",
    "                            T([1,3])([24.5,2])(R([1,3])(PI/2)(MuroConPortaCentrale3DRistretto)), \n",
    "                            T([1,3])([24.5,25]), R([1,3])(PI/2),CUBOID([10,hMuro,1.5])])\n",
    "##VIEW(StanzaSecondaria2Opposta)"
   ]
  },
  {
   "cell_type": "code",
   "execution_count": 22,
   "metadata": {},
   "outputs": [
    {
     "data": {
      "text/plain": [
       "<pyplasm.xgepy.Hpc; proxy of <Swig Object of type 'std::shared_ptr< Hpc > *' at 0x000000000DD5A870> >"
      ]
     },
     "execution_count": 22,
     "metadata": {},
     "output_type": "execute_result"
    }
   ],
   "source": [
    "VillaCornaroStanzeSecondarie1 = STRUCT([VillaCornaroStanzeSecondarie, R([2,3])(PI/2), \n",
    "                                        T([1,2,3])([V1[94][0]+.4, hbasament, -V1[95][1]+25])(R([1,3])(-PI/2)(StanzaSecondaria2)),\n",
    "                                       T([1,2,3])([V1[15][0]-.1, hbasament, -V1[15][1]+25]), R([1,3])(-PI/2), StanzaSecondaria2Opposta])\n",
    "\n",
    "VIEW(VillaCornaroStanzeSecondarie1)"
   ]
  },
  {
   "cell_type": "code",
   "execution_count": 23,
   "metadata": {},
   "outputs": [],
   "source": [
    "StanzaSecondaria3 = STRUCT([T([1,3])([24,34.1])(MuroConPortaCentrale3DRistretto), T(1)(23)(MuroConFinestra),\n",
    "                            T([1,3])([24.5,1.5])(R([1,3])(PI/2)(MuroConPortaCentrale3DRistretto)), \n",
    "                            T([1,3])([24.5,24.5])(R([1,3])(PI/2)(CUBOID([10,hMuro,1.5]))), \n",
    "                            T([1,3])([47,6]), R([1,3])(PI/2), MuroConFinestra, T(1)(-5)(CUBOID([6,hMuro,1.5])), \n",
    "                            T(1)(23)(CUBOID([6,hMuro,1.5]))])\n",
    "\n",
    "\n",
    "StanzaSecondaria3Opposta = STRUCT([T([1,3])([23,34.1])(MuroConFinestra), T(1)(24)(MuroConPortaCentrale3DRistretto),\n",
    "                            T([1,3])([24.5,11.5])(R([1,3])(PI/2)(MuroConPortaCentrale3DRistretto)), \n",
    "                            T([1,3])([24.5,1])(R([1,3])(PI/2)(CUBOID([10,hMuro,1.5]))), \n",
    "                            T([1,3])([47,6]), R([1,3])(PI/2), MuroConFinestra, T(1)(-5)(CUBOID([6,hMuro,1.5])), \n",
    "                                   T(1)(23)(CUBOID([6,hMuro,1.5]))])\n",
    "\n",
    "##VIEW(StanzaSecondaria3)"
   ]
  },
  {
   "cell_type": "code",
   "execution_count": 24,
   "metadata": {},
   "outputs": [
    {
     "data": {
      "text/plain": [
       "<pyplasm.xgepy.Hpc; proxy of <Swig Object of type 'std::shared_ptr< Hpc > *' at 0x000000000DD5A1B0> >"
      ]
     },
     "execution_count": 24,
     "metadata": {},
     "output_type": "execute_result"
    }
   ],
   "source": [
    "VillaCornaroStanzeSecondarieFine = STRUCT([VillaCornaroStanzeSecondarie1, R([2,3])(PI/2), \n",
    "                                           T([1,2,3])([V1[1][0]-1.5, hbasament, -V1[9][1]-22.5])(R([1,3])(PI/2)(StanzaSecondaria3Opposta)),\n",
    "                                          T([1,2,3])([V1[98][0]+.3, hbasament, -V1[101][1]-22.5])(R([1,3])(PI/2)(StanzaSecondaria3))])\n",
    "\n",
    "VIEW(VillaCornaroStanzeSecondarieFine)"
   ]
  },
  {
   "cell_type": "markdown",
   "metadata": {},
   "source": [
    "![](Immagini/Stanze.PNG)"
   ]
  },
  {
   "cell_type": "markdown",
   "metadata": {},
   "source": [
    "## Muri laterali e colonne"
   ]
  },
  {
   "cell_type": "code",
   "execution_count": 25,
   "metadata": {},
   "outputs": [],
   "source": [
    "def Column(args):\n",
    "    w,h = args\n",
    "    basis = CUBOID([w,w,2*w/3])\n",
    "    trunk = CYLINDER([w/2*0.85, h-w])(8)\n",
    "    capitel = CUBOID([w,w,w/3.0])\n",
    "    return TOP([TOP([basis, trunk]), capitel])\n",
    "\n",
    "arcAngle = 2.0*PI/50.4\n",
    "distanzaColonne = 35\n",
    "\n",
    "Colonna = COMP([MKPOL, UKPOL, T(2)(r2 - 0.75), Column])([4, hMuro])\n",
    "Le3Colonne = COMP([MKPOL, UKPOL, STRUCT, NN(3)])([T([1])(10), Colonna])\n",
    "Le6Colonne = COMP([STRUCT, NN(2)])([T(1)(40), Le3Colonne])\n",
    "MuriLaterali = STRUCT([Le6Colonne, R([2,3])(PI/2), R([1,3])(PI/2), T([1,3])([-48,-46]), MuroConFinestra, T(3)(-73), MuroConFinestra])\n",
    "\n",
    "ColonneInterne = STRUCT([Colonna, T(2)(distanzaColonne)(Colonna), T(1)(distanzaColonne), Colonna, T(2)(distanzaColonne), Colonna])\n",
    "\n",
    "##VIEW(ColonneInterne)"
   ]
  },
  {
   "cell_type": "code",
   "execution_count": 26,
   "metadata": {},
   "outputs": [
    {
     "data": {
      "text/plain": [
       "<pyplasm.xgepy.Hpc; proxy of <Swig Object of type 'std::shared_ptr< Hpc > *' at 0x000000000DD6C7B0> >"
      ]
     },
     "execution_count": 26,
     "metadata": {},
     "output_type": "execute_result"
    }
   ],
   "source": [
    "MuroAllungatoConFinestrePorta = STRUCT([CUBOID([6,hMuro,1.5]), T(1)(6), MuroConFinestra, T(1)(20), \n",
    "                                        MuroConPortaCentrale3DRistretto, T(1)(20),MuroConFinestra, T(1)(20), \n",
    "                                        CUBOID([6,hMuro,1.5])])\n",
    " \n",
    "VillaCornaroColonne = STRUCT([VillaCornaroStanzeSecondarieFine, T([1,2,3])([V1[61][0]-44.5, V1[61][1]-52,hbasament])(MuriLaterali),\n",
    "                             T([1,2,3])([V1[61][0]-44.5, -2,hbasament])(Le6Colonne), T([1,2,3])([V1[56][0]+18, V1[10][1]-40,hbasament]),ColonneInterne, R([2,3])(PI/2), \n",
    "                              T([1,2,3])([-18, 0,-39.3])(MuroAllungatoConFinestrePorta),T([1,3])([8, -V1[56][1]+29.6]), MuroConPortaCentrale3DRistretto])\n",
    "\n",
    "VIEW(VillaCornaroColonne)"
   ]
  },
  {
   "cell_type": "markdown",
   "metadata": {},
   "source": [
    "![](Immagini/Piano_Inferiore.PNG)"
   ]
  },
  {
   "cell_type": "markdown",
   "metadata": {},
   "source": [
    "## Parte superiore"
   ]
  },
  {
   "cell_type": "markdown",
   "metadata": {},
   "source": [
    "## Base stanze superiori"
   ]
  },
  {
   "cell_type": "code",
   "execution_count": 27,
   "metadata": {},
   "outputs": [],
   "source": [
    "## Creo base stanze\n",
    "\n",
    "hPianoSuperiore = hMuro+12\n",
    "\n",
    "def basementSup(args):\n",
    "    px1, px2, py1, py2 = args \n",
    "    ##BaseStanza1 = T([1,2])([V1[0][0], V1[7][1]])(CUBOID([V1[1][0]-V1[0][0], V1[8][1]-V1[7][1], 1.5]))\n",
    "    return T([1,2,3])([V1[px2][0], V1[py2][1], hMuro+12])(CUBOID([V1[px1][0]-V1[px2][0], V1[py1][1]-V1[py2][1], 1.5]))\n",
    "    \n",
    "BaseStanzaSuperiore1 = basementSup([1,0,7,8])\n",
    "BaseStanzaSuperiore2 = basementSup([9,8,16,15])\n",
    "BaseStanzaSuperiore = basementSup([68,0,96,68])\n",
    "BaseStanzaSuperiore3 = basementSup([25,24,30,31])\n",
    "BaseStanzaSuperiore4 = basementSup([72,73,74,75])\n",
    "BaseCortileSuperiore = basementSup([56,57,62,63])\n",
    "\n",
    "\n",
    "BaseStanzeSuperiori = STRUCT([Pianta, BaseStanzaSuperiore, BaseStanzaSuperiore3, BaseStanzaSuperiore4, BaseCortileSuperiore])\n",
    "\n",
    "##VIEW(BaseStanzeSuperiori)"
   ]
  },
  {
   "cell_type": "code",
   "execution_count": 28,
   "metadata": {},
   "outputs": [
    {
     "data": {
      "text/plain": [
       "<pyplasm.xgepy.Hpc; proxy of <Swig Object of type 'std::shared_ptr< Hpc > *' at 0x000000000DC40A50> >"
      ]
     },
     "execution_count": 28,
     "metadata": {},
     "output_type": "execute_result"
    }
   ],
   "source": [
    "VillaCornaroBaseSup = STRUCT([VillaCornaroColonne, BaseStanzeSuperiori])\n",
    "VIEW(VillaCornaroBaseSup)"
   ]
  },
  {
   "cell_type": "markdown",
   "metadata": {},
   "source": [
    "## Stanze laterali Superiori"
   ]
  },
  {
   "cell_type": "code",
   "execution_count": 29,
   "metadata": {},
   "outputs": [],
   "source": [
    "hMuro2 = 12\n",
    "\n",
    "ExtWall2DaFinestraSup = INTERSECTION([MKPOL([[[0,0], [lungMuro-14,0], [lungMuro-14,hMuro2], [0,hMuro2], [lungMuro-14,hMuro2], \n",
    "                                            [lungMuro-11,hMuro2], [lungMuro-11, hMuro2-9], [lungMuro,0], [lungMuro, hMuro2-9], [lungMuro,hMuro2], \n",
    "                                            [lungMuro-11,hMuro2-3],[lungMuro,hMuro2-3]], \n",
    "                                  [range(1,6), [2,8,9,7], [6,10,12,11], [5,6,11,7,2]], [[1],[2],[3]]]), \n",
    "                           PROD([COMP([QUOTE, N(12)])(1), Q(hMuro)])])\n",
    "\n",
    "ExtWall2DbFinestraSup = R([1,2])(PI)(ExtWall2DaFinestraSup)\n",
    "\n",
    "## Muro con buco rettangolare per inserire finestra\n",
    "MuroConFinestraSup = STRUCT([ExtWall2DaFinestraSup, T([1,2])([23,hMuro2]),ExtWall2DbFinestraSup])\n",
    "MuroConFinestra2DSup = STRUCT([MuroConFinestraSup, T([1,2])([lungMuro+3,0]), MuroConFinestraSup])\n",
    "\n",
    "## Muro con 2 finestre 3D\n",
    "MuroConFinestre3D = PROD([MuroConFinestra2DSup, QUOTE([1.5])])\n",
    "MuroConFinestra3DSup = PROD([MuroConFinestraSup, QUOTE([1.5])])\n",
    "\n",
    "MuroLateraleSupConFinestre = STRUCT([MuroConFinestre3D, T([1,2])([-15.5,hMuro2]), R([2,3])(PI/2), CUBOID([15.5,1.5,hMuro2]), T(1)(53)])\n",
    "\n",
    "MuroLateraleSup = STRUCT([MuroConFinestra3DSup, T([1,2])([-6,hMuro2]), R([2,3])(PI/2), CUBOID([6,1.5,hMuro2]), T(1)(28),\n",
    "                          CUBOID([6,1.5,hMuro2])])\n",
    "\n",
    "StanzaLateraleSup = STRUCT([MuroLateraleSupConFinestre, R([1,3])(PI/2), T([1,3])([7,-46])(MuroLateraleSup), R([1,3])(PI/2), \n",
    "                            R([1,3])(PI)(T([1,3])([0,34])(MuroLateraleSupConFinestre)), \n",
    "                            R([1,2])(PI/2), T([2,3])([-15.5,-35])(CUBOID([hMuro2,1.5,35]))])\n",
    "\n",
    "StanzaLateraleSupOpposta = STRUCT([MuroLateraleSupConFinestre, R([1,3])(PI/2), T([1,3])([7,-46])(MuroLateraleSup), R([1,3])(PI/2), \n",
    "                            R([1,3])(PI)(T([1,3])([0,34])(MuroLateraleSupConFinestre)), \n",
    "                                   R([1,2])(PI/2), T([2,3])([-15.5,-35])(CUBOID([hMuro2,1.5,35]))])\n",
    "\n",
    "##VIEW(StanzaLateraleSupOpposta)"
   ]
  },
  {
   "cell_type": "code",
   "execution_count": 30,
   "metadata": {},
   "outputs": [
    {
     "data": {
      "text/plain": [
       "<pyplasm.xgepy.Hpc; proxy of <Swig Object of type 'std::shared_ptr< Hpc > *' at 0x000000000DD6CDE0> >"
      ]
     },
     "execution_count": 30,
     "metadata": {},
     "output_type": "execute_result"
    }
   ],
   "source": [
    "VillaCornaroStanzeLateraliSuperiori = STRUCT([VillaCornaroBaseSup, \n",
    "                                              T([1,2,3])([V1[76][0]-46,V1[76][1],hPianoSuperiore])(R([2,3])(PI/2)(StanzaLateraleSup)), \n",
    "                                     T([1,2,3])([V1[28][0]-13,V1[28][1]-35.5,hPianoSuperiore])(R([2,3])(PI/2)(R([1,3])(PI)(StanzaLateraleSupOpposta)))])\n",
    "\n",
    "VIEW(VillaCornaroStanzeLateraliSuperiori)"
   ]
  },
  {
   "cell_type": "markdown",
   "metadata": {},
   "source": [
    "## Stanze accanto a stanze laterali superiori"
   ]
  },
  {
   "cell_type": "code",
   "execution_count": 31,
   "metadata": {},
   "outputs": [],
   "source": [
    "StanzaSuperiore = STRUCT([T([1,3])([23.5,-48])(R([1,3])(PI/2)(MuroConPortaCentrale3D)),T([1,3])([23,-1.5])(CUBOID([25,hMuro,1.5])), \n",
    "                       MuroConPortaCentrale3D, T([3])([lungMuro+14])(MuroConFinestre), \n",
    "                       T(1)(-12)(CUBOID([1.5,hMuro,35]))])\n",
    "\n",
    "StanzaSuperioreOpposta = S(3)(-1)(StanzaSuperiore)\n",
    "\n",
    "##VIEW(StanzaSuperiore)"
   ]
  },
  {
   "cell_type": "code",
   "execution_count": 32,
   "metadata": {},
   "outputs": [
    {
     "data": {
      "text/plain": [
       "<pyplasm.xgepy.Hpc; proxy of <Swig Object of type 'std::shared_ptr< Hpc > *' at 0x000000000DD6CF00> >"
      ]
     },
     "execution_count": 32,
     "metadata": {},
     "output_type": "execute_result"
    }
   ],
   "source": [
    "VillaCornaroStanzeFrontaliSuperiori = STRUCT([VillaCornaroStanzeLateraliSuperiori, R([2,3])(PI/2),T([1,2,3])([V1[69][0]+11,hPianoSuperiore, -V1[76][1]]), \n",
    "                       T([1,3])([36,35.5])(R([1,3])(PI)(StanzaSuperiore)), T([1,3])([-82,35.5]), StanzaSuperioreOpposta])\n",
    "\n",
    "VIEW(VillaCornaroStanzeFrontaliSuperiori)"
   ]
  },
  {
   "cell_type": "markdown",
   "metadata": {},
   "source": [
    "## Stanze secondarie superiori"
   ]
  },
  {
   "cell_type": "code",
   "execution_count": 33,
   "metadata": {},
   "outputs": [],
   "source": [
    "VillaCornaroStanzeSecondarieSuperiori = STRUCT([VillaCornaroStanzeFrontaliSuperiori, R([2,3])(PI/2), \n",
    "                                       T([1,2,3])([V1[82][0]-35.3, hPianoSuperiore, -V1[82][1]+15])(R([1,3])(-PI/2)(StanzaSecondaria1)),\n",
    "                                      R([1,3])(PI/2),T([1,2,3])([-V1[22][0]-42.5, hPianoSuperiore, -V1[22][1]-6.7]), StanzaSecondaria1Opposta])\n",
    "\n",
    "##VIEW(VillaCornaroStanzeSecondarieSuperiori)"
   ]
  },
  {
   "cell_type": "code",
   "execution_count": 34,
   "metadata": {},
   "outputs": [],
   "source": [
    "VillaCornaroStanzeSecondarieSuperiori1 = STRUCT([VillaCornaroStanzeSecondarieSuperiori, R([2,3])(PI/2), \n",
    "                                        T([1,2,3])([V1[94][0]+.4, hPianoSuperiore, -V1[95][1]+25])(R([1,3])(-PI/2)(StanzaSecondaria2)),\n",
    "                                       T([1,2,3])([V1[15][0]-.1, hPianoSuperiore, -V1[15][1]+25]), R([1,3])(-PI/2), StanzaSecondaria2Opposta])\n",
    "\n",
    "##VIEW(VillaCornaroStanzeSecondarieSuperiori1)"
   ]
  },
  {
   "cell_type": "code",
   "execution_count": 35,
   "metadata": {},
   "outputs": [
    {
     "data": {
      "text/plain": [
       "<pyplasm.xgepy.Hpc; proxy of <Swig Object of type 'std::shared_ptr< Hpc > *' at 0x000000000DD7A540> >"
      ]
     },
     "execution_count": 35,
     "metadata": {},
     "output_type": "execute_result"
    }
   ],
   "source": [
    "VillaCornaroStanzeSecondarieSuperioriFine = STRUCT([VillaCornaroStanzeSecondarieSuperiori1, R([2,3])(PI/2), \n",
    "                                           T([1,2,3])([V1[1][0]-1.5, hPianoSuperiore, -V1[9][1]-22.5])(R([1,3])(PI/2)(StanzaSecondaria3Opposta)),\n",
    "                                          T([1,2,3])([V1[98][0]+.3, hPianoSuperiore, -V1[101][1]-22.5])(R([1,3])(PI/2)(StanzaSecondaria3))])\n",
    "\n",
    "VIEW(VillaCornaroStanzeSecondarieSuperioriFine)"
   ]
  },
  {
   "cell_type": "markdown",
   "metadata": {},
   "source": [
    "## Muri laterali e colonne superiori"
   ]
  },
  {
   "cell_type": "code",
   "execution_count": 36,
   "metadata": {},
   "outputs": [
    {
     "data": {
      "text/plain": [
       "<pyplasm.xgepy.Hpc; proxy of <Swig Object of type 'std::shared_ptr< Hpc > *' at 0x000000000DD7AAB0> >"
      ]
     },
     "execution_count": 36,
     "metadata": {},
     "output_type": "execute_result"
    }
   ],
   "source": [
    "MuriLateraliSuperiori = STRUCT([T(3)(1)(Le6Colonne), R([2,3])(PI/2), R([1,3])(PI/2), T([1,2,3])([-48,-1,-46]), MuroConFinestra, T(3)(-73), MuroConFinestra])\n",
    "\n",
    "VillaCornaroColonneSuperiori = STRUCT([VillaCornaroStanzeSecondarieSuperioriFine, T([1,2,3])([V1[61][0]-44.5, V1[61][1]-52,hPianoSuperiore])(MuriLateraliSuperiori),\n",
    "                             T([1,2,3])([V1[61][0]-44.5, -2,hPianoSuperiore+2])(Le6Colonne), T([1,2,3])([V1[56][0]+18, V1[10][1]-40,hPianoSuperiore+2]),ColonneInterne, R([2,3])(PI/2), \n",
    "                              T([1,2,3])([-18, -2,-39.3])(MuroAllungatoConFinestrePorta),T([1,2,3])([8,-2, -V1[56][1]+29.6]), MuroConPortaCentrale3DRistretto])\n",
    "\n",
    "VIEW(VillaCornaroColonneSuperiori)"
   ]
  },
  {
   "cell_type": "markdown",
   "metadata": {},
   "source": [
    "## Ringhiera balcone"
   ]
  },
  {
   "cell_type": "code",
   "execution_count": 37,
   "metadata": {},
   "outputs": [],
   "source": [
    "ColonnaRinghiera = COMP([MKPOL, UKPOL, T(2)(r2 - 0.75), Column])([1.5, 5])\n",
    "\n",
    "SequenzaColonneRinghiera = COMP([MKPOL, UKPOL, STRUCT, NN(19)])([T([1])(4), ColonnaRinghiera])\n",
    "SequenzaColonneRinghieraPosteriore = COMP([MKPOL, UKPOL, STRUCT, NN(18)])([T([1])(4), ColonnaRinghiera])\n",
    "\n",
    "Ringhiera = STRUCT([SequenzaColonneRinghiera, T([1,2,3])([3.7,47.2,5]), CUBOID([1.5+4*19-3.5, 1.5, 1])])\n",
    "RinghieraPosteriore = STRUCT([SequenzaColonneRinghieraPosteriore, T([1,2,3])([3.7,47.2,5]), CUBOID([1.5+4*19-6, 1.5, 1])])\n",
    "\n",
    "##VIEW(RinghieraPosteriore)"
   ]
  },
  {
   "cell_type": "code",
   "execution_count": 38,
   "metadata": {},
   "outputs": [
    {
     "data": {
      "text/plain": [
       "<pyplasm.xgepy.Hpc; proxy of <Swig Object of type 'std::shared_ptr< Hpc > *' at 0x000000000DD7ABA0> >"
      ]
     },
     "execution_count": 38,
     "metadata": {},
     "output_type": "execute_result"
    }
   ],
   "source": [
    "VillaCornaroRinghiera = STRUCT([VillaCornaroColonneSuperiori, T([1,2,3])([V1[61][0]-3.3,139.5,hPianoSuperiore+1.5]), Ringhiera,\n",
    "                               T([1,2])([1,-142]), RinghieraPosteriore])\n",
    "\n",
    "VIEW(VillaCornaroRinghiera)"
   ]
  },
  {
   "cell_type": "markdown",
   "metadata": {},
   "source": [
    "![](Immagini/Piano_Superiore.PNG)"
   ]
  },
  {
   "cell_type": "markdown",
   "metadata": {},
   "source": [
    "## Frontone"
   ]
  },
  {
   "cell_type": "code",
   "execution_count": 39,
   "metadata": {},
   "outputs": [],
   "source": [
    "lungFrontone = 70\n",
    "hFrontone = 22\n",
    "FrontoneA = INTERSECTION([MKPOL([[[0,0], [lungFrontone,0], [lungFrontone/2,hFrontone/2], [lungFrontone/2,hFrontone]], \n",
    "                                  [range(1,5), [1,3,4], [3,2,4]], [[1],[2]]]), \n",
    "                           PROD([COMP([QUOTE, N(lungFrontone)])(1), Q(hFrontone)])])\n",
    "\n",
    "Frontone3D = PROD([FrontoneA, QUOTE([3])])\n",
    "\n",
    "##VIEW(Frontone3D)"
   ]
  },
  {
   "cell_type": "code",
   "execution_count": 40,
   "metadata": {},
   "outputs": [
    {
     "data": {
      "text/plain": [
       "<pyplasm.xgepy.Hpc; proxy of <Swig Object of type 'std::shared_ptr< Hpc > *' at 0x000000000DD7AE70> >"
      ]
     },
     "execution_count": 40,
     "metadata": {},
     "output_type": "execute_result"
    }
   ],
   "source": [
    "VillaCornaroFrontone = COLOR([0.9254,0.8823,0.8588])(STRUCT([VillaCornaroRinghiera, T([1,2,3])([V1[61][0]+2, 48,hPianoSuperiore+hMuro+1]), R([2,3])(PI/2), Frontone3D,\n",
    "                              T([2,3])([-1,-139]), Frontone3D]))\n",
    "\n",
    "VIEW(VillaCornaroFrontone)"
   ]
  },
  {
   "cell_type": "markdown",
   "metadata": {},
   "source": [
    "## Base Tetto"
   ]
  },
  {
   "cell_type": "code",
   "execution_count": 41,
   "metadata": {},
   "outputs": [],
   "source": [
    "PiantaVillaCornaroBaseTetto = STRUCT([VillaCornaroFrontone, T(3)(30), BaseStanzaSuperiore])\n",
    "##VIEW(PiantaVillaCornaroBaseTetto)"
   ]
  },
  {
   "cell_type": "markdown",
   "metadata": {},
   "source": [
    "## Tetto"
   ]
  },
  {
   "cell_type": "code",
   "execution_count": 42,
   "metadata": {},
   "outputs": [],
   "source": [
    "\n",
    "def cylMap():\n",
    "    fx = lambda u: u[1] * sin(u[0])\n",
    "    fy = lambda u: u[1] * cos(u[0])\n",
    "    fz = lambda u: u[2]\n",
    "    return MAP([fx, fy, fz])\n",
    "\n",
    "                                    ##riduce parte inferiore dietro  ## r3 riduce parte davanti\n",
    "HalfTetto = MKPOL([[[0,r2-35,15.0],[40.0,r2,9.0],[24.0,r3+10,8.3],[0,r3,15.0]], [range(1,5)],[[1]]])\n",
    "CurvedHalfTetto = COMP([cylMap(), S([1,3])([2.5*arcAngle/15.0, hw4/8.0])])(HalfTetto)\n",
    "TettoFrontone = COLOR([0.757,0.45,0.3])(STRUCT([CurvedHalfTetto, S(1)(-1), CurvedHalfTetto]))\n",
    "\n",
    "##VIEW(TettoFrontone)"
   ]
  },
  {
   "cell_type": "code",
   "execution_count": 43,
   "metadata": {},
   "outputs": [
    {
     "data": {
      "text/plain": [
       "<pyplasm.xgepy.Hpc; proxy of <Swig Object of type 'std::shared_ptr< Hpc > *' at 0x000000000DD60300> >"
      ]
     },
     "execution_count": 43,
     "metadata": {},
     "output_type": "execute_result"
    }
   ],
   "source": [
    "VillaCornaroTettoFrontone = STRUCT([PiantaVillaCornaroBaseTetto, T([1,2,3])([169,115,hPianoSuperiore+hMuro-32.2]), TettoFrontone, T(3)(1),\n",
    "                           S(2)(-1), TettoFrontone])\n",
    "\n",
    "VIEW(VillaCornaroTettoFrontone)"
   ]
  },
  {
   "cell_type": "markdown",
   "metadata": {},
   "source": [
    "## Tetti laterali"
   ]
  },
  {
   "cell_type": "code",
   "execution_count": 44,
   "metadata": {},
   "outputs": [],
   "source": [
    "lungTettoTrapezio1 = 61\n",
    "hTettoTrapezio1 = 25\n",
    "\n",
    "lungTettoTriangolo1 = 35\n",
    "hTettoTriangolo1 = 25\n",
    "\n",
    "TettoTrapezio12D = INTERSECTION([MKPOL([[[0,0], [lungTettoTrapezio1-20,0], [lungTettoTrapezio1-20,hTettoTrapezio1], \n",
    "                                         [0,hTettoTrapezio1], [lungTettoTrapezio1,0]], \n",
    "                                  [range(1,5), [1,2,3,4], [2,5,3]], [[1],[2]]]), \n",
    "                           PROD([COMP([QUOTE, N(lungTettoTrapezio1)])(1), Q(hTettoTrapezio1)])])\n",
    "\n",
    "TettoTriangolo2D = INTERSECTION([MKPOL([[[0,0], [lungTettoTriangolo1,0], [lungTettoTriangolo1/2,hTettoTriangolo1/2], \n",
    "                                         [lungTettoTriangolo1/2,hTettoTriangolo1]], \n",
    "                                  [range(1,5), [1,3,4], [3,2,4]], [[1],[2]]]), \n",
    "                           PROD([COMP([QUOTE, N(lungTettoTriangolo1)])(1), Q(hTettoTriangolo1)])])\n",
    "\n",
    "TettoTrapezio13D = R([2,3])(PI/3-0.5)(PROD([TettoTrapezio12D, QUOTE([1.5])]))\n",
    "TettoTrapezio23D = R([2,3])(PI/2)(T([2,3])([-7,-34])(TettoTrapezio13D))\n",
    "\n",
    "TettoTriangolo3D = T([1,2,3])([60,0,0])(R([1,2])(0.31)(R([1,3])(-PI/6-0.24)(R([1,2,3])(PI/2-0.4)(PROD([TettoTriangolo2D, QUOTE([1.5])])))))\n",
    "\n",
    "TettoLaterale = COLOR([0.757,0.45,0.3])(R([2,3])(0.23)(STRUCT([TettoTrapezio13D, TettoTrapezio23D, TettoTriangolo3D])))\n",
    "\n",
    "##VIEW(TettoLaterale)"
   ]
  },
  {
   "cell_type": "code",
   "execution_count": 45,
   "metadata": {},
   "outputs": [
    {
     "data": {
      "text/plain": [
       "<pyplasm.xgepy.Hpc; proxy of <Swig Object of type 'std::shared_ptr< Hpc > *' at 0x000000000DD60270> >"
      ]
     },
     "execution_count": 45,
     "metadata": {},
     "output_type": "execute_result"
    }
   ],
   "source": [
    "VillaCornaroTettoLaterale = STRUCT([VillaCornaroTettoFrontone, R([1,2])(PI), T([1,2,3])([-98, -161,hPianoSuperiore+hMuro-19])(TettoLaterale),\n",
    "                                   T([1,2,3])([-239,-161,hPianoSuperiore+hMuro-19]), S(1)(-1), TettoLaterale])\n",
    "\n",
    "VIEW(VillaCornaroTettoLaterale)"
   ]
  },
  {
   "cell_type": "markdown",
   "metadata": {},
   "source": [
    "## Tetto Principale"
   ]
  },
  {
   "cell_type": "code",
   "execution_count": 46,
   "metadata": {},
   "outputs": [
    {
     "data": {
      "text/plain": [
       "<pyplasm.xgepy.Hpc; proxy of <Swig Object of type 'std::shared_ptr< Hpc > *' at 0x000000000DDE25D0> >"
      ]
     },
     "execution_count": 46,
     "metadata": {},
     "output_type": "execute_result"
    }
   ],
   "source": [
    "lungTettoTrapezio2 = 72\n",
    "hTettoTrapezio2 = 71\n",
    "\n",
    "lungTettoTriangolo2 = 117\n",
    "hTettoTriangolo2 = 71\n",
    "\n",
    "TettoTrapezio22Da = INTERSECTION([MKPOL([[[0,0], [lungTettoTrapezio2,0], [lungTettoTrapezio2,hTettoTrapezio2], [lungTettoTrapezio2-15,hTettoTrapezio2], [lungTettoTrapezio2,0]], \n",
    "                                  [range(1,5), [1,2,3,4]], [[1]]]), \n",
    "                           PROD([COMP([QUOTE, N(lungTettoTrapezio2)])(1), Q(hTettoTrapezio2)])])\n",
    "\n",
    "TettoTriangolo22D = INTERSECTION([MKPOL([[[0,0], [lungTettoTriangolo2,0], [lungTettoTriangolo2/2,hTettoTriangolo2/2], \n",
    "                                         [lungTettoTriangolo2/2,hTettoTriangolo2]], \n",
    "                                  [range(1,5), [1,3,4], [3,2,4]], [[1],[2]]]), \n",
    "                           PROD([COMP([QUOTE, N(lungTettoTriangolo2)])(1), Q(hTettoTriangolo2)])])\n",
    "\n",
    "TettoTrapezio22Db = S(1)(-1)(TettoTrapezio22Da)\n",
    "TettoTrapezio22D = STRUCT([TettoTrapezio22Da, T(1)(lungTettoTrapezio2*2), TettoTrapezio22Db])\n",
    "TettoTrapezio23D = R([2,3])(PI/2+PI/3-0.1)(PROD([TettoTrapezio22D, QUOTE([1.5])]))\n",
    "TettoTrapezio23DOpposto = T(2)(-116)(R([2,3])(-PI/2-0.35)(TettoTrapezio23D))\n",
    "TettoTriangolo23D = R([1,3])(PI/6+0.085)(R([1,2])(PI+PI/2)(PROD([TettoTriangolo22D, QUOTE([1.5])])))\n",
    "TettoTriangolo23DOpposto = T([1,2,3])([lungTettoTrapezio2*2-0.3,-lungTettoTriangolo2+0.8,0])(R([1,3])(-PI/6-0.085)(R([1,2])(-PI-PI/2)(PROD([TettoTriangolo22D, QUOTE([1.5])]))))\n",
    "\n",
    "TettoPrincipale = COLOR([0.757,0.45,0.3])(STRUCT([TettoTrapezio23D, TettoTrapezio23DOpposto, TettoTriangolo23D, TettoTriangolo23DOpposto]))\n",
    "\n",
    "\n",
    "##VIEW(TettoPrincipale)"
   ]
  },
  {
   "cell_type": "code",
   "execution_count": 47,
   "metadata": {},
   "outputs": [
    {
     "data": {
      "text/plain": [
       "<pyplasm.xgepy.Hpc; proxy of <Swig Object of type 'std::shared_ptr< Hpc > *' at 0x000000000DD60FC0> >"
      ]
     },
     "execution_count": 47,
     "metadata": {},
     "output_type": "execute_result"
    }
   ],
   "source": [
    "VillaCornaroTettoPrincipale = STRUCT([VillaCornaroTettoLaterale, T([1,2,3])([98,162,hPianoSuperiore+hMuro+0.8]), TettoPrincipale])\n",
    "\n",
    "VIEW(VillaCornaroTettoPrincipale)"
   ]
  },
  {
   "cell_type": "markdown",
   "metadata": {},
   "source": [
    "## Caminetti"
   ]
  },
  {
   "cell_type": "code",
   "execution_count": 50,
   "metadata": {},
   "outputs": [],
   "source": [
    "lungCaminetto = 4 \n",
    "hCaminetto = 4  \n",
    "\n",
    "BoccaCaminettoA = INTERSECTION([MKPOL([[[0,0], [lungCaminetto,0],[lungCaminetto,hCaminetto-3.5],[lungCaminetto-3.5,hCaminetto-3.5],\n",
    "                                       [lungCaminetto-3.5,hCaminetto-0.5],[lungCaminetto,hCaminetto-0.5],[lungCaminetto,hCaminetto],\n",
    "                                       [0,hCaminetto]], [range(1,5), [1,2,3,4], [5,6,7,8], [1,4,5,8]], [[1],[2],[3]]]), \n",
    "                           PROD([COMP([QUOTE, N(lungCaminetto)])(1), Q(hCaminetto)])])\n",
    "\n",
    "BoccaCaminettoB = S(1)(-1)(BoccaCaminettoA)\n",
    "caminetto2D = STRUCT([BoccaCaminettoA, T(1)(4),BoccaCaminettoB])\n",
    "caminetto3D = COLOR([0.8196,0.749,0.72157])(PROD([caminetto2D, QUOTE([17])]))\n",
    "\n",
    "##VIEW(caminetto3D)"
   ]
  },
  {
   "cell_type": "code",
   "execution_count": 51,
   "metadata": {},
   "outputs": [
    {
     "data": {
      "text/plain": [
       "<pyplasm.xgepy.Hpc; proxy of <Swig Object of type 'std::shared_ptr< Hpc > *' at 0x000000000DD7AC30> >"
      ]
     },
     "execution_count": 51,
     "metadata": {},
     "output_type": "execute_result"
    }
   ],
   "source": [
    "VillaCornaroFine = STRUCT([VillaCornaroTettoPrincipale, T([1,2,3])([40,142.5,hPianoSuperiore+hMuro-19]), caminetto3D, T([1,2])([253,-1.5])(caminetto3D),\n",
    "                          T([1,2,3])([78,-40,35]),caminetto3D,T(1)(100)(caminetto3D)])\n",
    "\n",
    "VIEW(VillaCornaroFine)"
   ]
  },
  {
   "cell_type": "markdown",
   "metadata": {},
   "source": [
    "![](Immagini/Villa_finita1.PNG)"
   ]
  },
  {
   "cell_type": "markdown",
   "metadata": {},
   "source": [
    "![](Immagini/Villa_finita2.PNG)"
   ]
  },
  {
   "cell_type": "markdown",
   "metadata": {},
   "source": [
    "![](Immagini/Villa_finita3.PNG)"
   ]
  },
  {
   "cell_type": "code",
   "execution_count": null,
   "metadata": {},
   "outputs": [],
   "source": []
  }
 ],
 "metadata": {
  "kernelspec": {
   "display_name": "Python 2",
   "language": "python",
   "name": "python2"
  },
  "language_info": {
   "codemirror_mode": {
    "name": "ipython",
    "version": 2
   },
   "file_extension": ".py",
   "mimetype": "text/x-python",
   "name": "python",
   "nbconvert_exporter": "python",
   "pygments_lexer": "ipython2",
   "version": "2.7.12"
  }
 },
 "nbformat": 4,
 "nbformat_minor": 2
}
