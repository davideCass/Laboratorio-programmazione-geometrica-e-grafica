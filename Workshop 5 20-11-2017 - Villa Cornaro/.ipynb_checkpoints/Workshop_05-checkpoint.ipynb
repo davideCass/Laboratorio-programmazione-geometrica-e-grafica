{
 "cells": [
  {
   "cell_type": "markdown",
   "metadata": {},
   "source": [
    "# Workshop_05"
   ]
  },
  {
   "cell_type": "code",
   "execution_count": 2,
   "metadata": {},
   "outputs": [
    {
     "name": "stdout",
     "output_type": "stream",
     "text": [
      "Evaluating fenvs.py..\n",
      "...fenvs.py imported in 0.00725580037363 seconds\n"
     ]
    },
    {
     "name": "stderr",
     "output_type": "stream",
     "text": [
      "c:\\program files\\python27\\lib\\site-packages\\larlib\\larstruct.py:233: FutureWarning: comparison to `None` will result in an elementwise object comparison in the future.\n",
      "  self.body = [item for item in data if item != None]\n"
     ]
    }
   ],
   "source": [
    "## leggo i vertici dal file .lines e li trascrivo in un dizionario chiave = vertice, valore = indice così vengono eliminati i\n",
    "## duplicati\n",
    "\n",
    "from collections import defaultdict\n",
    "from larlib import*\n",
    "\n",
    "with open(\"pianta_villa_cornaro.lines\") as f:\n",
    "    i = 0\n",
    "    V = {}\n",
    "    for line in f:\n",
    "        x1 = round(float(line.split(\",\")[0]),7)     ## scrivo la coordinata e la tronco alle prima 7 cifre dopo la virgola\n",
    "        y1 = round(float(line.split(\",\")[1]),7) \n",
    "        x2 = round(float(line.split(\",\")[2]),7)\n",
    "        y2 = round(float(line.split(\",\")[3]),7)\n",
    "        V[(x1,y1)] = i       \n",
    "        V[(x2,y2)] = i+1\n",
    "        i = i+2\n",
    "\n",
    "## creo un dizionario di segmenti dagli indici dei vertici in V \n",
    "\n",
    "with open(\"pianta_villa_cornaro.lines\") as f:\n",
    "    EV = []\n",
    "    for line in f:\n",
    "        x1 = round(float(line.split(\",\")[0]),7)\n",
    "        y1 = round(float(line.split(\",\")[1]),7) \n",
    "        x2 = round(float(line.split(\",\")[2]),7)\n",
    "        y2 = round(float(line.split(\",\")[3]),7)\n",
    "        EV.append([V[(x1,y1)], V[(x2,y2)]])\n",
    "        \n",
    "      "
   ]
  },
  {
   "cell_type": "code",
   "execution_count": 7,
   "metadata": {},
   "outputs": [
    {
     "name": "stdout",
     "output_type": "stream",
     "text": [
      "478.23065\n",
      "195.02365\n",
      "315.62131\n",
      "360.76926\n",
      "406.69513\n",
      "507.843563\n",
      "269.105071\n",
      "195.02365\n",
      "195.02365\n",
      "478.23065\n",
      "598.16111\n",
      "195.023655\n",
      "598.16111\n",
      "263.59204\n",
      "478.260781\n",
      "478.264223\n",
      "406.92264\n",
      "406.7928\n",
      "360.76926\n",
      "195.02365\n",
      "195.062136\n",
      "406.94202\n",
      "478.244854\n",
      "406.92264\n",
      "508.175603\n",
      "269.10672\n",
      "269.10672\n",
      "195.02365\n",
      "269.105063\n",
      "77.871635\n",
      "508.175603\n",
      "195.023655\n",
      "412.78857\n",
      "195.015536\n",
      "478.24582\n",
      "269.105063\n",
      "166.01402\n",
      "195.02365\n",
      "195.062136\n",
      "478.24582\n",
      "195.02365\n",
      "478.24582\n",
      "478.25912\n",
      "406.7928\n",
      "269.105071\n",
      "315.62131\n",
      "263.59204\n",
      "478.25912\n",
      "412.78857\n",
      "507.843563\n",
      "478.244854\n",
      "166.01402\n",
      "269.105063\n",
      "195.02365\n",
      "406.94202\n",
      "166.60866\n",
      "166.60866\n",
      "195.015536\n",
      "269.105063\n",
      "478.264223\n",
      "406.69513\n",
      "77.871635\n",
      "478.260781\n"
     ]
    }
   ],
   "source": [
    "for i in V: print(i[0])"
   ]
  },
  {
   "cell_type": "code",
   "execution_count": 78,
   "metadata": {},
   "outputs": [
    {
     "data": {
      "text/plain": [
       "[[7, 2],\n",
       " [2, 4],\n",
       " [4, 6],\n",
       " [6, 7],\n",
       " [15, 10],\n",
       " [10, 12],\n",
       " [12, 14],\n",
       " [14, 15],\n",
       " [23, 18],\n",
       " [18, 20],\n",
       " [20, 22],\n",
       " [22, 23],\n",
       " [31, 26],\n",
       " [26, 28],\n",
       " [28, 30],\n",
       " [30, 31],\n",
       " [39, 34],\n",
       " [34, 36],\n",
       " [36, 38],\n",
       " [38, 39],\n",
       " [47, 42],\n",
       " [42, 44],\n",
       " [44, 46],\n",
       " [46, 47],\n",
       " [55, 50],\n",
       " [50, 52],\n",
       " [52, 54],\n",
       " [54, 55],\n",
       " [63, 58],\n",
       " [58, 60],\n",
       " [60, 62],\n",
       " [62, 63],\n",
       " [71, 119],\n",
       " [119, 68],\n",
       " [68, 70],\n",
       " [70, 71],\n",
       " [79, 74],\n",
       " [74, 76],\n",
       " [76, 78],\n",
       " [78, 79],\n",
       " [87, 82],\n",
       " [82, 84],\n",
       " [84, 86],\n",
       " [86, 87],\n",
       " [95, 90],\n",
       " [90, 92],\n",
       " [92, 94],\n",
       " [94, 95],\n",
       " [103, 98],\n",
       " [98, 100],\n",
       " [100, 102],\n",
       " [102, 103],\n",
       " [111, 106],\n",
       " [106, 108],\n",
       " [108, 110],\n",
       " [110, 111],\n",
       " [119, 114],\n",
       " [114, 116],\n",
       " [116, 118],\n",
       " [118, 119],\n",
       " [127, 122],\n",
       " [122, 124],\n",
       " [124, 126],\n",
       " [126, 127]]"
      ]
     },
     "execution_count": 78,
     "metadata": {},
     "output_type": "execute_result"
    }
   ],
   "source": [
    "EV"
   ]
  },
  {
   "cell_type": "code",
   "execution_count": null,
   "metadata": {},
   "outputs": [],
   "source": []
  }
 ],
 "metadata": {
  "kernelspec": {
   "display_name": "Python 2",
   "language": "python",
   "name": "python2"
  },
  "language_info": {
   "codemirror_mode": {
    "name": "ipython",
    "version": 2
   },
   "file_extension": ".py",
   "mimetype": "text/x-python",
   "name": "python",
   "nbconvert_exporter": "python",
   "pygments_lexer": "ipython2",
   "version": "2.7.12"
  }
 },
 "nbformat": 4,
 "nbformat_minor": 2
}
