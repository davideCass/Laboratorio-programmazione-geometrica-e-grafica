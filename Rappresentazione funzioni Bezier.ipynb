{
 "cells": [
  {
   "cell_type": "code",
   "execution_count": 13,
   "metadata": {},
   "outputs": [
    {
     "data": {
      "text/plain": [
       "<pyplasm.xgepy.Hpc; proxy of <Swig Object of type 'std::shared_ptr< Hpc > *' at 0x0000000007341360> >"
      ]
     },
     "execution_count": 13,
     "metadata": {},
     "output_type": "execute_result"
    }
   ],
   "source": [
    "from larlib import*\n",
    "\n",
    "y1 = lambda u: (-u[0]**3 + 3*u[0]**2 - 3*u[0] +1)         ## ** = POTENZA\n",
    "y2 = lambda u: (3*u[0]**3 - 6*u[0]**2 + 3*u[0])\n",
    "y3 = lambda u: (-3*u[0]**3 + 3*u[0]**2)\n",
    "y4 = lambda u: (u[0]**3)\n",
    "x = lambda u: u[0]\n",
    "\n",
    "dom = INTERVALS(1)(32)\n",
    "\n",
    "curve1 = MAP([x,y1])(dom)\n",
    "curve2 = MAP([x,y2])(dom)\n",
    "curve3 = MAP([x,y3])(dom)\n",
    "curve4 = MAP([x,y4])(dom)\n",
    "\n",
    "VIEW(STRUCT([SKEL_1(CUBOID([1,1])), curve1, curve2, curve3, curve4])) "
   ]
  },
  {
   "cell_type": "code",
   "execution_count": null,
   "metadata": {},
   "outputs": [],
   "source": []
  }
 ],
 "metadata": {
  "kernelspec": {
   "display_name": "Python 2",
   "language": "python",
   "name": "python2"
  },
  "language_info": {
   "codemirror_mode": {
    "name": "ipython",
    "version": 2
   },
   "file_extension": ".py",
   "mimetype": "text/x-python",
   "name": "python",
   "nbconvert_exporter": "python",
   "pygments_lexer": "ipython2",
   "version": "2.7.12"
  }
 },
 "nbformat": 4,
 "nbformat_minor": 2
}
