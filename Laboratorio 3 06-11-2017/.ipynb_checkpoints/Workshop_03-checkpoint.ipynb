{
 "cells": [
  {
   "cell_type": "markdown",
   "metadata": {},
   "source": [
    "# Workshop 3: Temple 2"
   ]
  },
  {
   "cell_type": "markdown",
   "metadata": {},
   "source": [
    "![](Immagini/temple2.png)"
   ]
  },
  {
   "cell_type": "code",
   "execution_count": 27,
   "metadata": {},
   "outputs": [
    {
     "name": "stdout",
     "output_type": "stream",
     "text": [
      "Child 3\n"
     ]
    },
    {
     "data": {
      "text/plain": [
       "<pyplasm.xgepy.Hpc; proxy of <Swig Object of type 'std::shared_ptr< Hpc > *' at 0x00000000052C27B0> >"
      ]
     },
     "execution_count": 27,
     "metadata": {},
     "output_type": "execute_result"
    }
   ],
   "source": [
    "from pyplasm import*\n",
    "\n",
    "## MODIFICO LA FUNZIONE SPHERE PER CREARE MEZZA SFERA CHE RAPPRESENTA LA CAPPELLA DELLA STRUTTURA\n",
    "## E LA RUOTO CON R\n",
    "\n",
    "def SPHERE (radius):\n",
    "    def GSPHERE0 (subds):\n",
    "        N , M = subds\n",
    "        domain = Hpc(Grid([N*[PI/N],M*[PI/M]]))\n",
    "        domain = MAT([[1,0,0,0],[-PI/2,1,0,0],[-PI,0,1,0],[0,0,0,1]])(domain)\n",
    "        fx  = lambda p: radius * math.cos(p[0]) * math.sin  (p[1])\n",
    "        fy  = lambda p: radius * math.cos(p[0]) * math.cos (p[1])\n",
    "        fz  = lambda p: radius * math.sin(p[0])\n",
    "        ret=  GMAP([fx, fy, fz])(domain)\n",
    "        ret= R([1,3])(-PI/2)(ret)\n",
    "        return ret\n",
    "    return GSPHERE0\n",
    "\n",
    "## CREAZIONE CAPPELLA CENTRALE\n",
    "\n",
    "sezione_sopra_cappella = TOP([CYLINDER([0.4,0.2])(8), CONE([0.1,1])(16)])\n",
    "cappella = TOP([T(3)(1.7)(JOIN(SPHERE(1.5)([6,24]))), sezione_sopra_cappella])\n",
    "struttura_cappella = STRUCT([CYLINDER([1.5,1.7])(8), cappella])\n",
    "\n",
    "VIEW(struttura_cappella)"
   ]
  },
  {
   "cell_type": "markdown",
   "metadata": {},
   "source": [
    "![](Immagini/cappella.PNG)"
   ]
  },
  {
   "cell_type": "code",
   "execution_count": 28,
   "metadata": {},
   "outputs": [
    {
     "name": "stdout",
     "output_type": "stream",
     "text": [
      "Child 3\n"
     ]
    },
    {
     "data": {
      "text/plain": [
       "<pyplasm.xgepy.Hpc; proxy of <Swig Object of type 'std::shared_ptr< Hpc > *' at 0x00000000052C29C0> >"
      ]
     },
     "execution_count": 28,
     "metadata": {},
     "output_type": "execute_result"
    }
   ],
   "source": [
    "## CREAZIONE PARALLELEPIPEDO CENTRALE CON CAPPELLA CENTRALE\n",
    "struttura_centrale_bassa = CUBOID([6,6,4])\n",
    "struttura_centrale = STRUCT([TOP([struttura_centrale_bassa, struttura_cappella])])\n",
    "\n",
    "## CREAZIONE STRUTTURA PARALLELEPIPEDO CON CAPPELLA CENTRALE E LE 4 CAPPELLE SUPERIORI PIU' PICCOLE\n",
    "\n",
    "sezione_sopra_cappella_laterale = TOP([CYLINDER([0.2,0.1])(8), CONE([0.05,0.5])(16)])\n",
    "cappella_laterale = TOP([T(3)(0.8)(JOIN(SPHERE(0.8)([6,24]))), sezione_sopra_cappella_laterale])\n",
    "cappella_laterale = STRUCT([CYLINDER([0.8,0.8])(24), cappella_laterale])\n",
    "cappella_laterale_1 = T([1,2,3])([5,5,4])(cappella_laterale)\n",
    "cappella_laterale_2 = T([1,2,3])([1,1,4])(cappella_laterale)\n",
    "cappella_laterale_3 = T([1,2,3])([1,5,4])(cappella_laterale)\n",
    "cappella_laterale_4 = T([1,2,3])([5,1,4])(cappella_laterale)\n",
    "struttura_completa = STRUCT([struttura_centrale, cappella_laterale_1, cappella_laterale_2, cappella_laterale_3,cappella_laterale_4])\n",
    "\n",
    "VIEW(struttura_completa)"
   ]
  },
  {
   "cell_type": "markdown",
   "metadata": {},
   "source": [
    "![](Immagini/struttura_con_cappelle.PNG)"
   ]
  },
  {
   "cell_type": "code",
   "execution_count": 29,
   "metadata": {
    "scrolled": false
   },
   "outputs": [
    {
     "name": "stdout",
     "output_type": "stream",
     "text": [
      "Child 3\n",
      "Child 3\n"
     ]
    },
    {
     "data": {
      "text/plain": [
       "<pyplasm.xgepy.Hpc; proxy of <Swig Object of type 'std::shared_ptr< Hpc > *' at 0x000000000BB9BB40> >"
      ]
     },
     "execution_count": 29,
     "metadata": {},
     "output_type": "execute_result"
    }
   ],
   "source": [
    "## CREAZIONE CAPPELLE LATERALI, AL LIVELLO DEL TERRENO, CON LE ARCATE\n",
    "## PER POTER USARE LA DIFFERENCE CON LE SFERE DEVO TRASFORMARE TUTTE LE STRUTTURE CHE SONO COINVOLTE\n",
    "## NELLA DIFFERENCE CON IL JOIN\n",
    "\n",
    "cilindro = JOIN(CYLINDER([0.8,2.7])(24))\n",
    "mezza_sfera = T(3)(2.7)(JOIN(SPHERE(0.8)([6,24])))\n",
    "cilindro_differenza = JOIN(CYLINDER([0.6,2.5])(24))\n",
    "struttura_cappella_laterale = DIFFERENCE([UNION([cilindro, mezza_sfera]), cilindro_differenza])\n",
    "arcata_1 = UNION([JOIN(CYLINDER([0.3,2])(24)), T(3)(2)(JOIN(SPHERE(0.3)([6,24])))])\n",
    "arcata_2 = T([1,2])([-0.33,0.6])(arcata_1)\n",
    "arcata_3 = T([1,2])([-0.33,-0.6])(arcata_1)\n",
    "arcata_4 = T(1)(-1.4)(arcata_1)\n",
    "arcata_5 = T([1,2])([-1,-0.6])(arcata_1)\n",
    "arcata_6 = T([1,2])([-1, 0.6])(arcata_1)\n",
    "cilindro_base = JOIN(CYLINDER([0.8,0.2])(24))\n",
    "complesso_arcate = UNION([arcata_1, arcata_2, arcata_3, arcata_4, arcata_5,arcata_6])\n",
    "struttura_laterale_con_arcate = DIFFERENCE([struttura_cappella_laterale, T(1)(0.7)(complesso_arcate)])\n",
    "struttura_laterale_con_arcate = STRUCT([struttura_laterale_con_arcate, cilindro_base])\n",
    "\n",
    "VIEW(struttura_laterale_con_arcate)"
   ]
  },
  {
   "cell_type": "markdown",
   "metadata": {},
   "source": [
    "![](Immagini/cappella_con_arcate.PNG)"
   ]
  },
  {
   "cell_type": "code",
   "execution_count": null,
   "metadata": {},
   "outputs": [],
   "source": [
    "## CREAZIONE STRUTTURA CON LE CAPPELLE LATERALI\n",
    "struttura_laterale_con_arcate_1 = T([1,2])([-0.2,3])(struttura_laterale_con_arcate)\n",
    "struttura_laterale_con_arcate_2 = T([1,2])([6.2,3])(struttura_laterale_con_arcate)\n",
    "struttura_laterale_con_arcate_3 = T([1,2])([3,-0.2])(struttura_laterale_con_arcate)\n",
    "struttura_laterale_con_arcate_4 = T([1,2])([3,6.2])(struttura_laterale_con_arcate)\n",
    "\n",
    "struttura_completa_finita = STRUCT([struttura_completa, struttura_laterale_con_arcate_1, struttura_laterale_con_arcate_2, struttura_laterale_con_arcate_3, struttura_laterale_con_arcate_4])\n",
    "VIEW(struttura_completa_finita)"
   ]
  },
  {
   "cell_type": "markdown",
   "metadata": {},
   "source": [
    "![](Immagini/struttura_completa.PNG)"
   ]
  },
  {
   "cell_type": "code",
   "execution_count": null,
   "metadata": {},
   "outputs": [],
   "source": []
  }
 ],
 "metadata": {
  "kernelspec": {
   "display_name": "Python 2",
   "language": "python",
   "name": "python2"
  },
  "language_info": {
   "codemirror_mode": {
    "name": "ipython",
    "version": 2
   },
   "file_extension": ".py",
   "mimetype": "text/x-python",
   "name": "python",
   "nbconvert_exporter": "python",
   "pygments_lexer": "ipython2",
   "version": "2.7.12"
  }
 },
 "nbformat": 4,
 "nbformat_minor": 2
}
